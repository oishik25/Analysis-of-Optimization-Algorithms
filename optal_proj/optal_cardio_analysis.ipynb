{
 "cells": [
  {
   "cell_type": "markdown",
   "metadata": {
    "id": "eJMzRa8L8w4Q"
   },
   "source": [
    "# Analysis of Cardiovascular Dataset using different optimizers, models and learning rates\n",
    "\n",
    "### Presentation By: Oishik Dasgupta\n",
    "### Under the guidance of Dr. Mrinmay Maharaj"
   ]
  },
  {
   "cell_type": "markdown",
   "metadata": {},
   "source": [
    "<img src=\"heart.JPG\" width=\"400\">"
   ]
  },
  {
   "cell_type": "markdown",
   "metadata": {
    "id": "MXmP7a9f8w4U"
   },
   "source": [
    "# Exploring and Processing the Data"
   ]
  },
  {
   "cell_type": "markdown",
   "metadata": {},
   "source": [
    "### Dataset Link: https://www.kaggle.com/sulianova/cardiovascular-disease-dataset"
   ]
  },
  {
   "cell_type": "markdown",
   "metadata": {
    "id": "QBO-leR_8w4V"
   },
   "source": [
    "We first have to read in the CSV file that we've been given. We'll use a package called pandas for that:"
   ]
  },
  {
   "cell_type": "code",
   "execution_count": 259,
   "metadata": {
    "id": "WIqyeecz8w4W"
   },
   "outputs": [],
   "source": [
    "import pandas as pd\n",
    "import numpy as np\n",
    "from pandas import Series, DataFrame\n",
    "import matplotlib.pyplot as plt\n",
    "import seaborn as sns\n",
    "%matplotlib inline\n",
    "sns.set_style(\"whitegrid\")"
   ]
  },
  {
   "cell_type": "code",
   "execution_count": 260,
   "metadata": {
    "id": "1ZkXijMp8w4X"
   },
   "outputs": [],
   "source": [
    "df = pd.read_csv('cardio_train.csv',sep=\";\")"
   ]
  },
  {
   "cell_type": "code",
   "execution_count": 261,
   "metadata": {},
   "outputs": [
    {
     "data": {
      "text/html": [
       "<div>\n",
       "<style scoped>\n",
       "    .dataframe tbody tr th:only-of-type {\n",
       "        vertical-align: middle;\n",
       "    }\n",
       "\n",
       "    .dataframe tbody tr th {\n",
       "        vertical-align: top;\n",
       "    }\n",
       "\n",
       "    .dataframe thead th {\n",
       "        text-align: right;\n",
       "    }\n",
       "</style>\n",
       "<table border=\"1\" class=\"dataframe\">\n",
       "  <thead>\n",
       "    <tr style=\"text-align: right;\">\n",
       "      <th></th>\n",
       "      <th>id</th>\n",
       "      <th>age</th>\n",
       "      <th>gender</th>\n",
       "      <th>height</th>\n",
       "      <th>weight</th>\n",
       "      <th>ap_hi</th>\n",
       "      <th>ap_lo</th>\n",
       "      <th>cholesterol</th>\n",
       "      <th>gluc</th>\n",
       "      <th>smoke</th>\n",
       "      <th>alco</th>\n",
       "      <th>active</th>\n",
       "      <th>cardio</th>\n",
       "      <th>BMI</th>\n",
       "      <th>Pulse_pressure</th>\n",
       "    </tr>\n",
       "  </thead>\n",
       "  <tbody>\n",
       "    <tr>\n",
       "      <th>0</th>\n",
       "      <td>0</td>\n",
       "      <td>50.0</td>\n",
       "      <td>2</td>\n",
       "      <td>1.68</td>\n",
       "      <td>62.0</td>\n",
       "      <td>110</td>\n",
       "      <td>80</td>\n",
       "      <td>1</td>\n",
       "      <td>1</td>\n",
       "      <td>0</td>\n",
       "      <td>0</td>\n",
       "      <td>1</td>\n",
       "      <td>0</td>\n",
       "      <td>21.97</td>\n",
       "      <td>30</td>\n",
       "    </tr>\n",
       "    <tr>\n",
       "      <th>1</th>\n",
       "      <td>1</td>\n",
       "      <td>55.0</td>\n",
       "      <td>1</td>\n",
       "      <td>1.56</td>\n",
       "      <td>85.0</td>\n",
       "      <td>140</td>\n",
       "      <td>90</td>\n",
       "      <td>3</td>\n",
       "      <td>1</td>\n",
       "      <td>0</td>\n",
       "      <td>0</td>\n",
       "      <td>1</td>\n",
       "      <td>1</td>\n",
       "      <td>34.93</td>\n",
       "      <td>50</td>\n",
       "    </tr>\n",
       "    <tr>\n",
       "      <th>2</th>\n",
       "      <td>2</td>\n",
       "      <td>51.0</td>\n",
       "      <td>1</td>\n",
       "      <td>1.65</td>\n",
       "      <td>64.0</td>\n",
       "      <td>130</td>\n",
       "      <td>70</td>\n",
       "      <td>3</td>\n",
       "      <td>1</td>\n",
       "      <td>0</td>\n",
       "      <td>0</td>\n",
       "      <td>0</td>\n",
       "      <td>1</td>\n",
       "      <td>23.51</td>\n",
       "      <td>60</td>\n",
       "    </tr>\n",
       "    <tr>\n",
       "      <th>3</th>\n",
       "      <td>3</td>\n",
       "      <td>48.0</td>\n",
       "      <td>2</td>\n",
       "      <td>1.69</td>\n",
       "      <td>82.0</td>\n",
       "      <td>150</td>\n",
       "      <td>100</td>\n",
       "      <td>1</td>\n",
       "      <td>1</td>\n",
       "      <td>0</td>\n",
       "      <td>0</td>\n",
       "      <td>1</td>\n",
       "      <td>1</td>\n",
       "      <td>28.71</td>\n",
       "      <td>50</td>\n",
       "    </tr>\n",
       "    <tr>\n",
       "      <th>4</th>\n",
       "      <td>4</td>\n",
       "      <td>47.0</td>\n",
       "      <td>1</td>\n",
       "      <td>1.56</td>\n",
       "      <td>56.0</td>\n",
       "      <td>100</td>\n",
       "      <td>60</td>\n",
       "      <td>1</td>\n",
       "      <td>1</td>\n",
       "      <td>0</td>\n",
       "      <td>0</td>\n",
       "      <td>0</td>\n",
       "      <td>0</td>\n",
       "      <td>23.01</td>\n",
       "      <td>40</td>\n",
       "    </tr>\n",
       "    <tr>\n",
       "      <th>...</th>\n",
       "      <td>...</td>\n",
       "      <td>...</td>\n",
       "      <td>...</td>\n",
       "      <td>...</td>\n",
       "      <td>...</td>\n",
       "      <td>...</td>\n",
       "      <td>...</td>\n",
       "      <td>...</td>\n",
       "      <td>...</td>\n",
       "      <td>...</td>\n",
       "      <td>...</td>\n",
       "      <td>...</td>\n",
       "      <td>...</td>\n",
       "      <td>...</td>\n",
       "      <td>...</td>\n",
       "    </tr>\n",
       "    <tr>\n",
       "      <th>69995</th>\n",
       "      <td>99993</td>\n",
       "      <td>52.0</td>\n",
       "      <td>2</td>\n",
       "      <td>1.68</td>\n",
       "      <td>76.0</td>\n",
       "      <td>120</td>\n",
       "      <td>80</td>\n",
       "      <td>1</td>\n",
       "      <td>1</td>\n",
       "      <td>1</td>\n",
       "      <td>0</td>\n",
       "      <td>1</td>\n",
       "      <td>0</td>\n",
       "      <td>26.93</td>\n",
       "      <td>40</td>\n",
       "    </tr>\n",
       "    <tr>\n",
       "      <th>69996</th>\n",
       "      <td>99995</td>\n",
       "      <td>61.0</td>\n",
       "      <td>1</td>\n",
       "      <td>1.58</td>\n",
       "      <td>126.0</td>\n",
       "      <td>140</td>\n",
       "      <td>90</td>\n",
       "      <td>2</td>\n",
       "      <td>2</td>\n",
       "      <td>0</td>\n",
       "      <td>0</td>\n",
       "      <td>1</td>\n",
       "      <td>1</td>\n",
       "      <td>50.47</td>\n",
       "      <td>50</td>\n",
       "    </tr>\n",
       "    <tr>\n",
       "      <th>69997</th>\n",
       "      <td>99996</td>\n",
       "      <td>52.0</td>\n",
       "      <td>2</td>\n",
       "      <td>1.83</td>\n",
       "      <td>105.0</td>\n",
       "      <td>180</td>\n",
       "      <td>90</td>\n",
       "      <td>3</td>\n",
       "      <td>1</td>\n",
       "      <td>0</td>\n",
       "      <td>1</td>\n",
       "      <td>0</td>\n",
       "      <td>1</td>\n",
       "      <td>31.35</td>\n",
       "      <td>90</td>\n",
       "    </tr>\n",
       "    <tr>\n",
       "      <th>69998</th>\n",
       "      <td>99998</td>\n",
       "      <td>61.0</td>\n",
       "      <td>1</td>\n",
       "      <td>1.63</td>\n",
       "      <td>72.0</td>\n",
       "      <td>135</td>\n",
       "      <td>80</td>\n",
       "      <td>1</td>\n",
       "      <td>2</td>\n",
       "      <td>0</td>\n",
       "      <td>0</td>\n",
       "      <td>0</td>\n",
       "      <td>1</td>\n",
       "      <td>27.10</td>\n",
       "      <td>55</td>\n",
       "    </tr>\n",
       "    <tr>\n",
       "      <th>69999</th>\n",
       "      <td>99999</td>\n",
       "      <td>56.0</td>\n",
       "      <td>1</td>\n",
       "      <td>1.70</td>\n",
       "      <td>72.0</td>\n",
       "      <td>120</td>\n",
       "      <td>80</td>\n",
       "      <td>2</td>\n",
       "      <td>1</td>\n",
       "      <td>0</td>\n",
       "      <td>0</td>\n",
       "      <td>1</td>\n",
       "      <td>0</td>\n",
       "      <td>24.91</td>\n",
       "      <td>40</td>\n",
       "    </tr>\n",
       "  </tbody>\n",
       "</table>\n",
       "<p>70000 rows × 15 columns</p>\n",
       "</div>"
      ],
      "text/plain": [
       "          id   age  gender  height  weight  ap_hi  ap_lo  cholesterol  gluc  \\\n",
       "0          0  50.0       2    1.68    62.0    110     80            1     1   \n",
       "1          1  55.0       1    1.56    85.0    140     90            3     1   \n",
       "2          2  51.0       1    1.65    64.0    130     70            3     1   \n",
       "3          3  48.0       2    1.69    82.0    150    100            1     1   \n",
       "4          4  47.0       1    1.56    56.0    100     60            1     1   \n",
       "...      ...   ...     ...     ...     ...    ...    ...          ...   ...   \n",
       "69995  99993  52.0       2    1.68    76.0    120     80            1     1   \n",
       "69996  99995  61.0       1    1.58   126.0    140     90            2     2   \n",
       "69997  99996  52.0       2    1.83   105.0    180     90            3     1   \n",
       "69998  99998  61.0       1    1.63    72.0    135     80            1     2   \n",
       "69999  99999  56.0       1    1.70    72.0    120     80            2     1   \n",
       "\n",
       "       smoke  alco  active  cardio    BMI  Pulse_pressure  \n",
       "0          0     0       1       0  21.97              30  \n",
       "1          0     0       1       1  34.93              50  \n",
       "2          0     0       0       1  23.51              60  \n",
       "3          0     0       1       1  28.71              50  \n",
       "4          0     0       0       0  23.01              40  \n",
       "...      ...   ...     ...     ...    ...             ...  \n",
       "69995      1     0       1       0  26.93              40  \n",
       "69996      0     0       1       1  50.47              50  \n",
       "69997      0     1       0       1  31.35              90  \n",
       "69998      0     0       0       1  27.10              55  \n",
       "69999      0     0       1       0  24.91              40  \n",
       "\n",
       "[70000 rows x 15 columns]"
      ]
     },
     "execution_count": 261,
     "metadata": {},
     "output_type": "execute_result"
    }
   ],
   "source": [
    "df[\"age\"]=np.floor(df[\"age\"]/365)\n",
    "df[\"height\"]=np.round(df[\"height\"]/100,2)\n",
    "df['BMI'] =np.round(df['weight']/(df['height']*df['height']),2)\n",
    "df['Pulse_pressure'] = df['ap_hi'] - df['ap_lo']\n",
    "df"
   ]
  },
  {
   "cell_type": "code",
   "execution_count": 262,
   "metadata": {},
   "outputs": [
    {
     "data": {
      "text/plain": [
       "id                0\n",
       "age               0\n",
       "gender            0\n",
       "height            0\n",
       "weight            0\n",
       "ap_hi             0\n",
       "ap_lo             0\n",
       "cholesterol       0\n",
       "gluc              0\n",
       "smoke             0\n",
       "alco              0\n",
       "active            0\n",
       "cardio            0\n",
       "BMI               0\n",
       "Pulse_pressure    0\n",
       "dtype: int64"
      ]
     },
     "execution_count": 262,
     "metadata": {},
     "output_type": "execute_result"
    }
   ],
   "source": [
    "df.isnull().sum()"
   ]
  },
  {
   "cell_type": "code",
   "execution_count": 263,
   "metadata": {},
   "outputs": [
    {
     "data": {
      "text/plain": [
       "1330"
      ]
     },
     "execution_count": 263,
     "metadata": {},
     "output_type": "execute_result"
    }
   ],
   "source": [
    "sum(df[\"Pulse_pressure\"]<20)"
   ]
  },
  {
   "cell_type": "code",
   "execution_count": 264,
   "metadata": {},
   "outputs": [
    {
     "data": {
      "text/plain": [
       "59"
      ]
     },
     "execution_count": 264,
     "metadata": {},
     "output_type": "execute_result"
    }
   ],
   "source": [
    "sum(df[\"ap_lo\"]<40)"
   ]
  },
  {
   "cell_type": "code",
   "execution_count": 265,
   "metadata": {},
   "outputs": [
    {
     "data": {
      "text/plain": [
       "207"
      ]
     },
     "execution_count": 265,
     "metadata": {},
     "output_type": "execute_result"
    }
   ],
   "source": [
    "sum(df[\"ap_hi\"]<80)"
   ]
  },
  {
   "cell_type": "code",
   "execution_count": 266,
   "metadata": {},
   "outputs": [
    {
     "data": {
      "text/html": [
       "<div>\n",
       "<style scoped>\n",
       "    .dataframe tbody tr th:only-of-type {\n",
       "        vertical-align: middle;\n",
       "    }\n",
       "\n",
       "    .dataframe tbody tr th {\n",
       "        vertical-align: top;\n",
       "    }\n",
       "\n",
       "    .dataframe thead th {\n",
       "        text-align: right;\n",
       "    }\n",
       "</style>\n",
       "<table border=\"1\" class=\"dataframe\">\n",
       "  <thead>\n",
       "    <tr style=\"text-align: right;\">\n",
       "      <th></th>\n",
       "      <th>id</th>\n",
       "      <th>age</th>\n",
       "      <th>gender</th>\n",
       "      <th>height</th>\n",
       "      <th>weight</th>\n",
       "      <th>ap_hi</th>\n",
       "      <th>ap_lo</th>\n",
       "      <th>cholesterol</th>\n",
       "      <th>gluc</th>\n",
       "      <th>smoke</th>\n",
       "      <th>alco</th>\n",
       "      <th>active</th>\n",
       "      <th>cardio</th>\n",
       "      <th>BMI</th>\n",
       "      <th>Pulse_pressure</th>\n",
       "    </tr>\n",
       "  </thead>\n",
       "  <tbody>\n",
       "    <tr>\n",
       "      <th>0</th>\n",
       "      <td>0</td>\n",
       "      <td>50.0</td>\n",
       "      <td>2</td>\n",
       "      <td>1.68</td>\n",
       "      <td>62.0</td>\n",
       "      <td>110</td>\n",
       "      <td>80</td>\n",
       "      <td>1</td>\n",
       "      <td>1</td>\n",
       "      <td>0</td>\n",
       "      <td>0</td>\n",
       "      <td>1</td>\n",
       "      <td>0</td>\n",
       "      <td>21.97</td>\n",
       "      <td>30</td>\n",
       "    </tr>\n",
       "    <tr>\n",
       "      <th>1</th>\n",
       "      <td>1</td>\n",
       "      <td>55.0</td>\n",
       "      <td>1</td>\n",
       "      <td>1.56</td>\n",
       "      <td>85.0</td>\n",
       "      <td>140</td>\n",
       "      <td>90</td>\n",
       "      <td>3</td>\n",
       "      <td>1</td>\n",
       "      <td>0</td>\n",
       "      <td>0</td>\n",
       "      <td>1</td>\n",
       "      <td>1</td>\n",
       "      <td>34.93</td>\n",
       "      <td>50</td>\n",
       "    </tr>\n",
       "    <tr>\n",
       "      <th>2</th>\n",
       "      <td>2</td>\n",
       "      <td>51.0</td>\n",
       "      <td>1</td>\n",
       "      <td>1.65</td>\n",
       "      <td>64.0</td>\n",
       "      <td>130</td>\n",
       "      <td>70</td>\n",
       "      <td>3</td>\n",
       "      <td>1</td>\n",
       "      <td>0</td>\n",
       "      <td>0</td>\n",
       "      <td>0</td>\n",
       "      <td>1</td>\n",
       "      <td>23.51</td>\n",
       "      <td>60</td>\n",
       "    </tr>\n",
       "    <tr>\n",
       "      <th>3</th>\n",
       "      <td>3</td>\n",
       "      <td>48.0</td>\n",
       "      <td>2</td>\n",
       "      <td>1.69</td>\n",
       "      <td>82.0</td>\n",
       "      <td>150</td>\n",
       "      <td>100</td>\n",
       "      <td>1</td>\n",
       "      <td>1</td>\n",
       "      <td>0</td>\n",
       "      <td>0</td>\n",
       "      <td>1</td>\n",
       "      <td>1</td>\n",
       "      <td>28.71</td>\n",
       "      <td>50</td>\n",
       "    </tr>\n",
       "    <tr>\n",
       "      <th>4</th>\n",
       "      <td>4</td>\n",
       "      <td>47.0</td>\n",
       "      <td>1</td>\n",
       "      <td>1.56</td>\n",
       "      <td>56.0</td>\n",
       "      <td>100</td>\n",
       "      <td>60</td>\n",
       "      <td>1</td>\n",
       "      <td>1</td>\n",
       "      <td>0</td>\n",
       "      <td>0</td>\n",
       "      <td>0</td>\n",
       "      <td>0</td>\n",
       "      <td>23.01</td>\n",
       "      <td>40</td>\n",
       "    </tr>\n",
       "    <tr>\n",
       "      <th>...</th>\n",
       "      <td>...</td>\n",
       "      <td>...</td>\n",
       "      <td>...</td>\n",
       "      <td>...</td>\n",
       "      <td>...</td>\n",
       "      <td>...</td>\n",
       "      <td>...</td>\n",
       "      <td>...</td>\n",
       "      <td>...</td>\n",
       "      <td>...</td>\n",
       "      <td>...</td>\n",
       "      <td>...</td>\n",
       "      <td>...</td>\n",
       "      <td>...</td>\n",
       "      <td>...</td>\n",
       "    </tr>\n",
       "    <tr>\n",
       "      <th>69995</th>\n",
       "      <td>99993</td>\n",
       "      <td>52.0</td>\n",
       "      <td>2</td>\n",
       "      <td>1.68</td>\n",
       "      <td>76.0</td>\n",
       "      <td>120</td>\n",
       "      <td>80</td>\n",
       "      <td>1</td>\n",
       "      <td>1</td>\n",
       "      <td>1</td>\n",
       "      <td>0</td>\n",
       "      <td>1</td>\n",
       "      <td>0</td>\n",
       "      <td>26.93</td>\n",
       "      <td>40</td>\n",
       "    </tr>\n",
       "    <tr>\n",
       "      <th>69996</th>\n",
       "      <td>99995</td>\n",
       "      <td>61.0</td>\n",
       "      <td>1</td>\n",
       "      <td>1.58</td>\n",
       "      <td>126.0</td>\n",
       "      <td>140</td>\n",
       "      <td>90</td>\n",
       "      <td>2</td>\n",
       "      <td>2</td>\n",
       "      <td>0</td>\n",
       "      <td>0</td>\n",
       "      <td>1</td>\n",
       "      <td>1</td>\n",
       "      <td>50.47</td>\n",
       "      <td>50</td>\n",
       "    </tr>\n",
       "    <tr>\n",
       "      <th>69997</th>\n",
       "      <td>99996</td>\n",
       "      <td>52.0</td>\n",
       "      <td>2</td>\n",
       "      <td>1.83</td>\n",
       "      <td>105.0</td>\n",
       "      <td>180</td>\n",
       "      <td>90</td>\n",
       "      <td>3</td>\n",
       "      <td>1</td>\n",
       "      <td>0</td>\n",
       "      <td>1</td>\n",
       "      <td>0</td>\n",
       "      <td>1</td>\n",
       "      <td>31.35</td>\n",
       "      <td>90</td>\n",
       "    </tr>\n",
       "    <tr>\n",
       "      <th>69998</th>\n",
       "      <td>99998</td>\n",
       "      <td>61.0</td>\n",
       "      <td>1</td>\n",
       "      <td>1.63</td>\n",
       "      <td>72.0</td>\n",
       "      <td>135</td>\n",
       "      <td>80</td>\n",
       "      <td>1</td>\n",
       "      <td>2</td>\n",
       "      <td>0</td>\n",
       "      <td>0</td>\n",
       "      <td>0</td>\n",
       "      <td>1</td>\n",
       "      <td>27.10</td>\n",
       "      <td>55</td>\n",
       "    </tr>\n",
       "    <tr>\n",
       "      <th>69999</th>\n",
       "      <td>99999</td>\n",
       "      <td>56.0</td>\n",
       "      <td>1</td>\n",
       "      <td>1.70</td>\n",
       "      <td>72.0</td>\n",
       "      <td>120</td>\n",
       "      <td>80</td>\n",
       "      <td>2</td>\n",
       "      <td>1</td>\n",
       "      <td>0</td>\n",
       "      <td>0</td>\n",
       "      <td>1</td>\n",
       "      <td>0</td>\n",
       "      <td>24.91</td>\n",
       "      <td>40</td>\n",
       "    </tr>\n",
       "  </tbody>\n",
       "</table>\n",
       "<p>68670 rows × 15 columns</p>\n",
       "</div>"
      ],
      "text/plain": [
       "          id   age  gender  height  weight  ap_hi  ap_lo  cholesterol  gluc  \\\n",
       "0          0  50.0       2    1.68    62.0    110     80            1     1   \n",
       "1          1  55.0       1    1.56    85.0    140     90            3     1   \n",
       "2          2  51.0       1    1.65    64.0    130     70            3     1   \n",
       "3          3  48.0       2    1.69    82.0    150    100            1     1   \n",
       "4          4  47.0       1    1.56    56.0    100     60            1     1   \n",
       "...      ...   ...     ...     ...     ...    ...    ...          ...   ...   \n",
       "69995  99993  52.0       2    1.68    76.0    120     80            1     1   \n",
       "69996  99995  61.0       1    1.58   126.0    140     90            2     2   \n",
       "69997  99996  52.0       2    1.83   105.0    180     90            3     1   \n",
       "69998  99998  61.0       1    1.63    72.0    135     80            1     2   \n",
       "69999  99999  56.0       1    1.70    72.0    120     80            2     1   \n",
       "\n",
       "       smoke  alco  active  cardio    BMI  Pulse_pressure  \n",
       "0          0     0       1       0  21.97              30  \n",
       "1          0     0       1       1  34.93              50  \n",
       "2          0     0       0       1  23.51              60  \n",
       "3          0     0       1       1  28.71              50  \n",
       "4          0     0       0       0  23.01              40  \n",
       "...      ...   ...     ...     ...    ...             ...  \n",
       "69995      1     0       1       0  26.93              40  \n",
       "69996      0     0       1       1  50.47              50  \n",
       "69997      0     1       0       1  31.35              90  \n",
       "69998      0     0       0       1  27.10              55  \n",
       "69999      0     0       1       0  24.91              40  \n",
       "\n",
       "[68670 rows x 15 columns]"
      ]
     },
     "execution_count": 266,
     "metadata": {},
     "output_type": "execute_result"
    }
   ],
   "source": [
    "index_names = df[ (df[\"Pulse_pressure\"]<20)].index\n",
    "df.drop(index_names, inplace = True)\n",
    "df"
   ]
  },
  {
   "cell_type": "code",
   "execution_count": 267,
   "metadata": {},
   "outputs": [
    {
     "data": {
      "text/html": [
       "<div>\n",
       "<style scoped>\n",
       "    .dataframe tbody tr th:only-of-type {\n",
       "        vertical-align: middle;\n",
       "    }\n",
       "\n",
       "    .dataframe tbody tr th {\n",
       "        vertical-align: top;\n",
       "    }\n",
       "\n",
       "    .dataframe thead th {\n",
       "        text-align: right;\n",
       "    }\n",
       "</style>\n",
       "<table border=\"1\" class=\"dataframe\">\n",
       "  <thead>\n",
       "    <tr style=\"text-align: right;\">\n",
       "      <th></th>\n",
       "      <th>id</th>\n",
       "      <th>age</th>\n",
       "      <th>gender</th>\n",
       "      <th>height</th>\n",
       "      <th>weight</th>\n",
       "      <th>ap_hi</th>\n",
       "      <th>ap_lo</th>\n",
       "      <th>cholesterol</th>\n",
       "      <th>gluc</th>\n",
       "      <th>smoke</th>\n",
       "      <th>alco</th>\n",
       "      <th>active</th>\n",
       "      <th>cardio</th>\n",
       "      <th>BMI</th>\n",
       "      <th>Pulse_pressure</th>\n",
       "    </tr>\n",
       "  </thead>\n",
       "  <tbody>\n",
       "    <tr>\n",
       "      <th>0</th>\n",
       "      <td>0</td>\n",
       "      <td>50.0</td>\n",
       "      <td>2</td>\n",
       "      <td>1.68</td>\n",
       "      <td>62.0</td>\n",
       "      <td>110</td>\n",
       "      <td>80</td>\n",
       "      <td>1</td>\n",
       "      <td>1</td>\n",
       "      <td>0</td>\n",
       "      <td>0</td>\n",
       "      <td>1</td>\n",
       "      <td>0</td>\n",
       "      <td>21.97</td>\n",
       "      <td>30</td>\n",
       "    </tr>\n",
       "    <tr>\n",
       "      <th>1</th>\n",
       "      <td>1</td>\n",
       "      <td>55.0</td>\n",
       "      <td>1</td>\n",
       "      <td>1.56</td>\n",
       "      <td>85.0</td>\n",
       "      <td>140</td>\n",
       "      <td>90</td>\n",
       "      <td>3</td>\n",
       "      <td>1</td>\n",
       "      <td>0</td>\n",
       "      <td>0</td>\n",
       "      <td>1</td>\n",
       "      <td>1</td>\n",
       "      <td>34.93</td>\n",
       "      <td>50</td>\n",
       "    </tr>\n",
       "    <tr>\n",
       "      <th>2</th>\n",
       "      <td>2</td>\n",
       "      <td>51.0</td>\n",
       "      <td>1</td>\n",
       "      <td>1.65</td>\n",
       "      <td>64.0</td>\n",
       "      <td>130</td>\n",
       "      <td>70</td>\n",
       "      <td>3</td>\n",
       "      <td>1</td>\n",
       "      <td>0</td>\n",
       "      <td>0</td>\n",
       "      <td>0</td>\n",
       "      <td>1</td>\n",
       "      <td>23.51</td>\n",
       "      <td>60</td>\n",
       "    </tr>\n",
       "    <tr>\n",
       "      <th>3</th>\n",
       "      <td>3</td>\n",
       "      <td>48.0</td>\n",
       "      <td>2</td>\n",
       "      <td>1.69</td>\n",
       "      <td>82.0</td>\n",
       "      <td>150</td>\n",
       "      <td>100</td>\n",
       "      <td>1</td>\n",
       "      <td>1</td>\n",
       "      <td>0</td>\n",
       "      <td>0</td>\n",
       "      <td>1</td>\n",
       "      <td>1</td>\n",
       "      <td>28.71</td>\n",
       "      <td>50</td>\n",
       "    </tr>\n",
       "    <tr>\n",
       "      <th>4</th>\n",
       "      <td>4</td>\n",
       "      <td>47.0</td>\n",
       "      <td>1</td>\n",
       "      <td>1.56</td>\n",
       "      <td>56.0</td>\n",
       "      <td>100</td>\n",
       "      <td>60</td>\n",
       "      <td>1</td>\n",
       "      <td>1</td>\n",
       "      <td>0</td>\n",
       "      <td>0</td>\n",
       "      <td>0</td>\n",
       "      <td>0</td>\n",
       "      <td>23.01</td>\n",
       "      <td>40</td>\n",
       "    </tr>\n",
       "    <tr>\n",
       "      <th>...</th>\n",
       "      <td>...</td>\n",
       "      <td>...</td>\n",
       "      <td>...</td>\n",
       "      <td>...</td>\n",
       "      <td>...</td>\n",
       "      <td>...</td>\n",
       "      <td>...</td>\n",
       "      <td>...</td>\n",
       "      <td>...</td>\n",
       "      <td>...</td>\n",
       "      <td>...</td>\n",
       "      <td>...</td>\n",
       "      <td>...</td>\n",
       "      <td>...</td>\n",
       "      <td>...</td>\n",
       "    </tr>\n",
       "    <tr>\n",
       "      <th>69995</th>\n",
       "      <td>99993</td>\n",
       "      <td>52.0</td>\n",
       "      <td>2</td>\n",
       "      <td>1.68</td>\n",
       "      <td>76.0</td>\n",
       "      <td>120</td>\n",
       "      <td>80</td>\n",
       "      <td>1</td>\n",
       "      <td>1</td>\n",
       "      <td>1</td>\n",
       "      <td>0</td>\n",
       "      <td>1</td>\n",
       "      <td>0</td>\n",
       "      <td>26.93</td>\n",
       "      <td>40</td>\n",
       "    </tr>\n",
       "    <tr>\n",
       "      <th>69996</th>\n",
       "      <td>99995</td>\n",
       "      <td>61.0</td>\n",
       "      <td>1</td>\n",
       "      <td>1.58</td>\n",
       "      <td>126.0</td>\n",
       "      <td>140</td>\n",
       "      <td>90</td>\n",
       "      <td>2</td>\n",
       "      <td>2</td>\n",
       "      <td>0</td>\n",
       "      <td>0</td>\n",
       "      <td>1</td>\n",
       "      <td>1</td>\n",
       "      <td>50.47</td>\n",
       "      <td>50</td>\n",
       "    </tr>\n",
       "    <tr>\n",
       "      <th>69997</th>\n",
       "      <td>99996</td>\n",
       "      <td>52.0</td>\n",
       "      <td>2</td>\n",
       "      <td>1.83</td>\n",
       "      <td>105.0</td>\n",
       "      <td>180</td>\n",
       "      <td>90</td>\n",
       "      <td>3</td>\n",
       "      <td>1</td>\n",
       "      <td>0</td>\n",
       "      <td>1</td>\n",
       "      <td>0</td>\n",
       "      <td>1</td>\n",
       "      <td>31.35</td>\n",
       "      <td>90</td>\n",
       "    </tr>\n",
       "    <tr>\n",
       "      <th>69998</th>\n",
       "      <td>99998</td>\n",
       "      <td>61.0</td>\n",
       "      <td>1</td>\n",
       "      <td>1.63</td>\n",
       "      <td>72.0</td>\n",
       "      <td>135</td>\n",
       "      <td>80</td>\n",
       "      <td>1</td>\n",
       "      <td>2</td>\n",
       "      <td>0</td>\n",
       "      <td>0</td>\n",
       "      <td>0</td>\n",
       "      <td>1</td>\n",
       "      <td>27.10</td>\n",
       "      <td>55</td>\n",
       "    </tr>\n",
       "    <tr>\n",
       "      <th>69999</th>\n",
       "      <td>99999</td>\n",
       "      <td>56.0</td>\n",
       "      <td>1</td>\n",
       "      <td>1.70</td>\n",
       "      <td>72.0</td>\n",
       "      <td>120</td>\n",
       "      <td>80</td>\n",
       "      <td>2</td>\n",
       "      <td>1</td>\n",
       "      <td>0</td>\n",
       "      <td>0</td>\n",
       "      <td>1</td>\n",
       "      <td>0</td>\n",
       "      <td>24.91</td>\n",
       "      <td>40</td>\n",
       "    </tr>\n",
       "  </tbody>\n",
       "</table>\n",
       "<p>68615 rows × 15 columns</p>\n",
       "</div>"
      ],
      "text/plain": [
       "          id   age  gender  height  weight  ap_hi  ap_lo  cholesterol  gluc  \\\n",
       "0          0  50.0       2    1.68    62.0    110     80            1     1   \n",
       "1          1  55.0       1    1.56    85.0    140     90            3     1   \n",
       "2          2  51.0       1    1.65    64.0    130     70            3     1   \n",
       "3          3  48.0       2    1.69    82.0    150    100            1     1   \n",
       "4          4  47.0       1    1.56    56.0    100     60            1     1   \n",
       "...      ...   ...     ...     ...     ...    ...    ...          ...   ...   \n",
       "69995  99993  52.0       2    1.68    76.0    120     80            1     1   \n",
       "69996  99995  61.0       1    1.58   126.0    140     90            2     2   \n",
       "69997  99996  52.0       2    1.83   105.0    180     90            3     1   \n",
       "69998  99998  61.0       1    1.63    72.0    135     80            1     2   \n",
       "69999  99999  56.0       1    1.70    72.0    120     80            2     1   \n",
       "\n",
       "       smoke  alco  active  cardio    BMI  Pulse_pressure  \n",
       "0          0     0       1       0  21.97              30  \n",
       "1          0     0       1       1  34.93              50  \n",
       "2          0     0       0       1  23.51              60  \n",
       "3          0     0       1       1  28.71              50  \n",
       "4          0     0       0       0  23.01              40  \n",
       "...      ...   ...     ...     ...    ...             ...  \n",
       "69995      1     0       1       0  26.93              40  \n",
       "69996      0     0       1       1  50.47              50  \n",
       "69997      0     1       0       1  31.35              90  \n",
       "69998      0     0       0       1  27.10              55  \n",
       "69999      0     0       1       0  24.91              40  \n",
       "\n",
       "[68615 rows x 15 columns]"
      ]
     },
     "execution_count": 267,
     "metadata": {},
     "output_type": "execute_result"
    }
   ],
   "source": [
    "index_names = df[ (df[\"ap_lo\"]<40)].index\n",
    "df.drop(index_names, inplace = True)\n",
    "df"
   ]
  },
  {
   "cell_type": "code",
   "execution_count": 268,
   "metadata": {},
   "outputs": [
    {
     "data": {
      "text/html": [
       "<div>\n",
       "<style scoped>\n",
       "    .dataframe tbody tr th:only-of-type {\n",
       "        vertical-align: middle;\n",
       "    }\n",
       "\n",
       "    .dataframe tbody tr th {\n",
       "        vertical-align: top;\n",
       "    }\n",
       "\n",
       "    .dataframe thead th {\n",
       "        text-align: right;\n",
       "    }\n",
       "</style>\n",
       "<table border=\"1\" class=\"dataframe\">\n",
       "  <thead>\n",
       "    <tr style=\"text-align: right;\">\n",
       "      <th></th>\n",
       "      <th>id</th>\n",
       "      <th>age</th>\n",
       "      <th>gender</th>\n",
       "      <th>height</th>\n",
       "      <th>weight</th>\n",
       "      <th>ap_hi</th>\n",
       "      <th>ap_lo</th>\n",
       "      <th>cholesterol</th>\n",
       "      <th>gluc</th>\n",
       "      <th>smoke</th>\n",
       "      <th>alco</th>\n",
       "      <th>active</th>\n",
       "      <th>cardio</th>\n",
       "      <th>BMI</th>\n",
       "      <th>Pulse_pressure</th>\n",
       "    </tr>\n",
       "  </thead>\n",
       "  <tbody>\n",
       "    <tr>\n",
       "      <th>0</th>\n",
       "      <td>0</td>\n",
       "      <td>50.0</td>\n",
       "      <td>2</td>\n",
       "      <td>1.68</td>\n",
       "      <td>62.0</td>\n",
       "      <td>110</td>\n",
       "      <td>80</td>\n",
       "      <td>1</td>\n",
       "      <td>1</td>\n",
       "      <td>0</td>\n",
       "      <td>0</td>\n",
       "      <td>1</td>\n",
       "      <td>0</td>\n",
       "      <td>21.97</td>\n",
       "      <td>30</td>\n",
       "    </tr>\n",
       "    <tr>\n",
       "      <th>1</th>\n",
       "      <td>1</td>\n",
       "      <td>55.0</td>\n",
       "      <td>1</td>\n",
       "      <td>1.56</td>\n",
       "      <td>85.0</td>\n",
       "      <td>140</td>\n",
       "      <td>90</td>\n",
       "      <td>3</td>\n",
       "      <td>1</td>\n",
       "      <td>0</td>\n",
       "      <td>0</td>\n",
       "      <td>1</td>\n",
       "      <td>1</td>\n",
       "      <td>34.93</td>\n",
       "      <td>50</td>\n",
       "    </tr>\n",
       "    <tr>\n",
       "      <th>2</th>\n",
       "      <td>2</td>\n",
       "      <td>51.0</td>\n",
       "      <td>1</td>\n",
       "      <td>1.65</td>\n",
       "      <td>64.0</td>\n",
       "      <td>130</td>\n",
       "      <td>70</td>\n",
       "      <td>3</td>\n",
       "      <td>1</td>\n",
       "      <td>0</td>\n",
       "      <td>0</td>\n",
       "      <td>0</td>\n",
       "      <td>1</td>\n",
       "      <td>23.51</td>\n",
       "      <td>60</td>\n",
       "    </tr>\n",
       "    <tr>\n",
       "      <th>3</th>\n",
       "      <td>3</td>\n",
       "      <td>48.0</td>\n",
       "      <td>2</td>\n",
       "      <td>1.69</td>\n",
       "      <td>82.0</td>\n",
       "      <td>150</td>\n",
       "      <td>100</td>\n",
       "      <td>1</td>\n",
       "      <td>1</td>\n",
       "      <td>0</td>\n",
       "      <td>0</td>\n",
       "      <td>1</td>\n",
       "      <td>1</td>\n",
       "      <td>28.71</td>\n",
       "      <td>50</td>\n",
       "    </tr>\n",
       "    <tr>\n",
       "      <th>4</th>\n",
       "      <td>4</td>\n",
       "      <td>47.0</td>\n",
       "      <td>1</td>\n",
       "      <td>1.56</td>\n",
       "      <td>56.0</td>\n",
       "      <td>100</td>\n",
       "      <td>60</td>\n",
       "      <td>1</td>\n",
       "      <td>1</td>\n",
       "      <td>0</td>\n",
       "      <td>0</td>\n",
       "      <td>0</td>\n",
       "      <td>0</td>\n",
       "      <td>23.01</td>\n",
       "      <td>40</td>\n",
       "    </tr>\n",
       "    <tr>\n",
       "      <th>...</th>\n",
       "      <td>...</td>\n",
       "      <td>...</td>\n",
       "      <td>...</td>\n",
       "      <td>...</td>\n",
       "      <td>...</td>\n",
       "      <td>...</td>\n",
       "      <td>...</td>\n",
       "      <td>...</td>\n",
       "      <td>...</td>\n",
       "      <td>...</td>\n",
       "      <td>...</td>\n",
       "      <td>...</td>\n",
       "      <td>...</td>\n",
       "      <td>...</td>\n",
       "      <td>...</td>\n",
       "    </tr>\n",
       "    <tr>\n",
       "      <th>69995</th>\n",
       "      <td>99993</td>\n",
       "      <td>52.0</td>\n",
       "      <td>2</td>\n",
       "      <td>1.68</td>\n",
       "      <td>76.0</td>\n",
       "      <td>120</td>\n",
       "      <td>80</td>\n",
       "      <td>1</td>\n",
       "      <td>1</td>\n",
       "      <td>1</td>\n",
       "      <td>0</td>\n",
       "      <td>1</td>\n",
       "      <td>0</td>\n",
       "      <td>26.93</td>\n",
       "      <td>40</td>\n",
       "    </tr>\n",
       "    <tr>\n",
       "      <th>69996</th>\n",
       "      <td>99995</td>\n",
       "      <td>61.0</td>\n",
       "      <td>1</td>\n",
       "      <td>1.58</td>\n",
       "      <td>126.0</td>\n",
       "      <td>140</td>\n",
       "      <td>90</td>\n",
       "      <td>2</td>\n",
       "      <td>2</td>\n",
       "      <td>0</td>\n",
       "      <td>0</td>\n",
       "      <td>1</td>\n",
       "      <td>1</td>\n",
       "      <td>50.47</td>\n",
       "      <td>50</td>\n",
       "    </tr>\n",
       "    <tr>\n",
       "      <th>69997</th>\n",
       "      <td>99996</td>\n",
       "      <td>52.0</td>\n",
       "      <td>2</td>\n",
       "      <td>1.83</td>\n",
       "      <td>105.0</td>\n",
       "      <td>180</td>\n",
       "      <td>90</td>\n",
       "      <td>3</td>\n",
       "      <td>1</td>\n",
       "      <td>0</td>\n",
       "      <td>1</td>\n",
       "      <td>0</td>\n",
       "      <td>1</td>\n",
       "      <td>31.35</td>\n",
       "      <td>90</td>\n",
       "    </tr>\n",
       "    <tr>\n",
       "      <th>69998</th>\n",
       "      <td>99998</td>\n",
       "      <td>61.0</td>\n",
       "      <td>1</td>\n",
       "      <td>1.63</td>\n",
       "      <td>72.0</td>\n",
       "      <td>135</td>\n",
       "      <td>80</td>\n",
       "      <td>1</td>\n",
       "      <td>2</td>\n",
       "      <td>0</td>\n",
       "      <td>0</td>\n",
       "      <td>0</td>\n",
       "      <td>1</td>\n",
       "      <td>27.10</td>\n",
       "      <td>55</td>\n",
       "    </tr>\n",
       "    <tr>\n",
       "      <th>69999</th>\n",
       "      <td>99999</td>\n",
       "      <td>56.0</td>\n",
       "      <td>1</td>\n",
       "      <td>1.70</td>\n",
       "      <td>72.0</td>\n",
       "      <td>120</td>\n",
       "      <td>80</td>\n",
       "      <td>2</td>\n",
       "      <td>1</td>\n",
       "      <td>0</td>\n",
       "      <td>0</td>\n",
       "      <td>1</td>\n",
       "      <td>0</td>\n",
       "      <td>24.91</td>\n",
       "      <td>40</td>\n",
       "    </tr>\n",
       "  </tbody>\n",
       "</table>\n",
       "<p>68610 rows × 15 columns</p>\n",
       "</div>"
      ],
      "text/plain": [
       "          id   age  gender  height  weight  ap_hi  ap_lo  cholesterol  gluc  \\\n",
       "0          0  50.0       2    1.68    62.0    110     80            1     1   \n",
       "1          1  55.0       1    1.56    85.0    140     90            3     1   \n",
       "2          2  51.0       1    1.65    64.0    130     70            3     1   \n",
       "3          3  48.0       2    1.69    82.0    150    100            1     1   \n",
       "4          4  47.0       1    1.56    56.0    100     60            1     1   \n",
       "...      ...   ...     ...     ...     ...    ...    ...          ...   ...   \n",
       "69995  99993  52.0       2    1.68    76.0    120     80            1     1   \n",
       "69996  99995  61.0       1    1.58   126.0    140     90            2     2   \n",
       "69997  99996  52.0       2    1.83   105.0    180     90            3     1   \n",
       "69998  99998  61.0       1    1.63    72.0    135     80            1     2   \n",
       "69999  99999  56.0       1    1.70    72.0    120     80            2     1   \n",
       "\n",
       "       smoke  alco  active  cardio    BMI  Pulse_pressure  \n",
       "0          0     0       1       0  21.97              30  \n",
       "1          0     0       1       1  34.93              50  \n",
       "2          0     0       0       1  23.51              60  \n",
       "3          0     0       1       1  28.71              50  \n",
       "4          0     0       0       0  23.01              40  \n",
       "...      ...   ...     ...     ...    ...             ...  \n",
       "69995      1     0       1       0  26.93              40  \n",
       "69996      0     0       1       1  50.47              50  \n",
       "69997      0     1       0       1  31.35              90  \n",
       "69998      0     0       0       1  27.10              55  \n",
       "69999      0     0       1       0  24.91              40  \n",
       "\n",
       "[68610 rows x 15 columns]"
      ]
     },
     "execution_count": 268,
     "metadata": {},
     "output_type": "execute_result"
    }
   ],
   "source": [
    "index_names = df[ (df[\"ap_hi\"]<80)].index\n",
    "df.drop(index_names, inplace = True)\n",
    "df"
   ]
  },
  {
   "cell_type": "code",
   "execution_count": 269,
   "metadata": {},
   "outputs": [
    {
     "data": {
      "text/html": [
       "<div>\n",
       "<style scoped>\n",
       "    .dataframe tbody tr th:only-of-type {\n",
       "        vertical-align: middle;\n",
       "    }\n",
       "\n",
       "    .dataframe tbody tr th {\n",
       "        vertical-align: top;\n",
       "    }\n",
       "\n",
       "    .dataframe thead th {\n",
       "        text-align: right;\n",
       "    }\n",
       "</style>\n",
       "<table border=\"1\" class=\"dataframe\">\n",
       "  <thead>\n",
       "    <tr style=\"text-align: right;\">\n",
       "      <th></th>\n",
       "      <th>id</th>\n",
       "      <th>age</th>\n",
       "      <th>gender</th>\n",
       "      <th>height</th>\n",
       "      <th>weight</th>\n",
       "      <th>ap_hi</th>\n",
       "      <th>ap_lo</th>\n",
       "      <th>cholesterol</th>\n",
       "      <th>gluc</th>\n",
       "      <th>smoke</th>\n",
       "      <th>alco</th>\n",
       "      <th>active</th>\n",
       "      <th>cardio</th>\n",
       "      <th>BMI</th>\n",
       "      <th>Pulse_pressure</th>\n",
       "    </tr>\n",
       "  </thead>\n",
       "  <tbody>\n",
       "    <tr>\n",
       "      <th>0</th>\n",
       "      <td>0</td>\n",
       "      <td>50.0</td>\n",
       "      <td>2</td>\n",
       "      <td>1.68</td>\n",
       "      <td>62.0</td>\n",
       "      <td>110</td>\n",
       "      <td>80</td>\n",
       "      <td>1</td>\n",
       "      <td>1</td>\n",
       "      <td>0</td>\n",
       "      <td>0</td>\n",
       "      <td>1</td>\n",
       "      <td>0</td>\n",
       "      <td>21.97</td>\n",
       "      <td>30</td>\n",
       "    </tr>\n",
       "    <tr>\n",
       "      <th>1</th>\n",
       "      <td>1</td>\n",
       "      <td>55.0</td>\n",
       "      <td>1</td>\n",
       "      <td>1.56</td>\n",
       "      <td>85.0</td>\n",
       "      <td>140</td>\n",
       "      <td>90</td>\n",
       "      <td>3</td>\n",
       "      <td>1</td>\n",
       "      <td>0</td>\n",
       "      <td>0</td>\n",
       "      <td>1</td>\n",
       "      <td>1</td>\n",
       "      <td>34.93</td>\n",
       "      <td>50</td>\n",
       "    </tr>\n",
       "    <tr>\n",
       "      <th>2</th>\n",
       "      <td>2</td>\n",
       "      <td>51.0</td>\n",
       "      <td>1</td>\n",
       "      <td>1.65</td>\n",
       "      <td>64.0</td>\n",
       "      <td>130</td>\n",
       "      <td>70</td>\n",
       "      <td>3</td>\n",
       "      <td>1</td>\n",
       "      <td>0</td>\n",
       "      <td>0</td>\n",
       "      <td>0</td>\n",
       "      <td>1</td>\n",
       "      <td>23.51</td>\n",
       "      <td>60</td>\n",
       "    </tr>\n",
       "    <tr>\n",
       "      <th>3</th>\n",
       "      <td>3</td>\n",
       "      <td>48.0</td>\n",
       "      <td>2</td>\n",
       "      <td>1.69</td>\n",
       "      <td>82.0</td>\n",
       "      <td>150</td>\n",
       "      <td>100</td>\n",
       "      <td>1</td>\n",
       "      <td>1</td>\n",
       "      <td>0</td>\n",
       "      <td>0</td>\n",
       "      <td>1</td>\n",
       "      <td>1</td>\n",
       "      <td>28.71</td>\n",
       "      <td>50</td>\n",
       "    </tr>\n",
       "    <tr>\n",
       "      <th>4</th>\n",
       "      <td>4</td>\n",
       "      <td>47.0</td>\n",
       "      <td>1</td>\n",
       "      <td>1.56</td>\n",
       "      <td>56.0</td>\n",
       "      <td>100</td>\n",
       "      <td>60</td>\n",
       "      <td>1</td>\n",
       "      <td>1</td>\n",
       "      <td>0</td>\n",
       "      <td>0</td>\n",
       "      <td>0</td>\n",
       "      <td>0</td>\n",
       "      <td>23.01</td>\n",
       "      <td>40</td>\n",
       "    </tr>\n",
       "    <tr>\n",
       "      <th>...</th>\n",
       "      <td>...</td>\n",
       "      <td>...</td>\n",
       "      <td>...</td>\n",
       "      <td>...</td>\n",
       "      <td>...</td>\n",
       "      <td>...</td>\n",
       "      <td>...</td>\n",
       "      <td>...</td>\n",
       "      <td>...</td>\n",
       "      <td>...</td>\n",
       "      <td>...</td>\n",
       "      <td>...</td>\n",
       "      <td>...</td>\n",
       "      <td>...</td>\n",
       "      <td>...</td>\n",
       "    </tr>\n",
       "    <tr>\n",
       "      <th>69995</th>\n",
       "      <td>99993</td>\n",
       "      <td>52.0</td>\n",
       "      <td>2</td>\n",
       "      <td>1.68</td>\n",
       "      <td>76.0</td>\n",
       "      <td>120</td>\n",
       "      <td>80</td>\n",
       "      <td>1</td>\n",
       "      <td>1</td>\n",
       "      <td>1</td>\n",
       "      <td>0</td>\n",
       "      <td>1</td>\n",
       "      <td>0</td>\n",
       "      <td>26.93</td>\n",
       "      <td>40</td>\n",
       "    </tr>\n",
       "    <tr>\n",
       "      <th>69996</th>\n",
       "      <td>99995</td>\n",
       "      <td>61.0</td>\n",
       "      <td>1</td>\n",
       "      <td>1.58</td>\n",
       "      <td>126.0</td>\n",
       "      <td>140</td>\n",
       "      <td>90</td>\n",
       "      <td>2</td>\n",
       "      <td>2</td>\n",
       "      <td>0</td>\n",
       "      <td>0</td>\n",
       "      <td>1</td>\n",
       "      <td>1</td>\n",
       "      <td>50.47</td>\n",
       "      <td>50</td>\n",
       "    </tr>\n",
       "    <tr>\n",
       "      <th>69997</th>\n",
       "      <td>99996</td>\n",
       "      <td>52.0</td>\n",
       "      <td>2</td>\n",
       "      <td>1.83</td>\n",
       "      <td>105.0</td>\n",
       "      <td>180</td>\n",
       "      <td>90</td>\n",
       "      <td>3</td>\n",
       "      <td>1</td>\n",
       "      <td>0</td>\n",
       "      <td>1</td>\n",
       "      <td>0</td>\n",
       "      <td>1</td>\n",
       "      <td>31.35</td>\n",
       "      <td>90</td>\n",
       "    </tr>\n",
       "    <tr>\n",
       "      <th>69998</th>\n",
       "      <td>99998</td>\n",
       "      <td>61.0</td>\n",
       "      <td>1</td>\n",
       "      <td>1.63</td>\n",
       "      <td>72.0</td>\n",
       "      <td>135</td>\n",
       "      <td>80</td>\n",
       "      <td>1</td>\n",
       "      <td>2</td>\n",
       "      <td>0</td>\n",
       "      <td>0</td>\n",
       "      <td>0</td>\n",
       "      <td>1</td>\n",
       "      <td>27.10</td>\n",
       "      <td>55</td>\n",
       "    </tr>\n",
       "    <tr>\n",
       "      <th>69999</th>\n",
       "      <td>99999</td>\n",
       "      <td>56.0</td>\n",
       "      <td>1</td>\n",
       "      <td>1.70</td>\n",
       "      <td>72.0</td>\n",
       "      <td>120</td>\n",
       "      <td>80</td>\n",
       "      <td>2</td>\n",
       "      <td>1</td>\n",
       "      <td>0</td>\n",
       "      <td>0</td>\n",
       "      <td>1</td>\n",
       "      <td>0</td>\n",
       "      <td>24.91</td>\n",
       "      <td>40</td>\n",
       "    </tr>\n",
       "  </tbody>\n",
       "</table>\n",
       "<p>68610 rows × 15 columns</p>\n",
       "</div>"
      ],
      "text/plain": [
       "          id   age  gender  height  weight  ap_hi  ap_lo  cholesterol  gluc  \\\n",
       "0          0  50.0       2    1.68    62.0    110     80            1     1   \n",
       "1          1  55.0       1    1.56    85.0    140     90            3     1   \n",
       "2          2  51.0       1    1.65    64.0    130     70            3     1   \n",
       "3          3  48.0       2    1.69    82.0    150    100            1     1   \n",
       "4          4  47.0       1    1.56    56.0    100     60            1     1   \n",
       "...      ...   ...     ...     ...     ...    ...    ...          ...   ...   \n",
       "69995  99993  52.0       2    1.68    76.0    120     80            1     1   \n",
       "69996  99995  61.0       1    1.58   126.0    140     90            2     2   \n",
       "69997  99996  52.0       2    1.83   105.0    180     90            3     1   \n",
       "69998  99998  61.0       1    1.63    72.0    135     80            1     2   \n",
       "69999  99999  56.0       1    1.70    72.0    120     80            2     1   \n",
       "\n",
       "       smoke  alco  active  cardio    BMI  Pulse_pressure  \n",
       "0          0     0       1       0  21.97              30  \n",
       "1          0     0       1       1  34.93              50  \n",
       "2          0     0       0       1  23.51              60  \n",
       "3          0     0       1       1  28.71              50  \n",
       "4          0     0       0       0  23.01              40  \n",
       "...      ...   ...     ...     ...    ...             ...  \n",
       "69995      1     0       1       0  26.93              40  \n",
       "69996      0     0       1       1  50.47              50  \n",
       "69997      0     1       0       1  31.35              90  \n",
       "69998      0     0       0       1  27.10              55  \n",
       "69999      0     0       1       0  24.91              40  \n",
       "\n",
       "[68610 rows x 15 columns]"
      ]
     },
     "execution_count": 269,
     "metadata": {},
     "output_type": "execute_result"
    }
   ],
   "source": [
    "index_names = df[ (df[\"ap_lo\"]>200)].index\n",
    "df.drop(index_names, inplace = True)\n",
    "df"
   ]
  },
  {
   "cell_type": "code",
   "execution_count": 270,
   "metadata": {},
   "outputs": [
    {
     "data": {
      "text/html": [
       "<div>\n",
       "<style scoped>\n",
       "    .dataframe tbody tr th:only-of-type {\n",
       "        vertical-align: middle;\n",
       "    }\n",
       "\n",
       "    .dataframe tbody tr th {\n",
       "        vertical-align: top;\n",
       "    }\n",
       "\n",
       "    .dataframe thead th {\n",
       "        text-align: right;\n",
       "    }\n",
       "</style>\n",
       "<table border=\"1\" class=\"dataframe\">\n",
       "  <thead>\n",
       "    <tr style=\"text-align: right;\">\n",
       "      <th></th>\n",
       "      <th>id</th>\n",
       "      <th>age</th>\n",
       "      <th>gender</th>\n",
       "      <th>height</th>\n",
       "      <th>weight</th>\n",
       "      <th>ap_hi</th>\n",
       "      <th>ap_lo</th>\n",
       "      <th>cholesterol</th>\n",
       "      <th>gluc</th>\n",
       "      <th>smoke</th>\n",
       "      <th>alco</th>\n",
       "      <th>active</th>\n",
       "      <th>cardio</th>\n",
       "      <th>BMI</th>\n",
       "      <th>Pulse_pressure</th>\n",
       "    </tr>\n",
       "  </thead>\n",
       "  <tbody>\n",
       "    <tr>\n",
       "      <th>0</th>\n",
       "      <td>0</td>\n",
       "      <td>50.0</td>\n",
       "      <td>2</td>\n",
       "      <td>1.68</td>\n",
       "      <td>62.0</td>\n",
       "      <td>110</td>\n",
       "      <td>80</td>\n",
       "      <td>1</td>\n",
       "      <td>1</td>\n",
       "      <td>0</td>\n",
       "      <td>0</td>\n",
       "      <td>1</td>\n",
       "      <td>0</td>\n",
       "      <td>21.97</td>\n",
       "      <td>30</td>\n",
       "    </tr>\n",
       "    <tr>\n",
       "      <th>1</th>\n",
       "      <td>1</td>\n",
       "      <td>55.0</td>\n",
       "      <td>1</td>\n",
       "      <td>1.56</td>\n",
       "      <td>85.0</td>\n",
       "      <td>140</td>\n",
       "      <td>90</td>\n",
       "      <td>3</td>\n",
       "      <td>1</td>\n",
       "      <td>0</td>\n",
       "      <td>0</td>\n",
       "      <td>1</td>\n",
       "      <td>1</td>\n",
       "      <td>34.93</td>\n",
       "      <td>50</td>\n",
       "    </tr>\n",
       "    <tr>\n",
       "      <th>2</th>\n",
       "      <td>2</td>\n",
       "      <td>51.0</td>\n",
       "      <td>1</td>\n",
       "      <td>1.65</td>\n",
       "      <td>64.0</td>\n",
       "      <td>130</td>\n",
       "      <td>70</td>\n",
       "      <td>3</td>\n",
       "      <td>1</td>\n",
       "      <td>0</td>\n",
       "      <td>0</td>\n",
       "      <td>0</td>\n",
       "      <td>1</td>\n",
       "      <td>23.51</td>\n",
       "      <td>60</td>\n",
       "    </tr>\n",
       "    <tr>\n",
       "      <th>3</th>\n",
       "      <td>3</td>\n",
       "      <td>48.0</td>\n",
       "      <td>2</td>\n",
       "      <td>1.69</td>\n",
       "      <td>82.0</td>\n",
       "      <td>150</td>\n",
       "      <td>100</td>\n",
       "      <td>1</td>\n",
       "      <td>1</td>\n",
       "      <td>0</td>\n",
       "      <td>0</td>\n",
       "      <td>1</td>\n",
       "      <td>1</td>\n",
       "      <td>28.71</td>\n",
       "      <td>50</td>\n",
       "    </tr>\n",
       "    <tr>\n",
       "      <th>4</th>\n",
       "      <td>4</td>\n",
       "      <td>47.0</td>\n",
       "      <td>1</td>\n",
       "      <td>1.56</td>\n",
       "      <td>56.0</td>\n",
       "      <td>100</td>\n",
       "      <td>60</td>\n",
       "      <td>1</td>\n",
       "      <td>1</td>\n",
       "      <td>0</td>\n",
       "      <td>0</td>\n",
       "      <td>0</td>\n",
       "      <td>0</td>\n",
       "      <td>23.01</td>\n",
       "      <td>40</td>\n",
       "    </tr>\n",
       "    <tr>\n",
       "      <th>...</th>\n",
       "      <td>...</td>\n",
       "      <td>...</td>\n",
       "      <td>...</td>\n",
       "      <td>...</td>\n",
       "      <td>...</td>\n",
       "      <td>...</td>\n",
       "      <td>...</td>\n",
       "      <td>...</td>\n",
       "      <td>...</td>\n",
       "      <td>...</td>\n",
       "      <td>...</td>\n",
       "      <td>...</td>\n",
       "      <td>...</td>\n",
       "      <td>...</td>\n",
       "      <td>...</td>\n",
       "    </tr>\n",
       "    <tr>\n",
       "      <th>69995</th>\n",
       "      <td>99993</td>\n",
       "      <td>52.0</td>\n",
       "      <td>2</td>\n",
       "      <td>1.68</td>\n",
       "      <td>76.0</td>\n",
       "      <td>120</td>\n",
       "      <td>80</td>\n",
       "      <td>1</td>\n",
       "      <td>1</td>\n",
       "      <td>1</td>\n",
       "      <td>0</td>\n",
       "      <td>1</td>\n",
       "      <td>0</td>\n",
       "      <td>26.93</td>\n",
       "      <td>40</td>\n",
       "    </tr>\n",
       "    <tr>\n",
       "      <th>69996</th>\n",
       "      <td>99995</td>\n",
       "      <td>61.0</td>\n",
       "      <td>1</td>\n",
       "      <td>1.58</td>\n",
       "      <td>126.0</td>\n",
       "      <td>140</td>\n",
       "      <td>90</td>\n",
       "      <td>2</td>\n",
       "      <td>2</td>\n",
       "      <td>0</td>\n",
       "      <td>0</td>\n",
       "      <td>1</td>\n",
       "      <td>1</td>\n",
       "      <td>50.47</td>\n",
       "      <td>50</td>\n",
       "    </tr>\n",
       "    <tr>\n",
       "      <th>69997</th>\n",
       "      <td>99996</td>\n",
       "      <td>52.0</td>\n",
       "      <td>2</td>\n",
       "      <td>1.83</td>\n",
       "      <td>105.0</td>\n",
       "      <td>180</td>\n",
       "      <td>90</td>\n",
       "      <td>3</td>\n",
       "      <td>1</td>\n",
       "      <td>0</td>\n",
       "      <td>1</td>\n",
       "      <td>0</td>\n",
       "      <td>1</td>\n",
       "      <td>31.35</td>\n",
       "      <td>90</td>\n",
       "    </tr>\n",
       "    <tr>\n",
       "      <th>69998</th>\n",
       "      <td>99998</td>\n",
       "      <td>61.0</td>\n",
       "      <td>1</td>\n",
       "      <td>1.63</td>\n",
       "      <td>72.0</td>\n",
       "      <td>135</td>\n",
       "      <td>80</td>\n",
       "      <td>1</td>\n",
       "      <td>2</td>\n",
       "      <td>0</td>\n",
       "      <td>0</td>\n",
       "      <td>0</td>\n",
       "      <td>1</td>\n",
       "      <td>27.10</td>\n",
       "      <td>55</td>\n",
       "    </tr>\n",
       "    <tr>\n",
       "      <th>69999</th>\n",
       "      <td>99999</td>\n",
       "      <td>56.0</td>\n",
       "      <td>1</td>\n",
       "      <td>1.70</td>\n",
       "      <td>72.0</td>\n",
       "      <td>120</td>\n",
       "      <td>80</td>\n",
       "      <td>2</td>\n",
       "      <td>1</td>\n",
       "      <td>0</td>\n",
       "      <td>0</td>\n",
       "      <td>1</td>\n",
       "      <td>0</td>\n",
       "      <td>24.91</td>\n",
       "      <td>40</td>\n",
       "    </tr>\n",
       "  </tbody>\n",
       "</table>\n",
       "<p>68525 rows × 15 columns</p>\n",
       "</div>"
      ],
      "text/plain": [
       "          id   age  gender  height  weight  ap_hi  ap_lo  cholesterol  gluc  \\\n",
       "0          0  50.0       2    1.68    62.0    110     80            1     1   \n",
       "1          1  55.0       1    1.56    85.0    140     90            3     1   \n",
       "2          2  51.0       1    1.65    64.0    130     70            3     1   \n",
       "3          3  48.0       2    1.69    82.0    150    100            1     1   \n",
       "4          4  47.0       1    1.56    56.0    100     60            1     1   \n",
       "...      ...   ...     ...     ...     ...    ...    ...          ...   ...   \n",
       "69995  99993  52.0       2    1.68    76.0    120     80            1     1   \n",
       "69996  99995  61.0       1    1.58   126.0    140     90            2     2   \n",
       "69997  99996  52.0       2    1.83   105.0    180     90            3     1   \n",
       "69998  99998  61.0       1    1.63    72.0    135     80            1     2   \n",
       "69999  99999  56.0       1    1.70    72.0    120     80            2     1   \n",
       "\n",
       "       smoke  alco  active  cardio    BMI  Pulse_pressure  \n",
       "0          0     0       1       0  21.97              30  \n",
       "1          0     0       1       1  34.93              50  \n",
       "2          0     0       0       1  23.51              60  \n",
       "3          0     0       1       1  28.71              50  \n",
       "4          0     0       0       0  23.01              40  \n",
       "...      ...   ...     ...     ...    ...             ...  \n",
       "69995      1     0       1       0  26.93              40  \n",
       "69996      0     0       1       1  50.47              50  \n",
       "69997      0     1       0       1  31.35              90  \n",
       "69998      0     0       0       1  27.10              55  \n",
       "69999      0     0       1       0  24.91              40  \n",
       "\n",
       "[68525 rows x 15 columns]"
      ]
     },
     "execution_count": 270,
     "metadata": {},
     "output_type": "execute_result"
    }
   ],
   "source": [
    "index_names = df[ (df[\"ap_hi\"]>200)].index\n",
    "df.drop(index_names, inplace = True)\n",
    "df"
   ]
  },
  {
   "cell_type": "code",
   "execution_count": 271,
   "metadata": {},
   "outputs": [],
   "source": [
    "card=df[[\"age\",\"gender\",\"height\",\"weight\",\"BMI\",\"ap_hi\",\"ap_lo\",\"Pulse_pressure\",\"cholesterol\",\"gluc\",\"smoke\",\"alco\",\"active\",\"cardio\"]]"
   ]
  },
  {
   "cell_type": "code",
   "execution_count": 272,
   "metadata": {},
   "outputs": [
    {
     "data": {
      "text/html": [
       "<div>\n",
       "<style scoped>\n",
       "    .dataframe tbody tr th:only-of-type {\n",
       "        vertical-align: middle;\n",
       "    }\n",
       "\n",
       "    .dataframe tbody tr th {\n",
       "        vertical-align: top;\n",
       "    }\n",
       "\n",
       "    .dataframe thead th {\n",
       "        text-align: right;\n",
       "    }\n",
       "</style>\n",
       "<table border=\"1\" class=\"dataframe\">\n",
       "  <thead>\n",
       "    <tr style=\"text-align: right;\">\n",
       "      <th></th>\n",
       "      <th>age</th>\n",
       "      <th>gender</th>\n",
       "      <th>height</th>\n",
       "      <th>weight</th>\n",
       "      <th>BMI</th>\n",
       "      <th>ap_hi</th>\n",
       "      <th>ap_lo</th>\n",
       "      <th>Pulse_pressure</th>\n",
       "      <th>cholesterol</th>\n",
       "      <th>gluc</th>\n",
       "      <th>smoke</th>\n",
       "      <th>alco</th>\n",
       "      <th>active</th>\n",
       "      <th>cardio</th>\n",
       "    </tr>\n",
       "  </thead>\n",
       "  <tbody>\n",
       "    <tr>\n",
       "      <th>0</th>\n",
       "      <td>50.0</td>\n",
       "      <td>2</td>\n",
       "      <td>1.68</td>\n",
       "      <td>62.0</td>\n",
       "      <td>21.97</td>\n",
       "      <td>110</td>\n",
       "      <td>80</td>\n",
       "      <td>30</td>\n",
       "      <td>1</td>\n",
       "      <td>1</td>\n",
       "      <td>0</td>\n",
       "      <td>0</td>\n",
       "      <td>1</td>\n",
       "      <td>0</td>\n",
       "    </tr>\n",
       "    <tr>\n",
       "      <th>1</th>\n",
       "      <td>55.0</td>\n",
       "      <td>1</td>\n",
       "      <td>1.56</td>\n",
       "      <td>85.0</td>\n",
       "      <td>34.93</td>\n",
       "      <td>140</td>\n",
       "      <td>90</td>\n",
       "      <td>50</td>\n",
       "      <td>3</td>\n",
       "      <td>1</td>\n",
       "      <td>0</td>\n",
       "      <td>0</td>\n",
       "      <td>1</td>\n",
       "      <td>1</td>\n",
       "    </tr>\n",
       "    <tr>\n",
       "      <th>2</th>\n",
       "      <td>51.0</td>\n",
       "      <td>1</td>\n",
       "      <td>1.65</td>\n",
       "      <td>64.0</td>\n",
       "      <td>23.51</td>\n",
       "      <td>130</td>\n",
       "      <td>70</td>\n",
       "      <td>60</td>\n",
       "      <td>3</td>\n",
       "      <td>1</td>\n",
       "      <td>0</td>\n",
       "      <td>0</td>\n",
       "      <td>0</td>\n",
       "      <td>1</td>\n",
       "    </tr>\n",
       "    <tr>\n",
       "      <th>3</th>\n",
       "      <td>48.0</td>\n",
       "      <td>2</td>\n",
       "      <td>1.69</td>\n",
       "      <td>82.0</td>\n",
       "      <td>28.71</td>\n",
       "      <td>150</td>\n",
       "      <td>100</td>\n",
       "      <td>50</td>\n",
       "      <td>1</td>\n",
       "      <td>1</td>\n",
       "      <td>0</td>\n",
       "      <td>0</td>\n",
       "      <td>1</td>\n",
       "      <td>1</td>\n",
       "    </tr>\n",
       "    <tr>\n",
       "      <th>4</th>\n",
       "      <td>47.0</td>\n",
       "      <td>1</td>\n",
       "      <td>1.56</td>\n",
       "      <td>56.0</td>\n",
       "      <td>23.01</td>\n",
       "      <td>100</td>\n",
       "      <td>60</td>\n",
       "      <td>40</td>\n",
       "      <td>1</td>\n",
       "      <td>1</td>\n",
       "      <td>0</td>\n",
       "      <td>0</td>\n",
       "      <td>0</td>\n",
       "      <td>0</td>\n",
       "    </tr>\n",
       "    <tr>\n",
       "      <th>...</th>\n",
       "      <td>...</td>\n",
       "      <td>...</td>\n",
       "      <td>...</td>\n",
       "      <td>...</td>\n",
       "      <td>...</td>\n",
       "      <td>...</td>\n",
       "      <td>...</td>\n",
       "      <td>...</td>\n",
       "      <td>...</td>\n",
       "      <td>...</td>\n",
       "      <td>...</td>\n",
       "      <td>...</td>\n",
       "      <td>...</td>\n",
       "      <td>...</td>\n",
       "    </tr>\n",
       "    <tr>\n",
       "      <th>69995</th>\n",
       "      <td>52.0</td>\n",
       "      <td>2</td>\n",
       "      <td>1.68</td>\n",
       "      <td>76.0</td>\n",
       "      <td>26.93</td>\n",
       "      <td>120</td>\n",
       "      <td>80</td>\n",
       "      <td>40</td>\n",
       "      <td>1</td>\n",
       "      <td>1</td>\n",
       "      <td>1</td>\n",
       "      <td>0</td>\n",
       "      <td>1</td>\n",
       "      <td>0</td>\n",
       "    </tr>\n",
       "    <tr>\n",
       "      <th>69996</th>\n",
       "      <td>61.0</td>\n",
       "      <td>1</td>\n",
       "      <td>1.58</td>\n",
       "      <td>126.0</td>\n",
       "      <td>50.47</td>\n",
       "      <td>140</td>\n",
       "      <td>90</td>\n",
       "      <td>50</td>\n",
       "      <td>2</td>\n",
       "      <td>2</td>\n",
       "      <td>0</td>\n",
       "      <td>0</td>\n",
       "      <td>1</td>\n",
       "      <td>1</td>\n",
       "    </tr>\n",
       "    <tr>\n",
       "      <th>69997</th>\n",
       "      <td>52.0</td>\n",
       "      <td>2</td>\n",
       "      <td>1.83</td>\n",
       "      <td>105.0</td>\n",
       "      <td>31.35</td>\n",
       "      <td>180</td>\n",
       "      <td>90</td>\n",
       "      <td>90</td>\n",
       "      <td>3</td>\n",
       "      <td>1</td>\n",
       "      <td>0</td>\n",
       "      <td>1</td>\n",
       "      <td>0</td>\n",
       "      <td>1</td>\n",
       "    </tr>\n",
       "    <tr>\n",
       "      <th>69998</th>\n",
       "      <td>61.0</td>\n",
       "      <td>1</td>\n",
       "      <td>1.63</td>\n",
       "      <td>72.0</td>\n",
       "      <td>27.10</td>\n",
       "      <td>135</td>\n",
       "      <td>80</td>\n",
       "      <td>55</td>\n",
       "      <td>1</td>\n",
       "      <td>2</td>\n",
       "      <td>0</td>\n",
       "      <td>0</td>\n",
       "      <td>0</td>\n",
       "      <td>1</td>\n",
       "    </tr>\n",
       "    <tr>\n",
       "      <th>69999</th>\n",
       "      <td>56.0</td>\n",
       "      <td>1</td>\n",
       "      <td>1.70</td>\n",
       "      <td>72.0</td>\n",
       "      <td>24.91</td>\n",
       "      <td>120</td>\n",
       "      <td>80</td>\n",
       "      <td>40</td>\n",
       "      <td>2</td>\n",
       "      <td>1</td>\n",
       "      <td>0</td>\n",
       "      <td>0</td>\n",
       "      <td>1</td>\n",
       "      <td>0</td>\n",
       "    </tr>\n",
       "  </tbody>\n",
       "</table>\n",
       "<p>68525 rows × 14 columns</p>\n",
       "</div>"
      ],
      "text/plain": [
       "        age  gender  height  weight    BMI  ap_hi  ap_lo  Pulse_pressure  \\\n",
       "0      50.0       2    1.68    62.0  21.97    110     80              30   \n",
       "1      55.0       1    1.56    85.0  34.93    140     90              50   \n",
       "2      51.0       1    1.65    64.0  23.51    130     70              60   \n",
       "3      48.0       2    1.69    82.0  28.71    150    100              50   \n",
       "4      47.0       1    1.56    56.0  23.01    100     60              40   \n",
       "...     ...     ...     ...     ...    ...    ...    ...             ...   \n",
       "69995  52.0       2    1.68    76.0  26.93    120     80              40   \n",
       "69996  61.0       1    1.58   126.0  50.47    140     90              50   \n",
       "69997  52.0       2    1.83   105.0  31.35    180     90              90   \n",
       "69998  61.0       1    1.63    72.0  27.10    135     80              55   \n",
       "69999  56.0       1    1.70    72.0  24.91    120     80              40   \n",
       "\n",
       "       cholesterol  gluc  smoke  alco  active  cardio  \n",
       "0                1     1      0     0       1       0  \n",
       "1                3     1      0     0       1       1  \n",
       "2                3     1      0     0       0       1  \n",
       "3                1     1      0     0       1       1  \n",
       "4                1     1      0     0       0       0  \n",
       "...            ...   ...    ...   ...     ...     ...  \n",
       "69995            1     1      1     0       1       0  \n",
       "69996            2     2      0     0       1       1  \n",
       "69997            3     1      0     1       0       1  \n",
       "69998            1     2      0     0       0       1  \n",
       "69999            2     1      0     0       1       0  \n",
       "\n",
       "[68525 rows x 14 columns]"
      ]
     },
     "execution_count": 272,
     "metadata": {},
     "output_type": "execute_result"
    }
   ],
   "source": [
    "card"
   ]
  },
  {
   "cell_type": "code",
   "execution_count": 273,
   "metadata": {},
   "outputs": [
    {
     "name": "stdout",
     "output_type": "stream",
     "text": [
      "no. of observation in the dataset having cardiovascular diseases are:  33897 \n",
      "no. of observation in the dataset not having cardiovascular diseases are:  34628\n"
     ]
    }
   ],
   "source": [
    "cardio0=sum(card[\"cardio\"]==0)\n",
    "cardio1=sum(card[\"cardio\"]==1)\n",
    "print(\"no. of observation in the dataset having cardiovascular diseases are: \",cardio1,\"\\nno. of observation in the dataset not having cardiovascular diseases are: \",cardio0)"
   ]
  },
  {
   "cell_type": "markdown",
   "metadata": {
    "id": "5aPjq1pg8w4Z"
   },
   "source": [
    "The dataset that we have now is in what we call a pandas dataframe. To convert it to an array, simply access its values:"
   ]
  },
  {
   "cell_type": "code",
   "execution_count": null,
   "metadata": {},
   "outputs": [],
   "source": []
  },
  {
   "cell_type": "code",
   "execution_count": 274,
   "metadata": {
    "id": "uXIZXYFa8w4a"
   },
   "outputs": [],
   "source": [
    "dataset = card.values"
   ]
  },
  {
   "cell_type": "code",
   "execution_count": 275,
   "metadata": {
    "colab": {
     "base_uri": "https://localhost:8080/"
    },
    "id": "8Qwc_SNu8w4b",
    "outputId": "165db30a-d45a-4109-fce9-3c6ebde569d8"
   },
   "outputs": [
    {
     "data": {
      "text/plain": [
       "array([[50.  ,  2.  ,  1.68, ...,  0.  ,  1.  ,  0.  ],\n",
       "       [55.  ,  1.  ,  1.56, ...,  0.  ,  1.  ,  1.  ],\n",
       "       [51.  ,  1.  ,  1.65, ...,  0.  ,  0.  ,  1.  ],\n",
       "       ...,\n",
       "       [52.  ,  2.  ,  1.83, ...,  1.  ,  0.  ,  1.  ],\n",
       "       [61.  ,  1.  ,  1.63, ...,  0.  ,  0.  ,  1.  ],\n",
       "       [56.  ,  1.  ,  1.7 , ...,  0.  ,  1.  ,  0.  ]])"
      ]
     },
     "execution_count": 275,
     "metadata": {},
     "output_type": "execute_result"
    }
   ],
   "source": [
    "dataset"
   ]
  },
  {
   "cell_type": "markdown",
   "metadata": {
    "id": "8DvtN2Gq8w4b"
   },
   "source": [
    "Now, we split the dataset into our input features and the label we wish to predict."
   ]
  },
  {
   "cell_type": "code",
   "execution_count": 276,
   "metadata": {
    "id": "fZYsN1Z48w4c"
   },
   "outputs": [],
   "source": [
    "X = dataset[:,0:13]\n",
    "Y = dataset[:,13]"
   ]
  },
  {
   "cell_type": "code",
   "execution_count": 277,
   "metadata": {},
   "outputs": [
    {
     "data": {
      "text/plain": [
       "(68525,)"
      ]
     },
     "execution_count": 277,
     "metadata": {},
     "output_type": "execute_result"
    }
   ],
   "source": [
    "Y.shape"
   ]
  },
  {
   "cell_type": "markdown",
   "metadata": {
    "id": "B8DYMOwv8w4c"
   },
   "source": [
    "Normalizing our data is very important, as we want the input features to be on the same order of magnitude to make our training easier. We'll use a min-max scaler from scikit-learn which scales our data to be between 0 and 1."
   ]
  },
  {
   "cell_type": "code",
   "execution_count": 278,
   "metadata": {
    "id": "lTBPCANC8w4c"
   },
   "outputs": [],
   "source": [
    "from sklearn import preprocessing"
   ]
  },
  {
   "cell_type": "code",
   "execution_count": 279,
   "metadata": {
    "id": "ULs0p5dM8w4d"
   },
   "outputs": [],
   "source": [
    "min_max_scaler = preprocessing.MinMaxScaler()\n",
    "X_scale = min_max_scaler.fit_transform(X)"
   ]
  },
  {
   "cell_type": "code",
   "execution_count": 280,
   "metadata": {
    "colab": {
     "base_uri": "https://localhost:8080/"
    },
    "id": "OdJgXeK88w4d",
    "outputId": "3d3c3df9-bdeb-494d-b00d-021cb5fec5a8"
   },
   "outputs": [
    {
     "data": {
      "text/plain": [
       "array([[0.6       , 1.        , 0.57948718, ..., 0.        , 0.        ,\n",
       "        1.        ],\n",
       "       [0.74285714, 0.        , 0.51794872, ..., 0.        , 0.        ,\n",
       "        1.        ],\n",
       "       [0.62857143, 0.        , 0.56410256, ..., 0.        , 0.        ,\n",
       "        0.        ],\n",
       "       ...,\n",
       "       [0.65714286, 1.        , 0.65641026, ..., 0.        , 1.        ,\n",
       "        0.        ],\n",
       "       [0.91428571, 0.        , 0.55384615, ..., 0.        , 0.        ,\n",
       "        0.        ],\n",
       "       [0.77142857, 0.        , 0.58974359, ..., 0.        , 0.        ,\n",
       "        1.        ]])"
      ]
     },
     "execution_count": 280,
     "metadata": {},
     "output_type": "execute_result"
    }
   ],
   "source": [
    "X_scale"
   ]
  },
  {
   "cell_type": "markdown",
   "metadata": {
    "id": "_yGN8oui8w4e"
   },
   "source": [
    "Lastly, we wish to set aside some parts of our dataset for a validation set and a test set. We use the function train_test_split from scikit-learn to do that."
   ]
  },
  {
   "cell_type": "code",
   "execution_count": 281,
   "metadata": {
    "id": "aGuoL5JR8w4e"
   },
   "outputs": [],
   "source": [
    "from sklearn.model_selection import train_test_split"
   ]
  },
  {
   "cell_type": "code",
   "execution_count": 282,
   "metadata": {
    "id": "3sTaX8AI8w4e"
   },
   "outputs": [],
   "source": [
    "X_train, X_val_and_test, Y_train, Y_val_and_test = train_test_split(X_scale, Y, test_size=0.3)"
   ]
  },
  {
   "cell_type": "code",
   "execution_count": 283,
   "metadata": {
    "id": "B-TuHb-R8w4e"
   },
   "outputs": [],
   "source": [
    "X_val, X_test, Y_val, Y_test = train_test_split(X_val_and_test, Y_val_and_test, test_size=0.5)"
   ]
  },
  {
   "cell_type": "code",
   "execution_count": 284,
   "metadata": {
    "colab": {
     "base_uri": "https://localhost:8080/"
    },
    "id": "EKGvyHdb8w4f",
    "outputId": "a5b1f0db-0ddf-4e1f-9dca-a92157f4eb31"
   },
   "outputs": [
    {
     "name": "stdout",
     "output_type": "stream",
     "text": [
      "(47967, 13) (10279, 13) (10279, 13) (47967,) (10279,) (10279,)\n"
     ]
    }
   ],
   "source": [
    "print(X_train.shape, X_val.shape, X_test.shape, Y_train.shape, Y_val.shape, Y_test.shape)"
   ]
  },
  {
   "cell_type": "markdown",
   "metadata": {
    "id": "_FZk_iG68w4f"
   },
   "source": [
    "# Building and Training Our First Neural Network"
   ]
  },
  {
   "cell_type": "markdown",
   "metadata": {
    "id": "HSjV__UI8w4f"
   },
   "source": [
    "We will be using Keras to build our architecture. Let's import the code from Keras that we will need to use:"
   ]
  },
  {
   "cell_type": "code",
   "execution_count": 285,
   "metadata": {
    "id": "9iK6dhIN8w4g"
   },
   "outputs": [],
   "source": [
    "from keras.models import Sequential\n",
    "from keras.layers import Dense\n",
    "import tensorflow as tf"
   ]
  },
  {
   "cell_type": "markdown",
   "metadata": {
    "id": "hn5qkdAp8w4g"
   },
   "source": [
    "We will be using the Sequential model, which means that we merely need to describe the layers above in sequence. Our neural network has three layers:\n",
    "\n",
    "- Hidden layer 1: 30 neurons, ReLU activation\n",
    "- Hidden layer 2: 30 neurons, ReLU activation\n",
    "- Output Layer: 1 neuron, Sigmoid activation"
   ]
  },
  {
   "cell_type": "code",
   "execution_count": 505,
   "metadata": {
    "id": "Q9OC87TB8w4g"
   },
   "outputs": [],
   "source": [
    "model = Sequential([\n",
    "    Dense(13, activation='relu', input_shape=(13,)),\n",
    "    Dense(28, activation='relu'),\n",
    "    Dense(28, activation='relu'),    \n",
    "    Dense(1, activation='sigmoid'),\n",
    "])"
   ]
  },
  {
   "cell_type": "code",
   "execution_count": 506,
   "metadata": {
    "colab": {
     "base_uri": "https://localhost:8080/"
    },
    "id": "dBVvqqs-1QFT",
    "outputId": "61a905f5-795e-42d0-bd8c-3076111d3196"
   },
   "outputs": [
    {
     "name": "stdout",
     "output_type": "stream",
     "text": [
      "Model: \"sequential_56\"\n",
      "_________________________________________________________________\n",
      "Layer (type)                 Output Shape              Param #   \n",
      "=================================================================\n",
      "dense_191 (Dense)            (None, 13)                182       \n",
      "_________________________________________________________________\n",
      "dense_192 (Dense)            (None, 28)                392       \n",
      "_________________________________________________________________\n",
      "dense_193 (Dense)            (None, 28)                812       \n",
      "_________________________________________________________________\n",
      "dense_194 (Dense)            (None, 1)                 29        \n",
      "=================================================================\n",
      "Total params: 1,415\n",
      "Trainable params: 1,415\n",
      "Non-trainable params: 0\n",
      "_________________________________________________________________\n"
     ]
    }
   ],
   "source": [
    "model.summary()"
   ]
  },
  {
   "cell_type": "markdown",
   "metadata": {},
   "source": [
    "<img src=\"model.JPG\" width=\"600\">"
   ]
  },
  {
   "cell_type": "markdown",
   "metadata": {
    "id": "1wZmRhfQ8w4g"
   },
   "source": [
    "Now that we've got our architecture specified, we need to find the best numbers for it. Before we start our training, we have to configure the model by\n",
    "- Telling it what algorithm you want to use to do the optimization (we'll use stochastic gradient descent)\n",
    "- Telling it what loss function to use (for binary classification, we will use binary cross entropy)\n",
    "- Telling it what other metrics you want to track apart from the loss function (we want to track accuracy as well)\n",
    "\n",
    "We do so below:"
   ]
  },
  {
   "cell_type": "markdown",
   "metadata": {
    "id": "eXe570yjzvdF"
   },
   "source": [
    "# OPTIMIZER : SGD"
   ]
  },
  {
   "cell_type": "markdown",
   "metadata": {},
   "source": [
    "I tried different optimizers:<br>\n",
    "i) SGD <br>\n",
    "\n",
    "Originally we are using Mini-Batch gradient descent here. Mini-Batch gradient decent integrates the advantages of batch gradient decent and stochastic gradient decent, and update the parameters after obtaining the gradient of a mini-batch of samples:\n",
    "$$x_{k+1} = x_{k} − t_{k}∆f(x_{k})^{(i:i+m)}$$\n",
    "where the mini-batch size is m.<br>\n",
    "Mini-batch gradient decent can not guarantee good convergence, and the tuning of step size also need some experience. Therefore some researchers extend it with some more useful tricks and techniques to improve the convergence which we will see. For convenience, people also call mini-batch gradient decent as SGD."
   ]
  },
  {
   "cell_type": "markdown",
   "metadata": {},
   "source": [
    "## Vanilla SGD with low learning rate"
   ]
  },
  {
   "cell_type": "code",
   "execution_count": 518,
   "metadata": {},
   "outputs": [],
   "source": [
    "model = Sequential([\n",
    "    Dense(13, activation='relu', input_shape=(13,)),\n",
    "    Dense(28, activation='relu'),\n",
    "    Dense(28, activation='relu'),\n",
    "    Dense(1, activation='sigmoid'),\n",
    "])\n",
    "sgd = tf.keras.optimizers.SGD(learning_rate= 0.0001)"
   ]
  },
  {
   "cell_type": "markdown",
   "metadata": {
    "id": "J3PduwaF8w4h"
   },
   "source": [
    "Training on the data is pretty straightforward and requires us to write one line of code. The function is called 'fit' as we are fitting the parameters to the data. We specify:\n",
    "- what data we are training on, which is X_train and Y_train\n",
    "- the size of our mini-batch \n",
    "- how long we want to train it for (epochs)\n",
    "- what our validation data is so that the model will tell us how we are doing on the validation data at each point.\n",
    "\n",
    "This function will output a history, which we save under the variable hist. We'll use this variable a little later."
   ]
  },
  {
   "cell_type": "code",
   "execution_count": 519,
   "metadata": {},
   "outputs": [],
   "source": [
    "model.compile(optimizer = \"sgd\",\n",
    "              loss='binary_crossentropy',\n",
    "              metrics=['accuracy'])"
   ]
  },
  {
   "cell_type": "code",
   "execution_count": 520,
   "metadata": {},
   "outputs": [
    {
     "name": "stdout",
     "output_type": "stream",
     "text": [
      "Epoch 1/100\n",
      "686/686 [==============================] - 1s 1ms/step - loss: 0.6936 - accuracy: 0.5097 - val_loss: 0.6896 - val_accuracy: 0.5622\n",
      "Epoch 2/100\n",
      "686/686 [==============================] - 1s 862us/step - loss: 0.6889 - accuracy: 0.5583 - val_loss: 0.6835 - val_accuracy: 0.5897\n",
      "Epoch 3/100\n",
      "686/686 [==============================] - 1s 1ms/step - loss: 0.6821 - accuracy: 0.5886 - val_loss: 0.6735 - val_accuracy: 0.5986\n",
      "Epoch 4/100\n",
      "686/686 [==============================] - 1s 821us/step - loss: 0.6703 - accuracy: 0.6078 - val_loss: 0.6525 - val_accuracy: 0.6498\n",
      "Epoch 5/100\n",
      "686/686 [==============================] - 1s 832us/step - loss: 0.6461 - accuracy: 0.6536 - val_loss: 0.6177 - val_accuracy: 0.6924\n",
      "Epoch 6/100\n",
      "686/686 [==============================] - 1s 813us/step - loss: 0.6114 - accuracy: 0.6867 - val_loss: 0.5855 - val_accuracy: 0.6987\n",
      "Epoch 7/100\n",
      "686/686 [==============================] - 1s 747us/step - loss: 0.5826 - accuracy: 0.7044 - val_loss: 0.5660 - val_accuracy: 0.7206\n",
      "Epoch 8/100\n",
      "686/686 [==============================] - 1s 801us/step - loss: 0.5652 - accuracy: 0.7166 - val_loss: 0.5603 - val_accuracy: 0.7288\n",
      "Epoch 9/100\n",
      "686/686 [==============================] - 1s 762us/step - loss: 0.5605 - accuracy: 0.7213 - val_loss: 0.5583 - val_accuracy: 0.7294\n",
      "Epoch 10/100\n",
      "686/686 [==============================] - 1s 773us/step - loss: 0.5597 - accuracy: 0.7217 - val_loss: 0.5576 - val_accuracy: 0.7282\n",
      "Epoch 11/100\n",
      "686/686 [==============================] - 1s 987us/step - loss: 0.5587 - accuracy: 0.7222 - val_loss: 0.5586 - val_accuracy: 0.7288\n",
      "Epoch 12/100\n",
      "686/686 [==============================] - 1s 955us/step - loss: 0.5550 - accuracy: 0.7236 - val_loss: 0.5564 - val_accuracy: 0.7297\n",
      "Epoch 13/100\n",
      "686/686 [==============================] - 1s 781us/step - loss: 0.5538 - accuracy: 0.7273 - val_loss: 0.5641 - val_accuracy: 0.7235\n",
      "Epoch 14/100\n",
      "686/686 [==============================] - 1s 950us/step - loss: 0.5520 - accuracy: 0.7293 - val_loss: 0.5553 - val_accuracy: 0.7295\n",
      "Epoch 15/100\n",
      "686/686 [==============================] - 1s 944us/step - loss: 0.5578 - accuracy: 0.7226 - val_loss: 0.5590 - val_accuracy: 0.7297\n",
      "Epoch 16/100\n",
      "686/686 [==============================] - 1s 941us/step - loss: 0.5574 - accuracy: 0.7233 - val_loss: 0.5594 - val_accuracy: 0.7271\n",
      "Epoch 17/100\n",
      "686/686 [==============================] - 1s 819us/step - loss: 0.5543 - accuracy: 0.7256 - val_loss: 0.5560 - val_accuracy: 0.7279\n",
      "Epoch 18/100\n",
      "686/686 [==============================] - 1s 954us/step - loss: 0.5549 - accuracy: 0.7253 - val_loss: 0.5536 - val_accuracy: 0.7307\n",
      "Epoch 19/100\n",
      "686/686 [==============================] - 1s 853us/step - loss: 0.5533 - accuracy: 0.7258 - val_loss: 0.5638 - val_accuracy: 0.7217\n",
      "Epoch 20/100\n",
      "686/686 [==============================] - 1s 854us/step - loss: 0.5556 - accuracy: 0.7238 - val_loss: 0.5551 - val_accuracy: 0.7288\n",
      "Epoch 21/100\n",
      "686/686 [==============================] - 1s 808us/step - loss: 0.5522 - accuracy: 0.7281 - val_loss: 0.5527 - val_accuracy: 0.7307\n",
      "Epoch 22/100\n",
      "686/686 [==============================] - 1s 807us/step - loss: 0.5539 - accuracy: 0.7223 - val_loss: 0.5545 - val_accuracy: 0.7281\n",
      "Epoch 23/100\n",
      "686/686 [==============================] - 1s 798us/step - loss: 0.5566 - accuracy: 0.7209 - val_loss: 0.5559 - val_accuracy: 0.7271\n",
      "Epoch 24/100\n",
      "686/686 [==============================] - 1s 807us/step - loss: 0.5514 - accuracy: 0.7257 - val_loss: 0.5552 - val_accuracy: 0.7282\n",
      "Epoch 25/100\n",
      "686/686 [==============================] - 1s 793us/step - loss: 0.5508 - accuracy: 0.7256 - val_loss: 0.5528 - val_accuracy: 0.7294\n",
      "Epoch 26/100\n",
      "686/686 [==============================] - 1s 827us/step - loss: 0.5544 - accuracy: 0.7248 - val_loss: 0.5512 - val_accuracy: 0.7306\n",
      "Epoch 27/100\n",
      "686/686 [==============================] - 1s 947us/step - loss: 0.5513 - accuracy: 0.7260 - val_loss: 0.5511 - val_accuracy: 0.7302\n",
      "Epoch 28/100\n",
      "686/686 [==============================] - 1s 850us/step - loss: 0.5495 - accuracy: 0.7266 - val_loss: 0.5506 - val_accuracy: 0.7314\n",
      "Epoch 29/100\n",
      "686/686 [==============================] - 1s 895us/step - loss: 0.5510 - accuracy: 0.7265 - val_loss: 0.5509 - val_accuracy: 0.7329\n",
      "Epoch 30/100\n",
      "686/686 [==============================] - 1s 896us/step - loss: 0.5504 - accuracy: 0.7283 - val_loss: 0.5501 - val_accuracy: 0.7324\n",
      "Epoch 31/100\n",
      "686/686 [==============================] - 1s 824us/step - loss: 0.5501 - accuracy: 0.7276 - val_loss: 0.5499 - val_accuracy: 0.7316\n",
      "Epoch 32/100\n",
      "686/686 [==============================] - 1s 803us/step - loss: 0.5474 - accuracy: 0.7296 - val_loss: 0.5494 - val_accuracy: 0.7308\n",
      "Epoch 33/100\n",
      "686/686 [==============================] - 1s 827us/step - loss: 0.5519 - accuracy: 0.7280 - val_loss: 0.5492 - val_accuracy: 0.7317\n",
      "Epoch 34/100\n",
      "686/686 [==============================] - 1s 859us/step - loss: 0.5480 - accuracy: 0.7284 - val_loss: 0.5534 - val_accuracy: 0.7313\n",
      "Epoch 35/100\n",
      "686/686 [==============================] - 1s 1ms/step - loss: 0.5479 - accuracy: 0.7293 - val_loss: 0.5490 - val_accuracy: 0.7310\n",
      "Epoch 36/100\n",
      "686/686 [==============================] - 1s 810us/step - loss: 0.5503 - accuracy: 0.7275 - val_loss: 0.5536 - val_accuracy: 0.7305\n",
      "Epoch 37/100\n",
      "686/686 [==============================] - 1s 744us/step - loss: 0.5523 - accuracy: 0.7280 - val_loss: 0.5507 - val_accuracy: 0.7320\n",
      "Epoch 38/100\n",
      "686/686 [==============================] - 1s 872us/step - loss: 0.5462 - accuracy: 0.7302 - val_loss: 0.5480 - val_accuracy: 0.7315\n",
      "Epoch 39/100\n",
      "686/686 [==============================] - 1s 864us/step - loss: 0.5482 - accuracy: 0.7277 - val_loss: 0.5481 - val_accuracy: 0.7328\n",
      "Epoch 40/100\n",
      "686/686 [==============================] - 1s 955us/step - loss: 0.5467 - accuracy: 0.7294 - val_loss: 0.5483 - val_accuracy: 0.7327\n",
      "Epoch 41/100\n",
      "686/686 [==============================] - 1s 815us/step - loss: 0.5467 - accuracy: 0.7312 - val_loss: 0.5482 - val_accuracy: 0.7329\n",
      "Epoch 42/100\n",
      "686/686 [==============================] - 1s 818us/step - loss: 0.5463 - accuracy: 0.7327 - val_loss: 0.5466 - val_accuracy: 0.7316\n",
      "Epoch 43/100\n",
      "686/686 [==============================] - 1s 823us/step - loss: 0.5504 - accuracy: 0.7266 - val_loss: 0.5467 - val_accuracy: 0.7329\n",
      "Epoch 44/100\n",
      "686/686 [==============================] - 1s 867us/step - loss: 0.5483 - accuracy: 0.7293 - val_loss: 0.5464 - val_accuracy: 0.7315\n",
      "Epoch 45/100\n",
      "686/686 [==============================] - 1s 1ms/step - loss: 0.5437 - accuracy: 0.7345 - val_loss: 0.5465 - val_accuracy: 0.7336\n",
      "Epoch 46/100\n",
      "686/686 [==============================] - 1s 857us/step - loss: 0.5459 - accuracy: 0.7304 - val_loss: 0.5457 - val_accuracy: 0.7331\n",
      "Epoch 47/100\n",
      "686/686 [==============================] - 1s 837us/step - loss: 0.5464 - accuracy: 0.7323 - val_loss: 0.5475 - val_accuracy: 0.7334\n",
      "Epoch 48/100\n",
      "686/686 [==============================] - 1s 990us/step - loss: 0.5478 - accuracy: 0.7317 - val_loss: 0.5454 - val_accuracy: 0.7335\n",
      "Epoch 49/100\n",
      "686/686 [==============================] - 1s 858us/step - loss: 0.5488 - accuracy: 0.7324 - val_loss: 0.5472 - val_accuracy: 0.7339\n",
      "Epoch 50/100\n",
      "686/686 [==============================] - 1s 747us/step - loss: 0.5477 - accuracy: 0.7322 - val_loss: 0.5463 - val_accuracy: 0.7341\n",
      "Epoch 51/100\n",
      "686/686 [==============================] - 1s 755us/step - loss: 0.5516 - accuracy: 0.7275 - val_loss: 0.5456 - val_accuracy: 0.7331\n",
      "Epoch 52/100\n",
      "686/686 [==============================] - 1s 781us/step - loss: 0.5470 - accuracy: 0.7310 - val_loss: 0.5457 - val_accuracy: 0.7343\n",
      "Epoch 53/100\n",
      "686/686 [==============================] - 1s 993us/step - loss: 0.5495 - accuracy: 0.7323 - val_loss: 0.5451 - val_accuracy: 0.7322\n",
      "Epoch 54/100\n",
      "686/686 [==============================] - 1s 991us/step - loss: 0.5455 - accuracy: 0.7326 - val_loss: 0.5466 - val_accuracy: 0.7343\n",
      "Epoch 55/100\n",
      "686/686 [==============================] - 1s 811us/step - loss: 0.5494 - accuracy: 0.7283 - val_loss: 0.5449 - val_accuracy: 0.7331\n",
      "Epoch 56/100\n",
      "686/686 [==============================] - 1s 838us/step - loss: 0.5409 - accuracy: 0.7339 - val_loss: 0.5449 - val_accuracy: 0.7335\n",
      "Epoch 57/100\n"
     ]
    },
    {
     "name": "stdout",
     "output_type": "stream",
     "text": [
      "686/686 [==============================] - 1s 748us/step - loss: 0.5421 - accuracy: 0.7353 - val_loss: 0.5458 - val_accuracy: 0.7331\n",
      "Epoch 58/100\n",
      "686/686 [==============================] - 0s 693us/step - loss: 0.5491 - accuracy: 0.7303 - val_loss: 0.5450 - val_accuracy: 0.7326\n",
      "Epoch 59/100\n",
      "686/686 [==============================] - 1s 731us/step - loss: 0.5437 - accuracy: 0.7357 - val_loss: 0.5447 - val_accuracy: 0.7316\n",
      "Epoch 60/100\n",
      "686/686 [==============================] - 1s 805us/step - loss: 0.5441 - accuracy: 0.7330 - val_loss: 0.5497 - val_accuracy: 0.7316\n",
      "Epoch 61/100\n",
      "686/686 [==============================] - 1s 969us/step - loss: 0.5460 - accuracy: 0.7312 - val_loss: 0.5486 - val_accuracy: 0.7323\n",
      "Epoch 62/100\n",
      "686/686 [==============================] - 1s 969us/step - loss: 0.5450 - accuracy: 0.7322 - val_loss: 0.5448 - val_accuracy: 0.7336\n",
      "Epoch 63/100\n",
      "686/686 [==============================] - 1s 975us/step - loss: 0.5423 - accuracy: 0.7346 - val_loss: 0.5444 - val_accuracy: 0.7330\n",
      "Epoch 64/100\n",
      "686/686 [==============================] - 1s 941us/step - loss: 0.5433 - accuracy: 0.7339 - val_loss: 0.5449 - val_accuracy: 0.7337\n",
      "Epoch 65/100\n",
      "686/686 [==============================] - 1s 960us/step - loss: 0.5453 - accuracy: 0.7317 - val_loss: 0.5453 - val_accuracy: 0.7338\n",
      "Epoch 66/100\n",
      "686/686 [==============================] - 1s 755us/step - loss: 0.5426 - accuracy: 0.7347 - val_loss: 0.5447 - val_accuracy: 0.7335\n",
      "Epoch 67/100\n",
      "686/686 [==============================] - 1s 960us/step - loss: 0.5516 - accuracy: 0.7268 - val_loss: 0.5480 - val_accuracy: 0.7307\n",
      "Epoch 68/100\n",
      "686/686 [==============================] - 1s 922us/step - loss: 0.5433 - accuracy: 0.7346 - val_loss: 0.5500 - val_accuracy: 0.7327\n",
      "Epoch 69/100\n",
      "686/686 [==============================] - 1s 781us/step - loss: 0.5465 - accuracy: 0.7310 - val_loss: 0.5445 - val_accuracy: 0.7331\n",
      "Epoch 70/100\n",
      "686/686 [==============================] - 1s 916us/step - loss: 0.5428 - accuracy: 0.7344 - val_loss: 0.5505 - val_accuracy: 0.7335\n",
      "Epoch 71/100\n",
      "686/686 [==============================] - 1s 966us/step - loss: 0.5431 - accuracy: 0.7344 - val_loss: 0.5453 - val_accuracy: 0.7319\n",
      "Epoch 72/100\n",
      "686/686 [==============================] - 1s 911us/step - loss: 0.5458 - accuracy: 0.7275 - val_loss: 0.5444 - val_accuracy: 0.7310\n",
      "Epoch 73/100\n",
      "686/686 [==============================] - 1s 1ms/step - loss: 0.5477 - accuracy: 0.7301 - val_loss: 0.5460 - val_accuracy: 0.7334\n",
      "Epoch 74/100\n",
      "686/686 [==============================] - 1s 831us/step - loss: 0.5454 - accuracy: 0.7292 - val_loss: 0.5466 - val_accuracy: 0.7319\n",
      "Epoch 75/100\n",
      "686/686 [==============================] - 1s 799us/step - loss: 0.5432 - accuracy: 0.7320 - val_loss: 0.5443 - val_accuracy: 0.7336\n",
      "Epoch 76/100\n",
      "686/686 [==============================] - 1s 780us/step - loss: 0.5458 - accuracy: 0.7317 - val_loss: 0.5449 - val_accuracy: 0.7330\n",
      "Epoch 77/100\n",
      "686/686 [==============================] - 1s 742us/step - loss: 0.5479 - accuracy: 0.7305 - val_loss: 0.5481 - val_accuracy: 0.7284\n",
      "Epoch 78/100\n",
      "686/686 [==============================] - 1s 783us/step - loss: 0.5446 - accuracy: 0.7307 - val_loss: 0.5448 - val_accuracy: 0.7322\n",
      "Epoch 79/100\n",
      "686/686 [==============================] - 1s 757us/step - loss: 0.5496 - accuracy: 0.7267 - val_loss: 0.5505 - val_accuracy: 0.7317\n",
      "Epoch 80/100\n",
      "686/686 [==============================] - 1s 875us/step - loss: 0.5429 - accuracy: 0.7328 - val_loss: 0.5443 - val_accuracy: 0.7322\n",
      "Epoch 81/100\n",
      "686/686 [==============================] - 1s 944us/step - loss: 0.5454 - accuracy: 0.7309 - val_loss: 0.5442 - val_accuracy: 0.7332\n",
      "Epoch 82/100\n",
      "686/686 [==============================] - 1s 982us/step - loss: 0.5419 - accuracy: 0.7350 - val_loss: 0.5440 - val_accuracy: 0.7333\n",
      "Epoch 83/100\n",
      "686/686 [==============================] - 1s 929us/step - loss: 0.5383 - accuracy: 0.7365 - val_loss: 0.5452 - val_accuracy: 0.7335\n",
      "Epoch 84/100\n",
      "686/686 [==============================] - 1s 957us/step - loss: 0.5508 - accuracy: 0.7284 - val_loss: 0.5460 - val_accuracy: 0.7313\n",
      "Epoch 85/100\n",
      "686/686 [==============================] - 1s 757us/step - loss: 0.5428 - accuracy: 0.7335 - val_loss: 0.5457 - val_accuracy: 0.7317\n",
      "Epoch 86/100\n",
      "686/686 [==============================] - 1s 765us/step - loss: 0.5439 - accuracy: 0.7326 - val_loss: 0.5467 - val_accuracy: 0.7325\n",
      "Epoch 87/100\n",
      "686/686 [==============================] - 1s 919us/step - loss: 0.5461 - accuracy: 0.7312 - val_loss: 0.5446 - val_accuracy: 0.7340\n",
      "Epoch 88/100\n",
      "686/686 [==============================] - 1s 952us/step - loss: 0.5445 - accuracy: 0.7336 - val_loss: 0.5465 - val_accuracy: 0.7324\n",
      "Epoch 89/100\n",
      "686/686 [==============================] - 1s 793us/step - loss: 0.5431 - accuracy: 0.7336 - val_loss: 0.5442 - val_accuracy: 0.7325\n",
      "Epoch 90/100\n",
      "686/686 [==============================] - 1s 829us/step - loss: 0.5448 - accuracy: 0.7331 - val_loss: 0.5486 - val_accuracy: 0.7321\n",
      "Epoch 91/100\n",
      "686/686 [==============================] - 1s 873us/step - loss: 0.5429 - accuracy: 0.7325 - val_loss: 0.5453 - val_accuracy: 0.7321\n",
      "Epoch 92/100\n",
      "686/686 [==============================] - 1s 826us/step - loss: 0.5448 - accuracy: 0.7309 - val_loss: 0.5464 - val_accuracy: 0.7312\n",
      "Epoch 93/100\n",
      "686/686 [==============================] - 1s 817us/step - loss: 0.5430 - accuracy: 0.7329 - val_loss: 0.5440 - val_accuracy: 0.7317\n",
      "Epoch 94/100\n",
      "686/686 [==============================] - 1s 821us/step - loss: 0.5454 - accuracy: 0.7323 - val_loss: 0.5465 - val_accuracy: 0.7329\n",
      "Epoch 95/100\n",
      "686/686 [==============================] - 1s 841us/step - loss: 0.5417 - accuracy: 0.7313 - val_loss: 0.5441 - val_accuracy: 0.7315\n",
      "Epoch 96/100\n",
      "686/686 [==============================] - 1s 831us/step - loss: 0.5437 - accuracy: 0.7305 - val_loss: 0.5459 - val_accuracy: 0.7321\n",
      "Epoch 97/100\n",
      "686/686 [==============================] - 1s 830us/step - loss: 0.5427 - accuracy: 0.7322 - val_loss: 0.5437 - val_accuracy: 0.7320\n",
      "Epoch 98/100\n",
      "686/686 [==============================] - 1s 817us/step - loss: 0.5421 - accuracy: 0.7319 - val_loss: 0.5461 - val_accuracy: 0.7309\n",
      "Epoch 99/100\n",
      "686/686 [==============================] - 1s 855us/step - loss: 0.5421 - accuracy: 0.7343 - val_loss: 0.5440 - val_accuracy: 0.7333\n",
      "Epoch 100/100\n",
      "686/686 [==============================] - 1s 902us/step - loss: 0.5451 - accuracy: 0.7300 - val_loss: 0.5436 - val_accuracy: 0.7335\n"
     ]
    }
   ],
   "source": [
    "hist = model.fit(X_train, Y_train,\n",
    "          batch_size=70, epochs=100,\n",
    "          validation_data=(X_val, Y_val))"
   ]
  },
  {
   "cell_type": "markdown",
   "metadata": {},
   "source": [
    "Evaluating our data on the test set"
   ]
  },
  {
   "cell_type": "code",
   "execution_count": 521,
   "metadata": {},
   "outputs": [
    {
     "name": "stdout",
     "output_type": "stream",
     "text": [
      "322/322 [==============================] - 0s 511us/step - loss: 0.5449 - accuracy: 0.7337\n"
     ]
    },
    {
     "data": {
      "text/plain": [
       "0.7337289452552795"
      ]
     },
     "execution_count": 521,
     "metadata": {},
     "output_type": "execute_result"
    }
   ],
   "source": [
    "model.evaluate(X_test, Y_test)[1]"
   ]
  },
  {
   "cell_type": "markdown",
   "metadata": {},
   "source": [
    "## Visualizing Loss and Accuracy of SGD"
   ]
  },
  {
   "cell_type": "code",
   "execution_count": 522,
   "metadata": {},
   "outputs": [],
   "source": [
    "def gradient(model, x):\n",
    "    x_tensor = tf.convert_to_tensor(x, dtype=tf.float32)\n",
    "    with tf.GradientTape() as t:\n",
    "        t.watch(x_tensor)\n",
    "        loss = model(x_tensor)\n",
    "    return t.gradient(loss, x_tensor).numpy()\n",
    "l = gradient(model , X_train)"
   ]
  },
  {
   "cell_type": "code",
   "execution_count": 523,
   "metadata": {},
   "outputs": [
    {
     "data": {
      "text/plain": [
       "Text(0.5, 1.0, 'Density curve of norm of gradients from sgd')"
      ]
     },
     "execution_count": 523,
     "metadata": {},
     "output_type": "execute_result"
    },
    {
     "data": {
      "image/png": "[encoded data removed]",
      "text/plain": [
       "<Figure size 720x360 with 1 Axes>"
      ]
     },
     "metadata": {},
     "output_type": "display_data"
    }
   ],
   "source": [
    "grad = []\n",
    "for i in l :\n",
    "  \n",
    "  grad.append(np.linalg.norm(i))\n",
    "plt.figure(figsize= (10,5))\n",
    "sns.kdeplot(grad , fill=True )\n",
    "plt.title(\"Density curve of norm of gradients from sgd\")"
   ]
  },
  {
   "cell_type": "markdown",
   "metadata": {
    "id": "xHp423rN8w4j"
   },
   "source": [
    "We want to visualize the training loss and the validation loss like this:"
   ]
  },
  {
   "cell_type": "code",
   "execution_count": 524,
   "metadata": {
    "colab": {
     "base_uri": "https://localhost:8080/",
     "height": 295
    },
    "id": "Hg8gvwLX8w4j",
    "outputId": "d565fe93-2a48-4c5c-d3fd-38e789e7c514"
   },
   "outputs": [
    {
     "data": {
      "image/png": "[encoded data removed]",
      "text/plain": [
       "<Figure size 1080x576 with 1 Axes>"
      ]
     },
     "metadata": {},
     "output_type": "display_data"
    }
   ],
   "source": [
    "plt.figure(figsize=(15,8))\n",
    "plt.plot(hist.history['loss'])\n",
    "plt.plot(hist.history['val_loss'])\n",
    "plt.title('Model loss')\n",
    "plt.ylabel('Loss')\n",
    "plt.xlabel('Epoch')\n",
    "plt.legend(['Train', 'Val'], loc='upper right')\n",
    "plt.show()"
   ]
  },
  {
   "cell_type": "markdown",
   "metadata": {
    "id": "-MH8MG6f8w4k"
   },
   "source": [
    "We can also visualize the training accuracy and the validation accuracy like this:"
   ]
  },
  {
   "cell_type": "code",
   "execution_count": 525,
   "metadata": {
    "colab": {
     "base_uri": "https://localhost:8080/",
     "height": 295
    },
    "id": "EmNWuUS78w4k",
    "outputId": "43964db2-0fea-4441-a8a0-8122174107be"
   },
   "outputs": [
    {
     "data": {
      "image/png": "[encoded data removed]",
      "text/plain": [
       "<Figure size 1080x576 with 1 Axes>"
      ]
     },
     "metadata": {},
     "output_type": "display_data"
    }
   ],
   "source": [
    "plt.figure(figsize=(15,8))\n",
    "plt.plot(hist.history['accuracy'])\n",
    "plt.plot(hist.history['val_accuracy'])\n",
    "plt.title('Model accuracy')\n",
    "plt.ylabel('Accuracy')\n",
    "plt.xlabel('Epoch')\n",
    "plt.legend(['Train', 'Val'], loc='lower right')\n",
    "plt.show()"
   ]
  },
  {
   "cell_type": "markdown",
   "metadata": {},
   "source": [
    "## Vanilla SGD with intermediate learning rate"
   ]
  },
  {
   "cell_type": "code",
   "execution_count": 529,
   "metadata": {
    "id": "lyZJ-2L8z8bD"
   },
   "outputs": [],
   "source": [
    "sgd = tf.keras.optimizers.SGD(learning_rate= 0.01)\n",
    "model = Sequential([\n",
    "    Dense(13, activation='relu', input_shape=(13,)),\n",
    "    Dense(28, activation='relu'),\n",
    "    Dense(28, activation='relu'),\n",
    "    Dense(1, activation='sigmoid'),\n",
    "])"
   ]
  },
  {
   "cell_type": "code",
   "execution_count": 530,
   "metadata": {
    "id": "kmI814Dv8w4h"
   },
   "outputs": [],
   "source": [
    "model.compile(optimizer = \"sgd\",\n",
    "              loss='binary_crossentropy',\n",
    "              metrics=['accuracy'])"
   ]
  },
  {
   "cell_type": "code",
   "execution_count": 531,
   "metadata": {
    "colab": {
     "base_uri": "https://localhost:8080/"
    },
    "id": "n-XU7J4Y8w4h",
    "outputId": "d9df53f2-67d0-4ecc-b30d-ab2880c16493"
   },
   "outputs": [
    {
     "name": "stdout",
     "output_type": "stream",
     "text": [
      "Epoch 1/100\n",
      "686/686 [==============================] - 1s 1ms/step - loss: 0.6894 - accuracy: 0.5253 - val_loss: 0.6825 - val_accuracy: 0.5767\n",
      "Epoch 2/100\n",
      "686/686 [==============================] - 1s 834us/step - loss: 0.6804 - accuracy: 0.5940 - val_loss: 0.6675 - val_accuracy: 0.6325\n",
      "Epoch 3/100\n",
      "686/686 [==============================] - 1s 857us/step - loss: 0.6621 - accuracy: 0.6413 - val_loss: 0.6375 - val_accuracy: 0.6884\n",
      "Epoch 4/100\n",
      "686/686 [==============================] - 1s 810us/step - loss: 0.6278 - accuracy: 0.6846 - val_loss: 0.6024 - val_accuracy: 0.6881\n",
      "Epoch 5/100\n",
      "686/686 [==============================] - 1s 829us/step - loss: 0.5951 - accuracy: 0.7025 - val_loss: 0.5770 - val_accuracy: 0.7145\n",
      "Epoch 6/100\n",
      "686/686 [==============================] - 1s 802us/step - loss: 0.5713 - accuracy: 0.7175 - val_loss: 0.5672 - val_accuracy: 0.7249\n",
      "Epoch 7/100\n",
      "686/686 [==============================] - 1s 780us/step - loss: 0.5591 - accuracy: 0.7250 - val_loss: 0.5594 - val_accuracy: 0.7285\n",
      "Epoch 8/100\n",
      "686/686 [==============================] - 1s 778us/step - loss: 0.5548 - accuracy: 0.7282 - val_loss: 0.5570 - val_accuracy: 0.7302\n",
      "Epoch 9/100\n",
      "686/686 [==============================] - 1s 824us/step - loss: 0.5561 - accuracy: 0.7281 - val_loss: 0.5570 - val_accuracy: 0.7296\n",
      "Epoch 10/100\n",
      "686/686 [==============================] - 1s 792us/step - loss: 0.5559 - accuracy: 0.7270 - val_loss: 0.5569 - val_accuracy: 0.7297\n",
      "Epoch 11/100\n",
      "686/686 [==============================] - 1s 828us/step - loss: 0.5532 - accuracy: 0.7306 - val_loss: 0.5551 - val_accuracy: 0.7305\n",
      "Epoch 12/100\n",
      "686/686 [==============================] - 1s 802us/step - loss: 0.5540 - accuracy: 0.7305 - val_loss: 0.5547 - val_accuracy: 0.7311\n",
      "Epoch 13/100\n",
      "686/686 [==============================] - 1s 828us/step - loss: 0.5561 - accuracy: 0.7269 - val_loss: 0.5566 - val_accuracy: 0.7307\n",
      "Epoch 14/100\n",
      "686/686 [==============================] - 1s 915us/step - loss: 0.5537 - accuracy: 0.7311 - val_loss: 0.5546 - val_accuracy: 0.7307\n",
      "Epoch 15/100\n",
      "686/686 [==============================] - 1s 805us/step - loss: 0.5541 - accuracy: 0.7291 - val_loss: 0.5561 - val_accuracy: 0.7316\n",
      "Epoch 16/100\n",
      "686/686 [==============================] - 1s 813us/step - loss: 0.5532 - accuracy: 0.7298 - val_loss: 0.5545 - val_accuracy: 0.7314\n",
      "Epoch 17/100\n",
      "686/686 [==============================] - 1s 777us/step - loss: 0.5522 - accuracy: 0.7293 - val_loss: 0.5534 - val_accuracy: 0.7321\n",
      "Epoch 18/100\n",
      "686/686 [==============================] - 1s 832us/step - loss: 0.5532 - accuracy: 0.7301 - val_loss: 0.5585 - val_accuracy: 0.7272\n",
      "Epoch 19/100\n",
      "686/686 [==============================] - 1s 782us/step - loss: 0.5563 - accuracy: 0.7254 - val_loss: 0.5541 - val_accuracy: 0.7314\n",
      "Epoch 20/100\n",
      "686/686 [==============================] - 1s 884us/step - loss: 0.5532 - accuracy: 0.7278 - val_loss: 0.5570 - val_accuracy: 0.7308\n",
      "Epoch 21/100\n",
      "686/686 [==============================] - 1s 772us/step - loss: 0.5510 - accuracy: 0.7302 - val_loss: 0.5532 - val_accuracy: 0.7309\n",
      "Epoch 22/100\n",
      "686/686 [==============================] - 1s 753us/step - loss: 0.5528 - accuracy: 0.7297 - val_loss: 0.5551 - val_accuracy: 0.7309\n",
      "Epoch 23/100\n",
      "686/686 [==============================] - 1s 825us/step - loss: 0.5531 - accuracy: 0.7300 - val_loss: 0.5540 - val_accuracy: 0.7310\n",
      "Epoch 24/100\n",
      "686/686 [==============================] - 1s 807us/step - loss: 0.5508 - accuracy: 0.7310 - val_loss: 0.5530 - val_accuracy: 0.7325\n",
      "Epoch 25/100\n",
      "686/686 [==============================] - 1s 848us/step - loss: 0.5538 - accuracy: 0.7298 - val_loss: 0.5538 - val_accuracy: 0.7311\n",
      "Epoch 26/100\n",
      "686/686 [==============================] - 1s 772us/step - loss: 0.5515 - accuracy: 0.7316 - val_loss: 0.5529 - val_accuracy: 0.7307\n",
      "Epoch 27/100\n",
      "686/686 [==============================] - 1s 770us/step - loss: 0.5535 - accuracy: 0.7291 - val_loss: 0.5559 - val_accuracy: 0.7310\n",
      "Epoch 28/100\n",
      "686/686 [==============================] - 1s 824us/step - loss: 0.5485 - accuracy: 0.7336 - val_loss: 0.5523 - val_accuracy: 0.7323\n",
      "Epoch 29/100\n",
      "686/686 [==============================] - 1s 935us/step - loss: 0.5506 - accuracy: 0.7300 - val_loss: 0.5527 - val_accuracy: 0.7313\n",
      "Epoch 30/100\n",
      "686/686 [==============================] - 1s 772us/step - loss: 0.5529 - accuracy: 0.7292 - val_loss: 0.5565 - val_accuracy: 0.7291\n",
      "Epoch 31/100\n",
      "686/686 [==============================] - 1s 786us/step - loss: 0.5527 - accuracy: 0.7285 - val_loss: 0.5531 - val_accuracy: 0.7309\n",
      "Epoch 32/100\n",
      "686/686 [==============================] - 1s 800us/step - loss: 0.5515 - accuracy: 0.7296 - val_loss: 0.5517 - val_accuracy: 0.7318\n",
      "Epoch 33/100\n",
      "686/686 [==============================] - 1s 826us/step - loss: 0.5521 - accuracy: 0.7288 - val_loss: 0.5514 - val_accuracy: 0.7309\n",
      "Epoch 34/100\n",
      "686/686 [==============================] - 1s 804us/step - loss: 0.5493 - accuracy: 0.7327 - val_loss: 0.5513 - val_accuracy: 0.7324\n",
      "Epoch 35/100\n",
      "686/686 [==============================] - 1s 770us/step - loss: 0.5529 - accuracy: 0.7296 - val_loss: 0.5527 - val_accuracy: 0.7308\n",
      "Epoch 36/100\n",
      "686/686 [==============================] - 1s 803us/step - loss: 0.5498 - accuracy: 0.7331 - val_loss: 0.5515 - val_accuracy: 0.7318\n",
      "Epoch 37/100\n",
      "686/686 [==============================] - 1s 746us/step - loss: 0.5485 - accuracy: 0.7327 - val_loss: 0.5514 - val_accuracy: 0.7318\n",
      "Epoch 38/100\n",
      "686/686 [==============================] - 1s 778us/step - loss: 0.5509 - accuracy: 0.7297 - val_loss: 0.5511 - val_accuracy: 0.7319\n",
      "Epoch 39/100\n",
      "686/686 [==============================] - 1s 790us/step - loss: 0.5445 - accuracy: 0.7365 - val_loss: 0.5515 - val_accuracy: 0.7310\n",
      "Epoch 40/100\n",
      "686/686 [==============================] - 1s 774us/step - loss: 0.5473 - accuracy: 0.7328 - val_loss: 0.5508 - val_accuracy: 0.7310\n",
      "Epoch 41/100\n",
      "686/686 [==============================] - 0s 727us/step - loss: 0.5462 - accuracy: 0.7341 - val_loss: 0.5509 - val_accuracy: 0.7312\n",
      "Epoch 42/100\n",
      "686/686 [==============================] - 1s 839us/step - loss: 0.5497 - accuracy: 0.7314 - val_loss: 0.5525 - val_accuracy: 0.7300\n",
      "Epoch 43/100\n",
      "686/686 [==============================] - 1s 768us/step - loss: 0.5468 - accuracy: 0.7331 - val_loss: 0.5507 - val_accuracy: 0.7316\n",
      "Epoch 44/100\n",
      "686/686 [==============================] - 1s 773us/step - loss: 0.5493 - accuracy: 0.7331 - val_loss: 0.5499 - val_accuracy: 0.7319\n",
      "Epoch 45/100\n",
      "686/686 [==============================] - 1s 878us/step - loss: 0.5473 - accuracy: 0.7313 - val_loss: 0.5501 - val_accuracy: 0.7311\n",
      "Epoch 46/100\n",
      "686/686 [==============================] - 1s 867us/step - loss: 0.5494 - accuracy: 0.7288 - val_loss: 0.5564 - val_accuracy: 0.7284\n",
      "Epoch 47/100\n",
      "686/686 [==============================] - 1s 776us/step - loss: 0.5459 - accuracy: 0.7325 - val_loss: 0.5501 - val_accuracy: 0.7320\n",
      "Epoch 48/100\n",
      "686/686 [==============================] - 1s 856us/step - loss: 0.5499 - accuracy: 0.7283 - val_loss: 0.5494 - val_accuracy: 0.7311\n",
      "Epoch 49/100\n",
      "686/686 [==============================] - 1s 777us/step - loss: 0.5474 - accuracy: 0.7286 - val_loss: 0.5500 - val_accuracy: 0.7315\n",
      "Epoch 50/100\n",
      "686/686 [==============================] - 1s 782us/step - loss: 0.5476 - accuracy: 0.7314 - val_loss: 0.5494 - val_accuracy: 0.7311\n",
      "Epoch 51/100\n",
      "686/686 [==============================] - 1s 784us/step - loss: 0.5472 - accuracy: 0.7308 - val_loss: 0.5511 - val_accuracy: 0.7303\n",
      "Epoch 52/100\n",
      "686/686 [==============================] - 1s 826us/step - loss: 0.5464 - accuracy: 0.7300 - val_loss: 0.5487 - val_accuracy: 0.7320\n",
      "Epoch 53/100\n",
      "686/686 [==============================] - 1s 775us/step - loss: 0.5459 - accuracy: 0.7315 - val_loss: 0.5485 - val_accuracy: 0.7319\n",
      "Epoch 54/100\n",
      "686/686 [==============================] - 1s 751us/step - loss: 0.5503 - accuracy: 0.7318 - val_loss: 0.5482 - val_accuracy: 0.7321\n",
      "Epoch 55/100\n",
      "686/686 [==============================] - 1s 744us/step - loss: 0.5482 - accuracy: 0.7324 - val_loss: 0.5480 - val_accuracy: 0.7323\n",
      "Epoch 56/100\n",
      "686/686 [==============================] - 1s 763us/step - loss: 0.5409 - accuracy: 0.7352 - val_loss: 0.5478 - val_accuracy: 0.7328\n",
      "Epoch 57/100\n"
     ]
    },
    {
     "name": "stdout",
     "output_type": "stream",
     "text": [
      "686/686 [==============================] - 1s 784us/step - loss: 0.5442 - accuracy: 0.7328 - val_loss: 0.5479 - val_accuracy: 0.7303\n",
      "Epoch 58/100\n",
      "686/686 [==============================] - 1s 824us/step - loss: 0.5452 - accuracy: 0.7325 - val_loss: 0.5478 - val_accuracy: 0.7318\n",
      "Epoch 59/100\n",
      "686/686 [==============================] - 1s 767us/step - loss: 0.5441 - accuracy: 0.7320 - val_loss: 0.5475 - val_accuracy: 0.7323\n",
      "Epoch 60/100\n",
      "686/686 [==============================] - 1s 776us/step - loss: 0.5466 - accuracy: 0.7289 - val_loss: 0.5470 - val_accuracy: 0.7323\n",
      "Epoch 61/100\n",
      "686/686 [==============================] - 1s 727us/step - loss: 0.5470 - accuracy: 0.7341 - val_loss: 0.5511 - val_accuracy: 0.7326\n",
      "Epoch 62/100\n",
      "686/686 [==============================] - 1s 728us/step - loss: 0.5489 - accuracy: 0.7294 - val_loss: 0.5478 - val_accuracy: 0.7331\n",
      "Epoch 63/100\n",
      "686/686 [==============================] - 1s 762us/step - loss: 0.5438 - accuracy: 0.7338 - val_loss: 0.5487 - val_accuracy: 0.7311\n",
      "Epoch 64/100\n",
      "686/686 [==============================] - 1s 754us/step - loss: 0.5451 - accuracy: 0.7308 - val_loss: 0.5466 - val_accuracy: 0.7325\n",
      "Epoch 65/100\n",
      "686/686 [==============================] - 1s 752us/step - loss: 0.5452 - accuracy: 0.7329 - val_loss: 0.5510 - val_accuracy: 0.7306\n",
      "Epoch 66/100\n",
      "686/686 [==============================] - 1s 782us/step - loss: 0.5442 - accuracy: 0.7332 - val_loss: 0.5462 - val_accuracy: 0.7321\n",
      "Epoch 67/100\n",
      "686/686 [==============================] - 1s 872us/step - loss: 0.5446 - accuracy: 0.7328 - val_loss: 0.5460 - val_accuracy: 0.7309\n",
      "Epoch 68/100\n",
      "686/686 [==============================] - 1s 776us/step - loss: 0.5443 - accuracy: 0.7336 - val_loss: 0.5466 - val_accuracy: 0.7328\n",
      "Epoch 69/100\n",
      "686/686 [==============================] - 1s 744us/step - loss: 0.5444 - accuracy: 0.7362 - val_loss: 0.5471 - val_accuracy: 0.7311\n",
      "Epoch 70/100\n",
      "686/686 [==============================] - 1s 818us/step - loss: 0.5439 - accuracy: 0.7336 - val_loss: 0.5469 - val_accuracy: 0.7317\n",
      "Epoch 71/100\n",
      "686/686 [==============================] - 1s 853us/step - loss: 0.5429 - accuracy: 0.7338 - val_loss: 0.5465 - val_accuracy: 0.7324\n",
      "Epoch 72/100\n",
      "686/686 [==============================] - 1s 815us/step - loss: 0.5432 - accuracy: 0.7347 - val_loss: 0.5578 - val_accuracy: 0.7242\n",
      "Epoch 73/100\n",
      "686/686 [==============================] - 1s 745us/step - loss: 0.5429 - accuracy: 0.7334 - val_loss: 0.5463 - val_accuracy: 0.7325\n",
      "Epoch 74/100\n",
      "686/686 [==============================] - 1s 747us/step - loss: 0.5454 - accuracy: 0.7325 - val_loss: 0.5454 - val_accuracy: 0.7328\n",
      "Epoch 75/100\n",
      "686/686 [==============================] - 1s 762us/step - loss: 0.5430 - accuracy: 0.7333 - val_loss: 0.5479 - val_accuracy: 0.7321\n",
      "Epoch 76/100\n",
      "686/686 [==============================] - 1s 766us/step - loss: 0.5423 - accuracy: 0.7350 - val_loss: 0.5512 - val_accuracy: 0.7307\n",
      "Epoch 77/100\n",
      "686/686 [==============================] - 1s 816us/step - loss: 0.5438 - accuracy: 0.7314 - val_loss: 0.5514 - val_accuracy: 0.7297\n",
      "Epoch 78/100\n",
      "686/686 [==============================] - 1s 780us/step - loss: 0.5435 - accuracy: 0.7339 - val_loss: 0.5462 - val_accuracy: 0.7343\n",
      "Epoch 79/100\n",
      "686/686 [==============================] - 1s 781us/step - loss: 0.5470 - accuracy: 0.7312 - val_loss: 0.5458 - val_accuracy: 0.7327\n",
      "Epoch 80/100\n",
      "686/686 [==============================] - 1s 753us/step - loss: 0.5441 - accuracy: 0.7324 - val_loss: 0.5450 - val_accuracy: 0.7335\n",
      "Epoch 81/100\n",
      "686/686 [==============================] - 1s 752us/step - loss: 0.5426 - accuracy: 0.7353 - val_loss: 0.5451 - val_accuracy: 0.7326\n",
      "Epoch 82/100\n",
      "686/686 [==============================] - 1s 754us/step - loss: 0.5447 - accuracy: 0.7324 - val_loss: 0.5443 - val_accuracy: 0.7339\n",
      "Epoch 83/100\n",
      "686/686 [==============================] - 1s 749us/step - loss: 0.5451 - accuracy: 0.7332 - val_loss: 0.5471 - val_accuracy: 0.7338\n",
      "Epoch 84/100\n",
      "686/686 [==============================] - 1s 788us/step - loss: 0.5457 - accuracy: 0.7326 - val_loss: 0.5444 - val_accuracy: 0.7327\n",
      "Epoch 85/100\n",
      "686/686 [==============================] - 1s 772us/step - loss: 0.5466 - accuracy: 0.7325 - val_loss: 0.5488 - val_accuracy: 0.7322\n",
      "Epoch 86/100\n",
      "686/686 [==============================] - 1s 804us/step - loss: 0.5446 - accuracy: 0.7328 - val_loss: 0.5445 - val_accuracy: 0.7331\n",
      "Epoch 87/100\n",
      "686/686 [==============================] - 1s 929us/step - loss: 0.5429 - accuracy: 0.7344 - val_loss: 0.5451 - val_accuracy: 0.7331\n",
      "Epoch 88/100\n",
      "686/686 [==============================] - 1s 767us/step - loss: 0.5479 - accuracy: 0.7293 - val_loss: 0.5448 - val_accuracy: 0.7341\n",
      "Epoch 89/100\n",
      "686/686 [==============================] - 1s 756us/step - loss: 0.5454 - accuracy: 0.7332 - val_loss: 0.5464 - val_accuracy: 0.7332\n",
      "Epoch 90/100\n",
      "686/686 [==============================] - 1s 855us/step - loss: 0.5448 - accuracy: 0.7334 - val_loss: 0.5440 - val_accuracy: 0.7350\n",
      "Epoch 91/100\n",
      "686/686 [==============================] - 1s 925us/step - loss: 0.5394 - accuracy: 0.7372 - val_loss: 0.5439 - val_accuracy: 0.7333\n",
      "Epoch 92/100\n",
      "686/686 [==============================] - 1s 928us/step - loss: 0.5445 - accuracy: 0.7347 - val_loss: 0.5454 - val_accuracy: 0.7335\n",
      "Epoch 93/100\n",
      "686/686 [==============================] - 1s 988us/step - loss: 0.5403 - accuracy: 0.7362 - val_loss: 0.5438 - val_accuracy: 0.7336\n",
      "Epoch 94/100\n",
      "686/686 [==============================] - 1s 1ms/step - loss: 0.5417 - accuracy: 0.7350 - val_loss: 0.5441 - val_accuracy: 0.7330\n",
      "Epoch 95/100\n",
      "686/686 [==============================] - 1s 1ms/step - loss: 0.5430 - accuracy: 0.7363 - val_loss: 0.5437 - val_accuracy: 0.7341\n",
      "Epoch 96/100\n",
      "686/686 [==============================] - 1s 943us/step - loss: 0.5394 - accuracy: 0.7365 - val_loss: 0.5449 - val_accuracy: 0.7333\n",
      "Epoch 97/100\n",
      "686/686 [==============================] - 1s 1ms/step - loss: 0.5443 - accuracy: 0.7318 - val_loss: 0.5453 - val_accuracy: 0.7326\n",
      "Epoch 98/100\n",
      "686/686 [==============================] - 1s 1ms/step - loss: 0.5402 - accuracy: 0.7360 - val_loss: 0.5449 - val_accuracy: 0.7332\n",
      "Epoch 99/100\n",
      "686/686 [==============================] - 1s 1ms/step - loss: 0.5409 - accuracy: 0.7352 - val_loss: 0.5443 - val_accuracy: 0.7333\n",
      "Epoch 100/100\n",
      "686/686 [==============================] - 1s 787us/step - loss: 0.5428 - accuracy: 0.7343 - val_loss: 0.5436 - val_accuracy: 0.7337\n"
     ]
    }
   ],
   "source": [
    "hist = model.fit(X_train, Y_train,\n",
    "          batch_size=70, epochs=100,\n",
    "          validation_data=(X_val, Y_val))"
   ]
  },
  {
   "cell_type": "markdown",
   "metadata": {
    "id": "n09NZTx88w4i"
   },
   "source": [
    "Evaluating our data on the test set:"
   ]
  },
  {
   "cell_type": "code",
   "execution_count": 532,
   "metadata": {
    "colab": {
     "base_uri": "https://localhost:8080/"
    },
    "id": "lYUwb84L8w4i",
    "outputId": "cde53b8d-f949-431e-f12f-591669ee1d9f"
   },
   "outputs": [
    {
     "name": "stdout",
     "output_type": "stream",
     "text": [
      "322/322 [==============================] - 0s 528us/step - loss: 0.5426 - accuracy: 0.7314\n"
     ]
    },
    {
     "data": {
      "text/plain": [
       "0.7313941121101379"
      ]
     },
     "execution_count": 532,
     "metadata": {},
     "output_type": "execute_result"
    }
   ],
   "source": [
    "model.evaluate(X_test, Y_test)[1]"
   ]
  },
  {
   "cell_type": "markdown",
   "metadata": {
    "id": "xbU_pwgh8w4i"
   },
   "source": [
    "## Visualizing Loss and Accuracy of SGD"
   ]
  },
  {
   "cell_type": "code",
   "execution_count": 533,
   "metadata": {},
   "outputs": [],
   "source": [
    "def gradient(model, x):\n",
    "    x_tensor = tf.convert_to_tensor(x, dtype=tf.float32)\n",
    "    with tf.GradientTape() as t:\n",
    "        t.watch(x_tensor)\n",
    "        loss = model(x_tensor)\n",
    "    return t.gradient(loss, x_tensor).numpy()\n",
    "l = gradient(model , X_train)"
   ]
  },
  {
   "cell_type": "code",
   "execution_count": 534,
   "metadata": {},
   "outputs": [
    {
     "data": {
      "text/plain": [
       "Text(0.5, 1.0, 'Density curve of norm of gradients from sgd')"
      ]
     },
     "execution_count": 534,
     "metadata": {},
     "output_type": "execute_result"
    },
    {
     "data": {
      "image/png": "[encoded data removed]",
      "text/plain": [
       "<Figure size 720x360 with 1 Axes>"
      ]
     },
     "metadata": {},
     "output_type": "display_data"
    }
   ],
   "source": [
    "grad = []\n",
    "for i in l :\n",
    "  \n",
    "  grad.append(np.linalg.norm(i))\n",
    "plt.figure(figsize= (10,5))\n",
    "sns.kdeplot(grad , fill=True )\n",
    "plt.title(\"Density curve of norm of gradients from sgd\")"
   ]
  },
  {
   "cell_type": "markdown",
   "metadata": {
    "id": "xHp423rN8w4j"
   },
   "source": [
    "We want to visualize the training loss and the validation loss like this:"
   ]
  },
  {
   "cell_type": "code",
   "execution_count": 535,
   "metadata": {
    "colab": {
     "base_uri": "https://localhost:8080/",
     "height": 295
    },
    "id": "Hg8gvwLX8w4j",
    "outputId": "d565fe93-2a48-4c5c-d3fd-38e789e7c514"
   },
   "outputs": [
    {
     "data": {
      "image/png": "[encoded data removed]",
      "text/plain": [
       "<Figure size 1080x576 with 1 Axes>"
      ]
     },
     "metadata": {},
     "output_type": "display_data"
    }
   ],
   "source": [
    "plt.figure(figsize=(15,8))\n",
    "plt.plot(hist.history['loss'])\n",
    "plt.plot(hist.history['val_loss'])\n",
    "plt.title('Model loss')\n",
    "plt.ylabel('Loss')\n",
    "plt.xlabel('Epoch')\n",
    "plt.legend(['Train', 'Val'], loc='upper right')\n",
    "plt.show()"
   ]
  },
  {
   "cell_type": "markdown",
   "metadata": {
    "id": "-MH8MG6f8w4k"
   },
   "source": [
    "We can also visualize the training accuracy and the validation accuracy like this:"
   ]
  },
  {
   "cell_type": "code",
   "execution_count": 536,
   "metadata": {
    "colab": {
     "base_uri": "https://localhost:8080/",
     "height": 295
    },
    "id": "EmNWuUS78w4k",
    "outputId": "43964db2-0fea-4441-a8a0-8122174107be"
   },
   "outputs": [
    {
     "data": {
      "image/png": "[encoded data removed]",
      "text/plain": [
       "<Figure size 1080x576 with 1 Axes>"
      ]
     },
     "metadata": {},
     "output_type": "display_data"
    }
   ],
   "source": [
    "plt.figure(figsize=(15,8))\n",
    "plt.plot(hist.history['accuracy'])\n",
    "plt.plot(hist.history['val_accuracy'])\n",
    "plt.title('Model accuracy')\n",
    "plt.ylabel('Accuracy')\n",
    "plt.xlabel('Epoch')\n",
    "plt.legend(['Train', 'Val'], loc='lower right')\n",
    "plt.show()"
   ]
  },
  {
   "cell_type": "markdown",
   "metadata": {},
   "source": [
    "## Vanilla SGD with high learning rate"
   ]
  },
  {
   "cell_type": "code",
   "execution_count": 537,
   "metadata": {
    "id": "lyZJ-2L8z8bD"
   },
   "outputs": [],
   "source": [
    "sgd = tf.keras.optimizers.SGD(learning_rate= 0.1)\n",
    "model = Sequential([\n",
    "    Dense(13, activation='relu', input_shape=(13,)),\n",
    "    Dense(28, activation='relu'),\n",
    "    Dense(28, activation='relu'),\n",
    "    Dense(1, activation='sigmoid'),\n",
    "])"
   ]
  },
  {
   "cell_type": "code",
   "execution_count": 538,
   "metadata": {
    "id": "kmI814Dv8w4h"
   },
   "outputs": [],
   "source": [
    "model.compile(optimizer = \"sgd\",\n",
    "              loss='binary_crossentropy',\n",
    "              metrics=['accuracy'])"
   ]
  },
  {
   "cell_type": "code",
   "execution_count": 539,
   "metadata": {
    "colab": {
     "base_uri": "https://localhost:8080/"
    },
    "id": "n-XU7J4Y8w4h",
    "outputId": "d9df53f2-67d0-4ecc-b30d-ab2880c16493"
   },
   "outputs": [
    {
     "name": "stdout",
     "output_type": "stream",
     "text": [
      "Epoch 1/100\n",
      "686/686 [==============================] - 5s 5ms/step - loss: 0.6890 - accuracy: 0.5115 - val_loss: 0.6762 - val_accuracy: 0.6744\n",
      "Epoch 2/100\n",
      "686/686 [==============================] - 1s 886us/step - loss: 0.6704 - accuracy: 0.6719 - val_loss: 0.6463 - val_accuracy: 0.6869\n",
      "Epoch 3/100\n",
      "686/686 [==============================] - 1s 1ms/step - loss: 0.6373 - accuracy: 0.6794 - val_loss: 0.6123 - val_accuracy: 0.6847\n",
      "Epoch 4/100\n",
      "686/686 [==============================] - 1s 921us/step - loss: 0.6059 - accuracy: 0.6936 - val_loss: 0.5852 - val_accuracy: 0.7075\n",
      "Epoch 5/100\n",
      "686/686 [==============================] - 1s 953us/step - loss: 0.5794 - accuracy: 0.7148 - val_loss: 0.5676 - val_accuracy: 0.7250\n",
      "Epoch 6/100\n",
      "686/686 [==============================] - 1s 921us/step - loss: 0.5628 - accuracy: 0.7226 - val_loss: 0.5590 - val_accuracy: 0.7295\n",
      "Epoch 7/100\n",
      "686/686 [==============================] - 1s 988us/step - loss: 0.5604 - accuracy: 0.7240 - val_loss: 0.5565 - val_accuracy: 0.7297\n",
      "Epoch 8/100\n",
      "686/686 [==============================] - 1s 1ms/step - loss: 0.5559 - accuracy: 0.7232 - val_loss: 0.5566 - val_accuracy: 0.7303\n",
      "Epoch 9/100\n",
      "686/686 [==============================] - 1s 1ms/step - loss: 0.5564 - accuracy: 0.7241 - val_loss: 0.5587 - val_accuracy: 0.7278\n",
      "Epoch 10/100\n",
      "686/686 [==============================] - 1s 1ms/step - loss: 0.5550 - accuracy: 0.7265 - val_loss: 0.5645 - val_accuracy: 0.7228\n",
      "Epoch 11/100\n",
      "686/686 [==============================] - 1s 862us/step - loss: 0.5504 - accuracy: 0.7318 - val_loss: 0.5539 - val_accuracy: 0.7308\n",
      "Epoch 12/100\n",
      "686/686 [==============================] - 1s 1ms/step - loss: 0.5513 - accuracy: 0.7286 - val_loss: 0.5546 - val_accuracy: 0.7299\n",
      "Epoch 13/100\n",
      "686/686 [==============================] - 1s 938us/step - loss: 0.5489 - accuracy: 0.7297 - val_loss: 0.5557 - val_accuracy: 0.7281\n",
      "Epoch 14/100\n",
      "686/686 [==============================] - 1s 993us/step - loss: 0.5483 - accuracy: 0.7309 - val_loss: 0.5540 - val_accuracy: 0.7309\n",
      "Epoch 15/100\n",
      "686/686 [==============================] - 1s 1ms/step - loss: 0.5493 - accuracy: 0.7309 - val_loss: 0.5563 - val_accuracy: 0.7302\n",
      "Epoch 16/100\n",
      "686/686 [==============================] - 1s 987us/step - loss: 0.5505 - accuracy: 0.7283 - val_loss: 0.5544 - val_accuracy: 0.7296\n",
      "Epoch 17/100\n",
      "686/686 [==============================] - 1s 833us/step - loss: 0.5504 - accuracy: 0.7299 - val_loss: 0.5559 - val_accuracy: 0.7283\n",
      "Epoch 18/100\n",
      "686/686 [==============================] - 1s 1ms/step - loss: 0.5560 - accuracy: 0.7242 - val_loss: 0.5601 - val_accuracy: 0.7253\n",
      "Epoch 19/100\n",
      "686/686 [==============================] - 1s 814us/step - loss: 0.5517 - accuracy: 0.7284 - val_loss: 0.5525 - val_accuracy: 0.7335\n",
      "Epoch 20/100\n",
      "686/686 [==============================] - 1s 851us/step - loss: 0.5506 - accuracy: 0.7288 - val_loss: 0.5522 - val_accuracy: 0.7329\n",
      "Epoch 21/100\n",
      "686/686 [==============================] - 1s 890us/step - loss: 0.5533 - accuracy: 0.7287 - val_loss: 0.5521 - val_accuracy: 0.7321\n",
      "Epoch 22/100\n",
      "686/686 [==============================] - 1s 811us/step - loss: 0.5506 - accuracy: 0.7295 - val_loss: 0.5533 - val_accuracy: 0.7299\n",
      "Epoch 23/100\n",
      "686/686 [==============================] - 1s 830us/step - loss: 0.5492 - accuracy: 0.7313 - val_loss: 0.5527 - val_accuracy: 0.7304\n",
      "Epoch 24/100\n",
      "686/686 [==============================] - 1s 797us/step - loss: 0.5523 - accuracy: 0.7286 - val_loss: 0.5518 - val_accuracy: 0.7316\n",
      "Epoch 25/100\n",
      "686/686 [==============================] - 1s 792us/step - loss: 0.5493 - accuracy: 0.7303 - val_loss: 0.5517 - val_accuracy: 0.7330\n",
      "Epoch 26/100\n",
      "686/686 [==============================] - 1s 825us/step - loss: 0.5503 - accuracy: 0.7296 - val_loss: 0.5518 - val_accuracy: 0.7308\n",
      "Epoch 27/100\n",
      "686/686 [==============================] - 1s 899us/step - loss: 0.5505 - accuracy: 0.7275 - val_loss: 0.5510 - val_accuracy: 0.7324\n",
      "Epoch 28/100\n",
      "686/686 [==============================] - 1s 782us/step - loss: 0.5522 - accuracy: 0.7260 - val_loss: 0.5523 - val_accuracy: 0.7311\n",
      "Epoch 29/100\n",
      "686/686 [==============================] - 1s 817us/step - loss: 0.5529 - accuracy: 0.7266 - val_loss: 0.5523 - val_accuracy: 0.7303\n",
      "Epoch 30/100\n",
      "686/686 [==============================] - 1s 833us/step - loss: 0.5504 - accuracy: 0.7291 - val_loss: 0.5508 - val_accuracy: 0.7324\n",
      "Epoch 31/100\n",
      "686/686 [==============================] - 1s 851us/step - loss: 0.5477 - accuracy: 0.7297 - val_loss: 0.5527 - val_accuracy: 0.7302\n",
      "Epoch 32/100\n",
      "686/686 [==============================] - 1s 831us/step - loss: 0.5516 - accuracy: 0.7299 - val_loss: 0.5506 - val_accuracy: 0.7319\n",
      "Epoch 33/100\n",
      "686/686 [==============================] - 1s 821us/step - loss: 0.5486 - accuracy: 0.7300 - val_loss: 0.5514 - val_accuracy: 0.7312\n",
      "Epoch 34/100\n",
      "686/686 [==============================] - 1s 809us/step - loss: 0.5500 - accuracy: 0.7321 - val_loss: 0.5505 - val_accuracy: 0.7311\n",
      "Epoch 35/100\n",
      "686/686 [==============================] - 1s 830us/step - loss: 0.5520 - accuracy: 0.7265 - val_loss: 0.5504 - val_accuracy: 0.7321\n",
      "Epoch 36/100\n",
      "686/686 [==============================] - 1s 875us/step - loss: 0.5472 - accuracy: 0.7302 - val_loss: 0.5505 - val_accuracy: 0.7325\n",
      "Epoch 37/100\n",
      "686/686 [==============================] - 1s 742us/step - loss: 0.5479 - accuracy: 0.7322 - val_loss: 0.5505 - val_accuracy: 0.7325\n",
      "Epoch 38/100\n",
      "686/686 [==============================] - 1s 766us/step - loss: 0.5465 - accuracy: 0.7313 - val_loss: 0.5496 - val_accuracy: 0.7315\n",
      "Epoch 39/100\n",
      "686/686 [==============================] - 1s 733us/step - loss: 0.5496 - accuracy: 0.7296 - val_loss: 0.5497 - val_accuracy: 0.7305\n",
      "Epoch 40/100\n",
      "686/686 [==============================] - 1s 781us/step - loss: 0.5442 - accuracy: 0.7346 - val_loss: 0.5504 - val_accuracy: 0.7306\n",
      "Epoch 41/100\n",
      "686/686 [==============================] - 1s 758us/step - loss: 0.5499 - accuracy: 0.7286 - val_loss: 0.5495 - val_accuracy: 0.7328\n",
      "Epoch 42/100\n",
      "686/686 [==============================] - 1s 732us/step - loss: 0.5499 - accuracy: 0.7296 - val_loss: 0.5496 - val_accuracy: 0.7312\n",
      "Epoch 43/100\n",
      "686/686 [==============================] - 1s 803us/step - loss: 0.5499 - accuracy: 0.7277 - val_loss: 0.5499 - val_accuracy: 0.7320\n",
      "Epoch 44/100\n",
      "686/686 [==============================] - 1s 777us/step - loss: 0.5464 - accuracy: 0.7296 - val_loss: 0.5491 - val_accuracy: 0.7307\n",
      "Epoch 45/100\n",
      "686/686 [==============================] - 1s 783us/step - loss: 0.5459 - accuracy: 0.7326 - val_loss: 0.5492 - val_accuracy: 0.7311\n",
      "Epoch 46/100\n",
      "686/686 [==============================] - 1s 851us/step - loss: 0.5485 - accuracy: 0.7300 - val_loss: 0.5492 - val_accuracy: 0.7307\n",
      "Epoch 47/100\n",
      "686/686 [==============================] - 1s 753us/step - loss: 0.5469 - accuracy: 0.7316 - val_loss: 0.5509 - val_accuracy: 0.7317\n",
      "Epoch 48/100\n",
      "686/686 [==============================] - 1s 777us/step - loss: 0.5524 - accuracy: 0.7247 - val_loss: 0.5491 - val_accuracy: 0.7309\n",
      "Epoch 49/100\n",
      "686/686 [==============================] - 1s 770us/step - loss: 0.5484 - accuracy: 0.7279 - val_loss: 0.5501 - val_accuracy: 0.7309\n",
      "Epoch 50/100\n",
      "686/686 [==============================] - 1s 776us/step - loss: 0.5484 - accuracy: 0.7302 - val_loss: 0.5496 - val_accuracy: 0.7305\n",
      "Epoch 51/100\n",
      "686/686 [==============================] - 1s 752us/step - loss: 0.5471 - accuracy: 0.7301 - val_loss: 0.5483 - val_accuracy: 0.7313\n",
      "Epoch 52/100\n",
      "686/686 [==============================] - 1s 766us/step - loss: 0.5526 - accuracy: 0.7262 - val_loss: 0.5491 - val_accuracy: 0.7317\n",
      "Epoch 53/100\n",
      "686/686 [==============================] - 1s 724us/step - loss: 0.5495 - accuracy: 0.7278 - val_loss: 0.5496 - val_accuracy: 0.7300\n",
      "Epoch 54/100\n",
      "686/686 [==============================] - 1s 785us/step - loss: 0.5427 - accuracy: 0.7358 - val_loss: 0.5486 - val_accuracy: 0.7332\n",
      "Epoch 55/100\n",
      "686/686 [==============================] - 1s 730us/step - loss: 0.5478 - accuracy: 0.7302 - val_loss: 0.5493 - val_accuracy: 0.7326\n",
      "Epoch 56/100\n",
      "686/686 [==============================] - 1s 855us/step - loss: 0.5440 - accuracy: 0.7318 - val_loss: 0.5481 - val_accuracy: 0.7318\n",
      "Epoch 57/100\n"
     ]
    },
    {
     "name": "stdout",
     "output_type": "stream",
     "text": [
      "686/686 [==============================] - 1s 748us/step - loss: 0.5452 - accuracy: 0.7297 - val_loss: 0.5480 - val_accuracy: 0.7308\n",
      "Epoch 58/100\n",
      "686/686 [==============================] - 1s 780us/step - loss: 0.5433 - accuracy: 0.7336 - val_loss: 0.5489 - val_accuracy: 0.7330\n",
      "Epoch 59/100\n",
      "686/686 [==============================] - 1s 781us/step - loss: 0.5468 - accuracy: 0.7309 - val_loss: 0.5487 - val_accuracy: 0.7326\n",
      "Epoch 60/100\n",
      "686/686 [==============================] - 1s 798us/step - loss: 0.5443 - accuracy: 0.7328 - val_loss: 0.5494 - val_accuracy: 0.7338\n",
      "Epoch 61/100\n",
      "686/686 [==============================] - 1s 756us/step - loss: 0.5425 - accuracy: 0.7357 - val_loss: 0.5473 - val_accuracy: 0.7324\n",
      "Epoch 62/100\n",
      "686/686 [==============================] - 1s 778us/step - loss: 0.5485 - accuracy: 0.7282 - val_loss: 0.5500 - val_accuracy: 0.7318\n",
      "Epoch 63/100\n",
      "686/686 [==============================] - 1s 770us/step - loss: 0.5473 - accuracy: 0.7315 - val_loss: 0.5503 - val_accuracy: 0.7312\n",
      "Epoch 64/100\n",
      "686/686 [==============================] - 1s 777us/step - loss: 0.5441 - accuracy: 0.7324 - val_loss: 0.5468 - val_accuracy: 0.7322\n",
      "Epoch 65/100\n",
      "686/686 [==============================] - 1s 729us/step - loss: 0.5466 - accuracy: 0.7285 - val_loss: 0.5469 - val_accuracy: 0.7321\n",
      "Epoch 66/100\n",
      "686/686 [==============================] - 1s 827us/step - loss: 0.5459 - accuracy: 0.7304 - val_loss: 0.5472 - val_accuracy: 0.7325\n",
      "Epoch 67/100\n",
      "686/686 [==============================] - 1s 755us/step - loss: 0.5503 - accuracy: 0.7274 - val_loss: 0.5475 - val_accuracy: 0.7325\n",
      "Epoch 68/100\n",
      "686/686 [==============================] - 1s 769us/step - loss: 0.5462 - accuracy: 0.7297 - val_loss: 0.5473 - val_accuracy: 0.7323\n",
      "Epoch 69/100\n",
      "686/686 [==============================] - 1s 745us/step - loss: 0.5494 - accuracy: 0.7259 - val_loss: 0.5483 - val_accuracy: 0.7315\n",
      "Epoch 70/100\n",
      "686/686 [==============================] - 1s 738us/step - loss: 0.5457 - accuracy: 0.7311 - val_loss: 0.5464 - val_accuracy: 0.7331\n",
      "Epoch 71/100\n",
      "686/686 [==============================] - 1s 781us/step - loss: 0.5488 - accuracy: 0.7309 - val_loss: 0.5467 - val_accuracy: 0.7322\n",
      "Epoch 72/100\n",
      "686/686 [==============================] - 1s 733us/step - loss: 0.5475 - accuracy: 0.7320 - val_loss: 0.5462 - val_accuracy: 0.7334\n",
      "Epoch 73/100\n",
      "686/686 [==============================] - 1s 728us/step - loss: 0.5430 - accuracy: 0.7354 - val_loss: 0.5461 - val_accuracy: 0.7318\n",
      "Epoch 74/100\n",
      "686/686 [==============================] - 1s 730us/step - loss: 0.5422 - accuracy: 0.7335 - val_loss: 0.5470 - val_accuracy: 0.7323\n",
      "Epoch 75/100\n",
      "686/686 [==============================] - 1s 827us/step - loss: 0.5451 - accuracy: 0.7310 - val_loss: 0.5467 - val_accuracy: 0.7331\n",
      "Epoch 76/100\n",
      "686/686 [==============================] - 1s 779us/step - loss: 0.5442 - accuracy: 0.7306 - val_loss: 0.5461 - val_accuracy: 0.7326\n",
      "Epoch 77/100\n",
      "686/686 [==============================] - 1s 788us/step - loss: 0.5478 - accuracy: 0.7315 - val_loss: 0.5463 - val_accuracy: 0.7316\n",
      "Epoch 78/100\n",
      "686/686 [==============================] - 1s 733us/step - loss: 0.5490 - accuracy: 0.7289 - val_loss: 0.5461 - val_accuracy: 0.7326\n",
      "Epoch 79/100\n",
      "686/686 [==============================] - 1s 751us/step - loss: 0.5452 - accuracy: 0.7330 - val_loss: 0.5491 - val_accuracy: 0.7310\n",
      "Epoch 80/100\n",
      "686/686 [==============================] - 1s 733us/step - loss: 0.5427 - accuracy: 0.7333 - val_loss: 0.5456 - val_accuracy: 0.7349\n",
      "Epoch 81/100\n",
      "686/686 [==============================] - 1s 739us/step - loss: 0.5451 - accuracy: 0.7314 - val_loss: 0.5481 - val_accuracy: 0.7316\n",
      "Epoch 82/100\n",
      "686/686 [==============================] - 1s 757us/step - loss: 0.5447 - accuracy: 0.7334 - val_loss: 0.5458 - val_accuracy: 0.7330\n",
      "Epoch 83/100\n",
      "686/686 [==============================] - 1s 776us/step - loss: 0.5450 - accuracy: 0.7312 - val_loss: 0.5452 - val_accuracy: 0.7327\n",
      "Epoch 84/100\n",
      "686/686 [==============================] - 1s 730us/step - loss: 0.5478 - accuracy: 0.7289 - val_loss: 0.5454 - val_accuracy: 0.7324\n",
      "Epoch 85/100\n",
      "686/686 [==============================] - 1s 817us/step - loss: 0.5460 - accuracy: 0.7315 - val_loss: 0.5475 - val_accuracy: 0.7335\n",
      "Epoch 86/100\n",
      "686/686 [==============================] - 1s 714us/step - loss: 0.5460 - accuracy: 0.7304 - val_loss: 0.5504 - val_accuracy: 0.7297\n",
      "Epoch 87/100\n",
      "686/686 [==============================] - 1s 802us/step - loss: 0.5438 - accuracy: 0.7332 - val_loss: 0.5452 - val_accuracy: 0.7340\n",
      "Epoch 88/100\n",
      "686/686 [==============================] - 1s 731us/step - loss: 0.5444 - accuracy: 0.7318 - val_loss: 0.5451 - val_accuracy: 0.7329\n",
      "Epoch 89/100\n",
      "686/686 [==============================] - 1s 761us/step - loss: 0.5485 - accuracy: 0.7293 - val_loss: 0.5502 - val_accuracy: 0.7301\n",
      "Epoch 90/100\n",
      "686/686 [==============================] - 1s 748us/step - loss: 0.5387 - accuracy: 0.7376 - val_loss: 0.5454 - val_accuracy: 0.7338\n",
      "Epoch 91/100\n",
      "686/686 [==============================] - 1s 755us/step - loss: 0.5410 - accuracy: 0.7357 - val_loss: 0.5449 - val_accuracy: 0.7345\n",
      "Epoch 92/100\n",
      "686/686 [==============================] - 1s 758us/step - loss: 0.5452 - accuracy: 0.7309 - val_loss: 0.5450 - val_accuracy: 0.7330\n",
      "Epoch 93/100\n",
      "686/686 [==============================] - 1s 732us/step - loss: 0.5474 - accuracy: 0.7306 - val_loss: 0.5448 - val_accuracy: 0.7331\n",
      "Epoch 94/100\n",
      "686/686 [==============================] - 1s 718us/step - loss: 0.5458 - accuracy: 0.7310 - val_loss: 0.5448 - val_accuracy: 0.7324\n",
      "Epoch 95/100\n",
      "686/686 [==============================] - 1s 874us/step - loss: 0.5409 - accuracy: 0.7359 - val_loss: 0.5443 - val_accuracy: 0.7342\n",
      "Epoch 96/100\n",
      "686/686 [==============================] - 1s 719us/step - loss: 0.5438 - accuracy: 0.7322 - val_loss: 0.5452 - val_accuracy: 0.7335\n",
      "Epoch 97/100\n",
      "686/686 [==============================] - 1s 765us/step - loss: 0.5421 - accuracy: 0.7352 - val_loss: 0.5450 - val_accuracy: 0.7341\n",
      "Epoch 98/100\n",
      "686/686 [==============================] - 1s 759us/step - loss: 0.5465 - accuracy: 0.7311 - val_loss: 0.5446 - val_accuracy: 0.7330\n",
      "Epoch 99/100\n",
      "686/686 [==============================] - 1s 742us/step - loss: 0.5445 - accuracy: 0.7305 - val_loss: 0.5466 - val_accuracy: 0.7336\n",
      "Epoch 100/100\n",
      "686/686 [==============================] - 1s 743us/step - loss: 0.5470 - accuracy: 0.7288 - val_loss: 0.5443 - val_accuracy: 0.7353\n"
     ]
    }
   ],
   "source": [
    "hist = model.fit(X_train, Y_train,\n",
    "          batch_size=70, epochs=100,\n",
    "          validation_data=(X_val, Y_val))"
   ]
  },
  {
   "cell_type": "markdown",
   "metadata": {
    "id": "n09NZTx88w4i"
   },
   "source": [
    "Evaluating our data on the test set:"
   ]
  },
  {
   "cell_type": "code",
   "execution_count": 540,
   "metadata": {
    "colab": {
     "base_uri": "https://localhost:8080/"
    },
    "id": "lYUwb84L8w4i",
    "outputId": "cde53b8d-f949-431e-f12f-591669ee1d9f"
   },
   "outputs": [
    {
     "name": "stdout",
     "output_type": "stream",
     "text": [
      "322/322 [==============================] - 0s 506us/step - loss: 0.5441 - accuracy: 0.7327\n"
     ]
    },
    {
     "data": {
      "text/plain": [
       "0.7326588034629822"
      ]
     },
     "execution_count": 540,
     "metadata": {},
     "output_type": "execute_result"
    }
   ],
   "source": [
    "model.evaluate(X_test, Y_test)[1]"
   ]
  },
  {
   "cell_type": "markdown",
   "metadata": {
    "id": "xbU_pwgh8w4i"
   },
   "source": [
    "## Visualizing Loss and Accuracy of SGD"
   ]
  },
  {
   "cell_type": "code",
   "execution_count": 541,
   "metadata": {},
   "outputs": [],
   "source": [
    "def gradient(model, x):\n",
    "    x_tensor = tf.convert_to_tensor(x, dtype=tf.float32)\n",
    "    with tf.GradientTape() as t:\n",
    "        t.watch(x_tensor)\n",
    "        loss = model(x_tensor)\n",
    "    return t.gradient(loss, x_tensor).numpy()\n",
    "l = gradient(model , X_train)"
   ]
  },
  {
   "cell_type": "code",
   "execution_count": 542,
   "metadata": {},
   "outputs": [
    {
     "data": {
      "text/plain": [
       "Text(0.5, 1.0, 'Density curve of norm of gradients from sgd')"
      ]
     },
     "execution_count": 542,
     "metadata": {},
     "output_type": "execute_result"
    },
    {
     "data": {
      "image/png": "[encoded data removed]",
      "text/plain": [
       "<Figure size 720x360 with 1 Axes>"
      ]
     },
     "metadata": {},
     "output_type": "display_data"
    }
   ],
   "source": [
    "grad = []\n",
    "for i in l :\n",
    "  \n",
    "  grad.append(np.linalg.norm(i))\n",
    "plt.figure(figsize= (10,5))\n",
    "sns.kdeplot(grad , fill=True )\n",
    "plt.title(\"Density curve of norm of gradients from sgd\")"
   ]
  },
  {
   "cell_type": "markdown",
   "metadata": {
    "id": "xHp423rN8w4j"
   },
   "source": [
    "We want to visualize the training loss and the validation loss like this:"
   ]
  },
  {
   "cell_type": "code",
   "execution_count": 543,
   "metadata": {
    "colab": {
     "base_uri": "https://localhost:8080/",
     "height": 295
    },
    "id": "Hg8gvwLX8w4j",
    "outputId": "d565fe93-2a48-4c5c-d3fd-38e789e7c514"
   },
   "outputs": [
    {
     "data": {
      "image/png": "[encoded data removed]",
      "text/plain": [
       "<Figure size 1080x576 with 1 Axes>"
      ]
     },
     "metadata": {},
     "output_type": "display_data"
    }
   ],
   "source": [
    "plt.figure(figsize=(15,8))\n",
    "plt.plot(hist.history['loss'])\n",
    "plt.plot(hist.history['val_loss'])\n",
    "plt.title('Model loss')\n",
    "plt.ylabel('Loss')\n",
    "plt.xlabel('Epoch')\n",
    "plt.legend(['Train', 'Val'], loc='upper right')\n",
    "plt.show()"
   ]
  },
  {
   "cell_type": "markdown",
   "metadata": {
    "id": "-MH8MG6f8w4k"
   },
   "source": [
    "We can also visualize the training accuracy and the validation accuracy like this:"
   ]
  },
  {
   "cell_type": "code",
   "execution_count": 544,
   "metadata": {
    "colab": {
     "base_uri": "https://localhost:8080/",
     "height": 295
    },
    "id": "EmNWuUS78w4k",
    "outputId": "43964db2-0fea-4441-a8a0-8122174107be"
   },
   "outputs": [
    {
     "data": {
      "image/png": "[encoded data removed]",
      "text/plain": [
       "<Figure size 1080x576 with 1 Axes>"
      ]
     },
     "metadata": {},
     "output_type": "display_data"
    }
   ],
   "source": [
    "plt.figure(figsize=(15,8))\n",
    "plt.plot(hist.history['accuracy'])\n",
    "plt.plot(hist.history['val_accuracy'])\n",
    "plt.title('Model accuracy')\n",
    "plt.ylabel('Accuracy')\n",
    "plt.xlabel('Epoch')\n",
    "plt.legend(['Train', 'Val'], loc='lower right')\n",
    "plt.show()"
   ]
  },
  {
   "cell_type": "markdown",
   "metadata": {},
   "source": [
    "## SGD with momentum\n",
    "If there is a long shallow ravine with steep walls on the direction to the optimal point, then the standard SGD will tend to oscillate across the narrow ravine. Momentum is one of the mechanism which is used to fix the direction:\n",
    "$$v_{k} = mv_{k−1} + t_{k}∆f(x_{k}) ;\\;\\;\\; x_{k+1} = x_{k} − v_{k}$$\n",
    "\n",
    "where m ∈ (0, 1] determines for how many iterations the previous gradients are incorporated into the current update. Generally m is set to 0.5 until the initial learning stabilizes and then is increased to 0.9 or higher."
   ]
  },
  {
   "cell_type": "code",
   "execution_count": 545,
   "metadata": {
    "id": "lyZJ-2L8z8bD"
   },
   "outputs": [],
   "source": [
    "sgd = tf.keras.optimizers.SGD(learning_rate= 0.01,momentum=0.91)\n",
    "model = Sequential([\n",
    "    Dense(13, activation='relu', input_shape=(13,)),\n",
    "    Dense(28, activation='relu'),\n",
    "    Dense(28, activation='relu'),\n",
    "    Dense(1, activation='sigmoid'),\n",
    "])"
   ]
  },
  {
   "cell_type": "code",
   "execution_count": 546,
   "metadata": {
    "id": "kmI814Dv8w4h"
   },
   "outputs": [],
   "source": [
    "model.compile(optimizer = \"sgd\",\n",
    "              loss='binary_crossentropy',\n",
    "              metrics=['accuracy'])"
   ]
  },
  {
   "cell_type": "code",
   "execution_count": 547,
   "metadata": {
    "colab": {
     "base_uri": "https://localhost:8080/"
    },
    "id": "n-XU7J4Y8w4h",
    "outputId": "d9df53f2-67d0-4ecc-b30d-ab2880c16493"
   },
   "outputs": [
    {
     "name": "stdout",
     "output_type": "stream",
     "text": [
      "Epoch 1/100\n",
      "686/686 [==============================] - 1s 1ms/step - loss: 0.7014 - accuracy: 0.4621 - val_loss: 0.6917 - val_accuracy: 0.5762\n",
      "Epoch 2/100\n",
      "686/686 [==============================] - 1s 844us/step - loss: 0.6907 - accuracy: 0.5914 - val_loss: 0.6869 - val_accuracy: 0.5968\n",
      "Epoch 3/100\n",
      "686/686 [==============================] - 1s 852us/step - loss: 0.6852 - accuracy: 0.6062 - val_loss: 0.6790 - val_accuracy: 0.6749\n",
      "Epoch 4/100\n",
      "686/686 [==============================] - 1s 927us/step - loss: 0.6757 - accuracy: 0.6569 - val_loss: 0.6593 - val_accuracy: 0.6873\n",
      "Epoch 5/100\n",
      "686/686 [==============================] - 1s 850us/step - loss: 0.6512 - accuracy: 0.6865 - val_loss: 0.6215 - val_accuracy: 0.6982\n",
      "Epoch 6/100\n",
      "686/686 [==============================] - 1s 824us/step - loss: 0.6123 - accuracy: 0.7008 - val_loss: 0.5858 - val_accuracy: 0.7066\n",
      "Epoch 7/100\n",
      "686/686 [==============================] - 1s 877us/step - loss: 0.5787 - accuracy: 0.7170 - val_loss: 0.5677 - val_accuracy: 0.7241\n",
      "Epoch 8/100\n",
      "686/686 [==============================] - 1s 803us/step - loss: 0.5636 - accuracy: 0.7257 - val_loss: 0.5622 - val_accuracy: 0.7257\n",
      "Epoch 9/100\n",
      "686/686 [==============================] - 1s 800us/step - loss: 0.5638 - accuracy: 0.7242 - val_loss: 0.5599 - val_accuracy: 0.7295\n",
      "Epoch 10/100\n",
      "686/686 [==============================] - 1s 886us/step - loss: 0.5585 - accuracy: 0.7271 - val_loss: 0.5594 - val_accuracy: 0.7292\n",
      "Epoch 11/100\n",
      "686/686 [==============================] - 1s 865us/step - loss: 0.5573 - accuracy: 0.7283 - val_loss: 0.5584 - val_accuracy: 0.7294\n",
      "Epoch 12/100\n",
      "686/686 [==============================] - 1s 808us/step - loss: 0.5555 - accuracy: 0.7290 - val_loss: 0.5597 - val_accuracy: 0.7293\n",
      "Epoch 13/100\n",
      "686/686 [==============================] - 1s 923us/step - loss: 0.5587 - accuracy: 0.7259 - val_loss: 0.5590 - val_accuracy: 0.7288\n",
      "Epoch 14/100\n",
      "686/686 [==============================] - 1s 801us/step - loss: 0.5548 - accuracy: 0.7298 - val_loss: 0.5572 - val_accuracy: 0.7290\n",
      "Epoch 15/100\n",
      "686/686 [==============================] - 1s 796us/step - loss: 0.5576 - accuracy: 0.7269 - val_loss: 0.5572 - val_accuracy: 0.7298\n",
      "Epoch 16/100\n",
      "686/686 [==============================] - 1s 806us/step - loss: 0.5511 - accuracy: 0.7313 - val_loss: 0.5593 - val_accuracy: 0.7277\n",
      "Epoch 17/100\n",
      "686/686 [==============================] - 1s 788us/step - loss: 0.5575 - accuracy: 0.7238 - val_loss: 0.5575 - val_accuracy: 0.7297\n",
      "Epoch 18/100\n",
      "686/686 [==============================] - 1s 802us/step - loss: 0.5571 - accuracy: 0.7281 - val_loss: 0.5559 - val_accuracy: 0.7310\n",
      "Epoch 19/100\n",
      "686/686 [==============================] - 1s 835us/step - loss: 0.5587 - accuracy: 0.7242 - val_loss: 0.5567 - val_accuracy: 0.7292\n",
      "Epoch 20/100\n",
      "686/686 [==============================] - 1s 766us/step - loss: 0.5528 - accuracy: 0.7310 - val_loss: 0.5564 - val_accuracy: 0.7294\n",
      "Epoch 21/100\n",
      "686/686 [==============================] - 1s 801us/step - loss: 0.5559 - accuracy: 0.7269 - val_loss: 0.5556 - val_accuracy: 0.7311\n",
      "Epoch 22/100\n",
      "686/686 [==============================] - 1s 781us/step - loss: 0.5535 - accuracy: 0.7297 - val_loss: 0.5559 - val_accuracy: 0.7304\n",
      "Epoch 23/100\n",
      "686/686 [==============================] - 1s 798us/step - loss: 0.5539 - accuracy: 0.7291 - val_loss: 0.5549 - val_accuracy: 0.7311\n",
      "Epoch 24/100\n",
      "686/686 [==============================] - 1s 784us/step - loss: 0.5535 - accuracy: 0.7276 - val_loss: 0.5585 - val_accuracy: 0.7287\n",
      "Epoch 25/100\n",
      "686/686 [==============================] - 1s 776us/step - loss: 0.5524 - accuracy: 0.7301 - val_loss: 0.5571 - val_accuracy: 0.7265\n",
      "Epoch 26/100\n",
      "686/686 [==============================] - 1s 780us/step - loss: 0.5517 - accuracy: 0.7305 - val_loss: 0.5548 - val_accuracy: 0.7297\n",
      "Epoch 27/100\n",
      "686/686 [==============================] - 1s 775us/step - loss: 0.5503 - accuracy: 0.7290 - val_loss: 0.5543 - val_accuracy: 0.7305\n",
      "Epoch 28/100\n",
      "686/686 [==============================] - 1s 893us/step - loss: 0.5507 - accuracy: 0.7305 - val_loss: 0.5546 - val_accuracy: 0.7297\n",
      "Epoch 29/100\n",
      "686/686 [==============================] - 1s 758us/step - loss: 0.5541 - accuracy: 0.7295 - val_loss: 0.5540 - val_accuracy: 0.7300\n",
      "Epoch 30/100\n",
      "686/686 [==============================] - 1s 774us/step - loss: 0.5524 - accuracy: 0.7307 - val_loss: 0.5539 - val_accuracy: 0.7299\n",
      "Epoch 31/100\n",
      "686/686 [==============================] - 1s 817us/step - loss: 0.5484 - accuracy: 0.7316 - val_loss: 0.5566 - val_accuracy: 0.7275\n",
      "Epoch 32/100\n",
      "686/686 [==============================] - 1s 739us/step - loss: 0.5558 - accuracy: 0.7275 - val_loss: 0.5544 - val_accuracy: 0.7298\n",
      "Epoch 33/100\n",
      "686/686 [==============================] - 1s 780us/step - loss: 0.5538 - accuracy: 0.7302 - val_loss: 0.5531 - val_accuracy: 0.7314\n",
      "Epoch 34/100\n",
      "686/686 [==============================] - 1s 803us/step - loss: 0.5485 - accuracy: 0.7316 - val_loss: 0.5545 - val_accuracy: 0.7293\n",
      "Epoch 35/100\n",
      "686/686 [==============================] - 1s 741us/step - loss: 0.5510 - accuracy: 0.7307 - val_loss: 0.5542 - val_accuracy: 0.7286\n",
      "Epoch 36/100\n",
      "686/686 [==============================] - 1s 804us/step - loss: 0.5514 - accuracy: 0.7280 - val_loss: 0.5552 - val_accuracy: 0.7286\n",
      "Epoch 37/100\n",
      "686/686 [==============================] - 1s 756us/step - loss: 0.5513 - accuracy: 0.7302 - val_loss: 0.5527 - val_accuracy: 0.7310\n",
      "Epoch 38/100\n",
      "686/686 [==============================] - 1s 855us/step - loss: 0.5485 - accuracy: 0.7332 - val_loss: 0.5532 - val_accuracy: 0.7302\n",
      "Epoch 39/100\n",
      "686/686 [==============================] - 1s 763us/step - loss: 0.5545 - accuracy: 0.7267 - val_loss: 0.5536 - val_accuracy: 0.7301\n",
      "Epoch 40/100\n",
      "686/686 [==============================] - 1s 777us/step - loss: 0.5458 - accuracy: 0.7348 - val_loss: 0.5538 - val_accuracy: 0.7298\n",
      "Epoch 41/100\n",
      "686/686 [==============================] - 1s 734us/step - loss: 0.5542 - accuracy: 0.7270 - val_loss: 0.5527 - val_accuracy: 0.7311\n",
      "Epoch 42/100\n",
      "686/686 [==============================] - 1s 767us/step - loss: 0.5507 - accuracy: 0.7305 - val_loss: 0.5555 - val_accuracy: 0.7279\n",
      "Epoch 43/100\n",
      "686/686 [==============================] - 1s 761us/step - loss: 0.5470 - accuracy: 0.7339 - val_loss: 0.5537 - val_accuracy: 0.7308\n",
      "Epoch 44/100\n",
      "686/686 [==============================] - 1s 751us/step - loss: 0.5540 - accuracy: 0.7283 - val_loss: 0.5529 - val_accuracy: 0.7297\n",
      "Epoch 45/100\n",
      "686/686 [==============================] - 1s 758us/step - loss: 0.5531 - accuracy: 0.7269 - val_loss: 0.5538 - val_accuracy: 0.7294\n",
      "Epoch 46/100\n",
      "686/686 [==============================] - 1s 793us/step - loss: 0.5496 - accuracy: 0.7307 - val_loss: 0.5518 - val_accuracy: 0.7311\n",
      "Epoch 47/100\n",
      "686/686 [==============================] - 1s 820us/step - loss: 0.5520 - accuracy: 0.7300 - val_loss: 0.5518 - val_accuracy: 0.7309\n",
      "Epoch 48/100\n",
      "686/686 [==============================] - 1s 809us/step - loss: 0.5511 - accuracy: 0.7274 - val_loss: 0.5516 - val_accuracy: 0.7314\n",
      "Epoch 49/100\n",
      "686/686 [==============================] - 1s 731us/step - loss: 0.5495 - accuracy: 0.7319 - val_loss: 0.5518 - val_accuracy: 0.7310\n",
      "Epoch 50/100\n",
      "686/686 [==============================] - 1s 741us/step - loss: 0.5463 - accuracy: 0.7314 - val_loss: 0.5513 - val_accuracy: 0.7308\n",
      "Epoch 51/100\n",
      "686/686 [==============================] - 1s 780us/step - loss: 0.5519 - accuracy: 0.7299 - val_loss: 0.5549 - val_accuracy: 0.7287\n",
      "Epoch 52/100\n",
      "686/686 [==============================] - 1s 755us/step - loss: 0.5483 - accuracy: 0.7314 - val_loss: 0.5525 - val_accuracy: 0.7300\n",
      "Epoch 53/100\n",
      "686/686 [==============================] - 1s 745us/step - loss: 0.5471 - accuracy: 0.7305 - val_loss: 0.5510 - val_accuracy: 0.7305\n",
      "Epoch 54/100\n",
      "686/686 [==============================] - 1s 781us/step - loss: 0.5451 - accuracy: 0.7327 - val_loss: 0.5523 - val_accuracy: 0.7295\n",
      "Epoch 55/100\n",
      "686/686 [==============================] - 1s 735us/step - loss: 0.5447 - accuracy: 0.7345 - val_loss: 0.5534 - val_accuracy: 0.7298\n",
      "Epoch 56/100\n",
      "686/686 [==============================] - 1s 781us/step - loss: 0.5481 - accuracy: 0.7325 - val_loss: 0.5512 - val_accuracy: 0.7302\n",
      "Epoch 57/100\n"
     ]
    },
    {
     "name": "stdout",
     "output_type": "stream",
     "text": [
      "686/686 [==============================] - 1s 808us/step - loss: 0.5484 - accuracy: 0.7331 - val_loss: 0.5511 - val_accuracy: 0.7310\n",
      "Epoch 58/100\n",
      "686/686 [==============================] - 1s 756us/step - loss: 0.5466 - accuracy: 0.7313 - val_loss: 0.5514 - val_accuracy: 0.7300\n",
      "Epoch 59/100\n",
      "686/686 [==============================] - 1s 751us/step - loss: 0.5491 - accuracy: 0.7302 - val_loss: 0.5501 - val_accuracy: 0.7312\n",
      "Epoch 60/100\n",
      "686/686 [==============================] - 1s 767us/step - loss: 0.5503 - accuracy: 0.7289 - val_loss: 0.5517 - val_accuracy: 0.7294\n",
      "Epoch 61/100\n",
      "686/686 [==============================] - 0s 712us/step - loss: 0.5498 - accuracy: 0.7307 - val_loss: 0.5501 - val_accuracy: 0.7312\n",
      "Epoch 62/100\n",
      "686/686 [==============================] - 1s 782us/step - loss: 0.5447 - accuracy: 0.7325 - val_loss: 0.5504 - val_accuracy: 0.7311\n",
      "Epoch 63/100\n",
      "686/686 [==============================] - 1s 778us/step - loss: 0.5454 - accuracy: 0.7333 - val_loss: 0.5501 - val_accuracy: 0.7312\n",
      "Epoch 64/100\n",
      "686/686 [==============================] - 1s 778us/step - loss: 0.5477 - accuracy: 0.7298 - val_loss: 0.5497 - val_accuracy: 0.7307\n",
      "Epoch 65/100\n",
      "686/686 [==============================] - 1s 757us/step - loss: 0.5467 - accuracy: 0.7308 - val_loss: 0.5495 - val_accuracy: 0.7318\n",
      "Epoch 66/100\n",
      "686/686 [==============================] - 1s 796us/step - loss: 0.5437 - accuracy: 0.7341 - val_loss: 0.5498 - val_accuracy: 0.7306\n",
      "Epoch 67/100\n",
      "686/686 [==============================] - 1s 849us/step - loss: 0.5452 - accuracy: 0.7333 - val_loss: 0.5511 - val_accuracy: 0.7305\n",
      "Epoch 68/100\n",
      "686/686 [==============================] - 1s 756us/step - loss: 0.5457 - accuracy: 0.7352 - val_loss: 0.5493 - val_accuracy: 0.7299\n",
      "Epoch 69/100\n",
      "686/686 [==============================] - 1s 757us/step - loss: 0.5416 - accuracy: 0.7342 - val_loss: 0.5489 - val_accuracy: 0.7318\n",
      "Epoch 70/100\n",
      "686/686 [==============================] - 1s 774us/step - loss: 0.5426 - accuracy: 0.7364 - val_loss: 0.5488 - val_accuracy: 0.7322\n",
      "Epoch 71/100\n",
      "686/686 [==============================] - 0s 725us/step - loss: 0.5460 - accuracy: 0.7292 - val_loss: 0.5486 - val_accuracy: 0.7316\n",
      "Epoch 72/100\n",
      "686/686 [==============================] - 1s 748us/step - loss: 0.5463 - accuracy: 0.7294 - val_loss: 0.5482 - val_accuracy: 0.7299\n",
      "Epoch 73/100\n",
      "686/686 [==============================] - 1s 743us/step - loss: 0.5448 - accuracy: 0.7329 - val_loss: 0.5484 - val_accuracy: 0.7300\n",
      "Epoch 74/100\n",
      "686/686 [==============================] - 1s 755us/step - loss: 0.5481 - accuracy: 0.7313 - val_loss: 0.5487 - val_accuracy: 0.7309\n",
      "Epoch 75/100\n",
      "686/686 [==============================] - 1s 746us/step - loss: 0.5447 - accuracy: 0.7314 - val_loss: 0.5513 - val_accuracy: 0.7285\n",
      "Epoch 76/100\n",
      "686/686 [==============================] - 1s 754us/step - loss: 0.5496 - accuracy: 0.7296 - val_loss: 0.5484 - val_accuracy: 0.7299\n",
      "Epoch 77/100\n",
      "686/686 [==============================] - 1s 833us/step - loss: 0.5465 - accuracy: 0.7325 - val_loss: 0.5478 - val_accuracy: 0.7310\n",
      "Epoch 78/100\n",
      "686/686 [==============================] - 1s 750us/step - loss: 0.5490 - accuracy: 0.7302 - val_loss: 0.5479 - val_accuracy: 0.7309\n",
      "Epoch 79/100\n",
      "686/686 [==============================] - 1s 782us/step - loss: 0.5454 - accuracy: 0.7333 - val_loss: 0.5471 - val_accuracy: 0.7321\n",
      "Epoch 80/100\n",
      "686/686 [==============================] - 1s 778us/step - loss: 0.5483 - accuracy: 0.7293 - val_loss: 0.5469 - val_accuracy: 0.7311\n",
      "Epoch 81/100\n",
      "686/686 [==============================] - 1s 775us/step - loss: 0.5430 - accuracy: 0.7343 - val_loss: 0.5467 - val_accuracy: 0.7312\n",
      "Epoch 82/100\n",
      "686/686 [==============================] - 1s 760us/step - loss: 0.5442 - accuracy: 0.7346 - val_loss: 0.5475 - val_accuracy: 0.7304\n",
      "Epoch 83/100\n",
      "686/686 [==============================] - 1s 753us/step - loss: 0.5449 - accuracy: 0.7348 - val_loss: 0.5471 - val_accuracy: 0.7304\n",
      "Epoch 84/100\n",
      "686/686 [==============================] - 1s 843us/step - loss: 0.5389 - accuracy: 0.7367 - val_loss: 0.5499 - val_accuracy: 0.7304\n",
      "Epoch 85/100\n",
      "686/686 [==============================] - 1s 753us/step - loss: 0.5454 - accuracy: 0.7314 - val_loss: 0.5470 - val_accuracy: 0.7332\n",
      "Epoch 86/100\n",
      "686/686 [==============================] - 1s 804us/step - loss: 0.5457 - accuracy: 0.7324 - val_loss: 0.5464 - val_accuracy: 0.7315\n",
      "Epoch 87/100\n",
      "686/686 [==============================] - 1s 826us/step - loss: 0.5439 - accuracy: 0.7347 - val_loss: 0.5461 - val_accuracy: 0.7335\n",
      "Epoch 88/100\n",
      "686/686 [==============================] - 1s 761us/step - loss: 0.5403 - accuracy: 0.7369 - val_loss: 0.5455 - val_accuracy: 0.7316\n",
      "Epoch 89/100\n",
      "686/686 [==============================] - 1s 738us/step - loss: 0.5447 - accuracy: 0.7329 - val_loss: 0.5457 - val_accuracy: 0.7323\n",
      "Epoch 90/100\n",
      "686/686 [==============================] - 1s 781us/step - loss: 0.5422 - accuracy: 0.7334 - val_loss: 0.5452 - val_accuracy: 0.7321\n",
      "Epoch 91/100\n",
      "686/686 [==============================] - 1s 756us/step - loss: 0.5450 - accuracy: 0.7330 - val_loss: 0.5461 - val_accuracy: 0.7315\n",
      "Epoch 92/100\n",
      "686/686 [==============================] - 1s 750us/step - loss: 0.5449 - accuracy: 0.7318 - val_loss: 0.5461 - val_accuracy: 0.7306\n",
      "Epoch 93/100\n",
      "686/686 [==============================] - 1s 755us/step - loss: 0.5493 - accuracy: 0.7292 - val_loss: 0.5449 - val_accuracy: 0.7323\n",
      "Epoch 94/100\n",
      "686/686 [==============================] - 1s 777us/step - loss: 0.5430 - accuracy: 0.7357 - val_loss: 0.5466 - val_accuracy: 0.7329\n",
      "Epoch 95/100\n",
      "686/686 [==============================] - 1s 766us/step - loss: 0.5423 - accuracy: 0.7341 - val_loss: 0.5452 - val_accuracy: 0.7319\n",
      "Epoch 96/100\n",
      "686/686 [==============================] - 1s 828us/step - loss: 0.5450 - accuracy: 0.7339 - val_loss: 0.5486 - val_accuracy: 0.7289\n",
      "Epoch 97/100\n",
      "686/686 [==============================] - 1s 781us/step - loss: 0.5399 - accuracy: 0.7375 - val_loss: 0.5451 - val_accuracy: 0.7318\n",
      "Epoch 98/100\n",
      "686/686 [==============================] - 1s 768us/step - loss: 0.5450 - accuracy: 0.7323 - val_loss: 0.5473 - val_accuracy: 0.7323\n",
      "Epoch 99/100\n",
      "686/686 [==============================] - 1s 730us/step - loss: 0.5425 - accuracy: 0.7340 - val_loss: 0.5444 - val_accuracy: 0.7327\n",
      "Epoch 100/100\n",
      "686/686 [==============================] - 1s 777us/step - loss: 0.5424 - accuracy: 0.7341 - val_loss: 0.5449 - val_accuracy: 0.7330\n"
     ]
    }
   ],
   "source": [
    "hist = model.fit(X_train, Y_train,\n",
    "          batch_size=70, epochs=100,\n",
    "          validation_data=(X_val, Y_val))"
   ]
  },
  {
   "cell_type": "markdown",
   "metadata": {
    "id": "n09NZTx88w4i"
   },
   "source": [
    "Evaluating our data on the test set:"
   ]
  },
  {
   "cell_type": "code",
   "execution_count": 548,
   "metadata": {
    "colab": {
     "base_uri": "https://localhost:8080/"
    },
    "id": "lYUwb84L8w4i",
    "outputId": "cde53b8d-f949-431e-f12f-591669ee1d9f"
   },
   "outputs": [
    {
     "name": "stdout",
     "output_type": "stream",
     "text": [
      "322/322 [==============================] - 0s 492us/step - loss: 0.5448 - accuracy: 0.7335\n"
     ]
    },
    {
     "data": {
      "text/plain": [
       "0.7335343956947327"
      ]
     },
     "execution_count": 548,
     "metadata": {},
     "output_type": "execute_result"
    }
   ],
   "source": [
    "model.evaluate(X_test, Y_test)[1]"
   ]
  },
  {
   "cell_type": "markdown",
   "metadata": {
    "id": "xbU_pwgh8w4i"
   },
   "source": [
    "## Visualizing Loss and Accuracy of SGD with momentum"
   ]
  },
  {
   "cell_type": "code",
   "execution_count": 549,
   "metadata": {},
   "outputs": [],
   "source": [
    "def gradient(model, x):\n",
    "    x_tensor = tf.convert_to_tensor(x, dtype=tf.float32)\n",
    "    with tf.GradientTape() as t:\n",
    "        t.watch(x_tensor)\n",
    "        loss = model(x_tensor)\n",
    "    return t.gradient(loss, x_tensor).numpy()\n",
    "l = gradient(model , X_train)"
   ]
  },
  {
   "cell_type": "code",
   "execution_count": 550,
   "metadata": {},
   "outputs": [
    {
     "data": {
      "text/plain": [
       "Text(0.5, 1.0, 'Density curve of norm of gradients from sgd')"
      ]
     },
     "execution_count": 550,
     "metadata": {},
     "output_type": "execute_result"
    },
    {
     "data": {
      "image/png": "[encoded data removed]",
      "text/plain": [
       "<Figure size 720x360 with 1 Axes>"
      ]
     },
     "metadata": {},
     "output_type": "display_data"
    }
   ],
   "source": [
    "grad = []\n",
    "for i in l :\n",
    "  \n",
    "  grad.append(np.linalg.norm(i))\n",
    "plt.figure(figsize= (10,5))\n",
    "sns.kdeplot(grad , fill=True )\n",
    "plt.title(\"Density curve of norm of gradients from sgd\")"
   ]
  },
  {
   "cell_type": "markdown",
   "metadata": {
    "id": "xHp423rN8w4j"
   },
   "source": [
    "We want to visualize the training loss and the validation loss like this:"
   ]
  },
  {
   "cell_type": "code",
   "execution_count": 551,
   "metadata": {
    "colab": {
     "base_uri": "https://localhost:8080/",
     "height": 295
    },
    "id": "Hg8gvwLX8w4j",
    "outputId": "d565fe93-2a48-4c5c-d3fd-38e789e7c514"
   },
   "outputs": [
    {
     "data": {
      "image/png": "[encoded data removed]",
      "text/plain": [
       "<Figure size 1080x576 with 1 Axes>"
      ]
     },
     "metadata": {},
     "output_type": "display_data"
    }
   ],
   "source": [
    "plt.figure(figsize=(15,8))\n",
    "plt.plot(hist.history['loss'])\n",
    "plt.plot(hist.history['val_loss'])\n",
    "plt.title('Model loss')\n",
    "plt.ylabel('Loss')\n",
    "plt.xlabel('Epoch')\n",
    "plt.legend(['Train', 'Val'], loc='upper right')\n",
    "plt.show()"
   ]
  },
  {
   "cell_type": "markdown",
   "metadata": {
    "id": "-MH8MG6f8w4k"
   },
   "source": [
    "We can also visualize the training accuracy and the validation accuracy like this:"
   ]
  },
  {
   "cell_type": "code",
   "execution_count": 552,
   "metadata": {
    "colab": {
     "base_uri": "https://localhost:8080/",
     "height": 295
    },
    "id": "EmNWuUS78w4k",
    "outputId": "43964db2-0fea-4441-a8a0-8122174107be"
   },
   "outputs": [
    {
     "data": {
      "image/png": "[encoded data removed]",
      "text/plain": [
       "<Figure size 1080x576 with 1 Axes>"
      ]
     },
     "metadata": {},
     "output_type": "display_data"
    }
   ],
   "source": [
    "plt.figure(figsize=(15,8))\n",
    "plt.plot(hist.history['accuracy'])\n",
    "plt.plot(hist.history['val_accuracy'])\n",
    "plt.title('Model accuracy')\n",
    "plt.ylabel('Accuracy')\n",
    "plt.xlabel('Epoch')\n",
    "plt.legend(['Train', 'Val'], loc='lower right')\n",
    "plt.show()"
   ]
  },
  {
   "cell_type": "markdown",
   "metadata": {
    "id": "rSxUtK2K3efX"
   },
   "source": [
    "# OPTIMIZER : RMSprop"
   ]
  },
  {
   "cell_type": "markdown",
   "metadata": {},
   "source": [
    "RMSprop <br>\n",
    "\n",
    "RMSprop is proposed to tackle the problem of step size vanishing of Adagrad. It employs the decaying average of the history gradients:\n",
    "\n",
    "$$E[∆f(x)^{2}]_{k} = ρE[∆f(x)^{2}]_{k−1} + (1 − ρ)∆f(x_{k})^{2} $$\n",
    "$$ $$\n",
    "$$x_{k+1} = x_{k} − \\frac{t}{\\sqrt{E[∆f(x)2]_{k} + ε}}∆f(x_{k})$$\n",
    "\n",
    "where ρ is a decay constant (e.g., 0.9)."
   ]
  },
  {
   "cell_type": "code",
   "execution_count": 555,
   "metadata": {
    "id": "mh65LmQM3dY7"
   },
   "outputs": [],
   "source": [
    "rms = tf.keras.optimizers.RMSprop(\n",
    "    learning_rate=0.01,\n",
    "    rho=0.9,\n",
    "    momentum=0.0,\n",
    "    epsilon=1e-07,\n",
    "    centered=False,\n",
    "    name=\"RMSprop\",\n",
    ")"
   ]
  },
  {
   "cell_type": "code",
   "execution_count": 556,
   "metadata": {
    "id": "YrW0IEen3dKl"
   },
   "outputs": [],
   "source": [
    "model3 = Sequential([\n",
    "    Dense(13, activation='relu', input_shape=(13,)),\n",
    "    Dense(28, activation='relu'),\n",
    "    Dense(28, activation='relu'),\n",
    "    Dense(1, activation='sigmoid'),\n",
    "])\n",
    "model3.compile(optimizer = \"RMSprop\",\n",
    "              loss='binary_crossentropy',\n",
    "              metrics=['accuracy'])"
   ]
  },
  {
   "cell_type": "code",
   "execution_count": 557,
   "metadata": {
    "colab": {
     "base_uri": "https://localhost:8080/"
    },
    "id": "PhIQiw0n4QP6",
    "outputId": "b2f09e8a-859e-444c-80f2-8f84454c9d2e"
   },
   "outputs": [
    {
     "name": "stdout",
     "output_type": "stream",
     "text": [
      "Epoch 1/100\n",
      "686/686 [==============================] - 2s 1ms/step - loss: 0.6478 - accuracy: 0.6204 - val_loss: 0.5633 - val_accuracy: 0.7265\n",
      "Epoch 2/100\n",
      "686/686 [==============================] - 1s 892us/step - loss: 0.5619 - accuracy: 0.7220 - val_loss: 0.5551 - val_accuracy: 0.7300\n",
      "Epoch 3/100\n",
      "686/686 [==============================] - 1s 877us/step - loss: 0.5586 - accuracy: 0.7243 - val_loss: 0.5568 - val_accuracy: 0.7283\n",
      "Epoch 4/100\n",
      "686/686 [==============================] - 1s 931us/step - loss: 0.5514 - accuracy: 0.7299 - val_loss: 0.5612 - val_accuracy: 0.7187\n",
      "Epoch 5/100\n",
      "686/686 [==============================] - 1s 889us/step - loss: 0.5478 - accuracy: 0.7335 - val_loss: 0.5478 - val_accuracy: 0.7318\n",
      "Epoch 6/100\n",
      "686/686 [==============================] - 1s 872us/step - loss: 0.5497 - accuracy: 0.7281 - val_loss: 0.5493 - val_accuracy: 0.7331\n",
      "Epoch 7/100\n",
      "686/686 [==============================] - 1s 899us/step - loss: 0.5440 - accuracy: 0.7336 - val_loss: 0.5469 - val_accuracy: 0.7308\n",
      "Epoch 8/100\n",
      "686/686 [==============================] - 1s 818us/step - loss: 0.5480 - accuracy: 0.7307 - val_loss: 0.5455 - val_accuracy: 0.7326\n",
      "Epoch 9/100\n",
      "686/686 [==============================] - 1s 853us/step - loss: 0.5443 - accuracy: 0.7358 - val_loss: 0.5509 - val_accuracy: 0.7294\n",
      "Epoch 10/100\n",
      "686/686 [==============================] - 1s 875us/step - loss: 0.5479 - accuracy: 0.7317 - val_loss: 0.5454 - val_accuracy: 0.7333\n",
      "Epoch 11/100\n",
      "686/686 [==============================] - 1s 878us/step - loss: 0.5445 - accuracy: 0.7338 - val_loss: 0.5447 - val_accuracy: 0.7335\n",
      "Epoch 12/100\n",
      "686/686 [==============================] - 1s 907us/step - loss: 0.5489 - accuracy: 0.7290 - val_loss: 0.5496 - val_accuracy: 0.7294\n",
      "Epoch 13/100\n",
      "686/686 [==============================] - 1s 854us/step - loss: 0.5453 - accuracy: 0.7309 - val_loss: 0.5533 - val_accuracy: 0.7300\n",
      "Epoch 14/100\n",
      "686/686 [==============================] - 1s 890us/step - loss: 0.5454 - accuracy: 0.7304 - val_loss: 0.5448 - val_accuracy: 0.7340\n",
      "Epoch 15/100\n",
      "686/686 [==============================] - 1s 840us/step - loss: 0.5469 - accuracy: 0.7314 - val_loss: 0.5456 - val_accuracy: 0.7341\n",
      "Epoch 16/100\n",
      "686/686 [==============================] - 1s 902us/step - loss: 0.5467 - accuracy: 0.7334 - val_loss: 0.5454 - val_accuracy: 0.7335\n",
      "Epoch 17/100\n",
      "686/686 [==============================] - 1s 871us/step - loss: 0.5455 - accuracy: 0.7327 - val_loss: 0.5437 - val_accuracy: 0.7313\n",
      "Epoch 18/100\n",
      "686/686 [==============================] - 1s 854us/step - loss: 0.5430 - accuracy: 0.7342 - val_loss: 0.5452 - val_accuracy: 0.7310\n",
      "Epoch 19/100\n",
      "686/686 [==============================] - 1s 847us/step - loss: 0.5461 - accuracy: 0.7311 - val_loss: 0.5469 - val_accuracy: 0.7330\n",
      "Epoch 20/100\n",
      "686/686 [==============================] - 1s 1ms/step - loss: 0.5461 - accuracy: 0.7318 - val_loss: 0.5513 - val_accuracy: 0.7287\n",
      "Epoch 21/100\n",
      "686/686 [==============================] - 1s 1ms/step - loss: 0.5455 - accuracy: 0.7301 - val_loss: 0.5429 - val_accuracy: 0.7328\n",
      "Epoch 22/100\n",
      "686/686 [==============================] - 1s 860us/step - loss: 0.5446 - accuracy: 0.7335 - val_loss: 0.5437 - val_accuracy: 0.7351\n",
      "Epoch 23/100\n",
      "686/686 [==============================] - 1s 974us/step - loss: 0.5429 - accuracy: 0.7328 - val_loss: 0.5445 - val_accuracy: 0.7301\n",
      "Epoch 24/100\n",
      "686/686 [==============================] - 1s 853us/step - loss: 0.5439 - accuracy: 0.7329 - val_loss: 0.5433 - val_accuracy: 0.7327\n",
      "Epoch 25/100\n",
      "686/686 [==============================] - 1s 1ms/step - loss: 0.5454 - accuracy: 0.7315 - val_loss: 0.5438 - val_accuracy: 0.7331\n",
      "Epoch 26/100\n",
      "686/686 [==============================] - 1s 1ms/step - loss: 0.5433 - accuracy: 0.7326 - val_loss: 0.5442 - val_accuracy: 0.7339\n",
      "Epoch 27/100\n",
      "686/686 [==============================] - 1s 870us/step - loss: 0.5457 - accuracy: 0.7310 - val_loss: 0.5494 - val_accuracy: 0.7271\n",
      "Epoch 28/100\n",
      "686/686 [==============================] - 1s 854us/step - loss: 0.5429 - accuracy: 0.7316 - val_loss: 0.5431 - val_accuracy: 0.7346\n",
      "Epoch 29/100\n",
      "686/686 [==============================] - 1s 940us/step - loss: 0.5481 - accuracy: 0.7280 - val_loss: 0.5426 - val_accuracy: 0.7330\n",
      "Epoch 30/100\n",
      "686/686 [==============================] - 1s 875us/step - loss: 0.5474 - accuracy: 0.7306 - val_loss: 0.5571 - val_accuracy: 0.7262\n",
      "Epoch 31/100\n",
      "686/686 [==============================] - 1s 893us/step - loss: 0.5422 - accuracy: 0.7335 - val_loss: 0.5436 - val_accuracy: 0.7336\n",
      "Epoch 32/100\n",
      "686/686 [==============================] - 1s 846us/step - loss: 0.5463 - accuracy: 0.7312 - val_loss: 0.5466 - val_accuracy: 0.7303\n",
      "Epoch 33/100\n",
      "686/686 [==============================] - 1s 881us/step - loss: 0.5432 - accuracy: 0.7309 - val_loss: 0.5437 - val_accuracy: 0.7323\n",
      "Epoch 34/100\n",
      "686/686 [==============================] - 1s 866us/step - loss: 0.5480 - accuracy: 0.7290 - val_loss: 0.5431 - val_accuracy: 0.7348\n",
      "Epoch 35/100\n",
      "686/686 [==============================] - 1s 902us/step - loss: 0.5412 - accuracy: 0.7352 - val_loss: 0.5439 - val_accuracy: 0.7323\n",
      "Epoch 36/100\n",
      "686/686 [==============================] - 1s 851us/step - loss: 0.5417 - accuracy: 0.7357 - val_loss: 0.5449 - val_accuracy: 0.7319\n",
      "Epoch 37/100\n",
      "686/686 [==============================] - 1s 900us/step - loss: 0.5469 - accuracy: 0.7286 - val_loss: 0.5429 - val_accuracy: 0.7311\n",
      "Epoch 38/100\n",
      "686/686 [==============================] - 1s 826us/step - loss: 0.5429 - accuracy: 0.7318 - val_loss: 0.5453 - val_accuracy: 0.7315\n",
      "Epoch 39/100\n",
      "686/686 [==============================] - 1s 858us/step - loss: 0.5392 - accuracy: 0.7388 - val_loss: 0.5436 - val_accuracy: 0.7331\n",
      "Epoch 40/100\n",
      "686/686 [==============================] - 1s 867us/step - loss: 0.5388 - accuracy: 0.7359 - val_loss: 0.5461 - val_accuracy: 0.7306\n",
      "Epoch 41/100\n",
      "686/686 [==============================] - 1s 855us/step - loss: 0.5423 - accuracy: 0.7318 - val_loss: 0.5442 - val_accuracy: 0.7330\n",
      "Epoch 42/100\n",
      "686/686 [==============================] - 1s 843us/step - loss: 0.5414 - accuracy: 0.7346 - val_loss: 0.5467 - val_accuracy: 0.7321\n",
      "Epoch 43/100\n",
      "686/686 [==============================] - 1s 853us/step - loss: 0.5424 - accuracy: 0.7342 - val_loss: 0.5462 - val_accuracy: 0.7289\n",
      "Epoch 44/100\n",
      "686/686 [==============================] - 1s 894us/step - loss: 0.5397 - accuracy: 0.7356 - val_loss: 0.5448 - val_accuracy: 0.7337\n",
      "Epoch 45/100\n",
      "686/686 [==============================] - 1s 853us/step - loss: 0.5445 - accuracy: 0.7321 - val_loss: 0.5471 - val_accuracy: 0.7335\n",
      "Epoch 46/100\n",
      "686/686 [==============================] - 1s 913us/step - loss: 0.5433 - accuracy: 0.7341 - val_loss: 0.5443 - val_accuracy: 0.7343\n",
      "Epoch 47/100\n",
      "686/686 [==============================] - 1s 874us/step - loss: 0.5410 - accuracy: 0.7347 - val_loss: 0.5436 - val_accuracy: 0.7315\n",
      "Epoch 48/100\n",
      "686/686 [==============================] - 1s 862us/step - loss: 0.5423 - accuracy: 0.7354 - val_loss: 0.5441 - val_accuracy: 0.7313\n",
      "Epoch 49/100\n",
      "686/686 [==============================] - 1s 839us/step - loss: 0.5425 - accuracy: 0.7335 - val_loss: 0.5437 - val_accuracy: 0.7334\n",
      "Epoch 50/100\n",
      "686/686 [==============================] - 1s 806us/step - loss: 0.5407 - accuracy: 0.7355 - val_loss: 0.5444 - val_accuracy: 0.7326\n",
      "Epoch 51/100\n",
      "686/686 [==============================] - 1s 857us/step - loss: 0.5430 - accuracy: 0.7341 - val_loss: 0.5477 - val_accuracy: 0.7326\n",
      "Epoch 52/100\n",
      "686/686 [==============================] - 1s 986us/step - loss: 0.5462 - accuracy: 0.7315 - val_loss: 0.5451 - val_accuracy: 0.7339\n",
      "Epoch 53/100\n",
      "686/686 [==============================] - 1s 1ms/step - loss: 0.5382 - accuracy: 0.7383 - val_loss: 0.5505 - val_accuracy: 0.7298\n",
      "Epoch 54/100\n",
      "686/686 [==============================] - 1s 883us/step - loss: 0.5444 - accuracy: 0.7333 - val_loss: 0.5441 - val_accuracy: 0.7343\n",
      "Epoch 55/100\n",
      "686/686 [==============================] - 1s 853us/step - loss: 0.5419 - accuracy: 0.7352 - val_loss: 0.5446 - val_accuracy: 0.7332\n",
      "Epoch 56/100\n",
      "686/686 [==============================] - 1s 834us/step - loss: 0.5424 - accuracy: 0.7369 - val_loss: 0.5515 - val_accuracy: 0.7299\n",
      "Epoch 57/100\n"
     ]
    },
    {
     "name": "stdout",
     "output_type": "stream",
     "text": [
      "686/686 [==============================] - 1s 832us/step - loss: 0.5418 - accuracy: 0.7339 - val_loss: 0.5551 - val_accuracy: 0.7248\n",
      "Epoch 58/100\n",
      "686/686 [==============================] - 1s 851us/step - loss: 0.5410 - accuracy: 0.7350 - val_loss: 0.5434 - val_accuracy: 0.7346\n",
      "Epoch 59/100\n",
      "686/686 [==============================] - 1s 864us/step - loss: 0.5421 - accuracy: 0.7340 - val_loss: 0.5444 - val_accuracy: 0.7334\n",
      "Epoch 60/100\n",
      "686/686 [==============================] - 1s 830us/step - loss: 0.5398 - accuracy: 0.7372 - val_loss: 0.5479 - val_accuracy: 0.7326\n",
      "Epoch 61/100\n",
      "686/686 [==============================] - 1s 865us/step - loss: 0.5447 - accuracy: 0.7330 - val_loss: 0.5507 - val_accuracy: 0.7267\n",
      "Epoch 62/100\n",
      "686/686 [==============================] - 1s 803us/step - loss: 0.5422 - accuracy: 0.7352 - val_loss: 0.5464 - val_accuracy: 0.7335\n",
      "Epoch 63/100\n",
      "686/686 [==============================] - 1s 899us/step - loss: 0.5384 - accuracy: 0.7389 - val_loss: 0.5478 - val_accuracy: 0.7308\n",
      "Epoch 64/100\n",
      "686/686 [==============================] - 1s 838us/step - loss: 0.5448 - accuracy: 0.7340 - val_loss: 0.5426 - val_accuracy: 0.7337\n",
      "Epoch 65/100\n",
      "686/686 [==============================] - 1s 828us/step - loss: 0.5423 - accuracy: 0.7343 - val_loss: 0.5453 - val_accuracy: 0.7341\n",
      "Epoch 66/100\n",
      "686/686 [==============================] - 1s 830us/step - loss: 0.5438 - accuracy: 0.7328 - val_loss: 0.5493 - val_accuracy: 0.7324\n",
      "Epoch 67/100\n",
      "686/686 [==============================] - 1s 829us/step - loss: 0.5433 - accuracy: 0.7339 - val_loss: 0.5455 - val_accuracy: 0.7317\n",
      "Epoch 68/100\n",
      "686/686 [==============================] - 1s 839us/step - loss: 0.5421 - accuracy: 0.7325 - val_loss: 0.5513 - val_accuracy: 0.7287\n",
      "Epoch 69/100\n",
      "686/686 [==============================] - 1s 1ms/step - loss: 0.5441 - accuracy: 0.7305 - val_loss: 0.5482 - val_accuracy: 0.7320\n",
      "Epoch 70/100\n",
      "686/686 [==============================] - 1s 1ms/step - loss: 0.5409 - accuracy: 0.7360 - val_loss: 0.5447 - val_accuracy: 0.7341\n",
      "Epoch 71/100\n",
      "686/686 [==============================] - 1s 872us/step - loss: 0.5423 - accuracy: 0.7343 - val_loss: 0.5450 - val_accuracy: 0.7357\n",
      "Epoch 72/100\n",
      "686/686 [==============================] - 1s 886us/step - loss: 0.5450 - accuracy: 0.7332 - val_loss: 0.5487 - val_accuracy: 0.7319\n",
      "Epoch 73/100\n",
      "686/686 [==============================] - 1s 836us/step - loss: 0.5421 - accuracy: 0.7330 - val_loss: 0.5536 - val_accuracy: 0.7324\n",
      "Epoch 74/100\n",
      "686/686 [==============================] - 1s 844us/step - loss: 0.5450 - accuracy: 0.7359 - val_loss: 0.5462 - val_accuracy: 0.7330\n",
      "Epoch 75/100\n",
      "686/686 [==============================] - 1s 824us/step - loss: 0.5424 - accuracy: 0.7340 - val_loss: 0.5484 - val_accuracy: 0.7300\n",
      "Epoch 76/100\n",
      "686/686 [==============================] - 1s 908us/step - loss: 0.5440 - accuracy: 0.7336 - val_loss: 0.5460 - val_accuracy: 0.7334\n",
      "Epoch 77/100\n",
      "686/686 [==============================] - 1s 1ms/step - loss: 0.5455 - accuracy: 0.7314 - val_loss: 0.5503 - val_accuracy: 0.7323\n",
      "Epoch 78/100\n",
      "686/686 [==============================] - 1s 1ms/step - loss: 0.5408 - accuracy: 0.7361 - val_loss: 0.5462 - val_accuracy: 0.7331\n",
      "Epoch 79/100\n",
      "686/686 [==============================] - 1s 951us/step - loss: 0.5422 - accuracy: 0.7351 - val_loss: 0.5557 - val_accuracy: 0.7283\n",
      "Epoch 80/100\n",
      "686/686 [==============================] - 1s 926us/step - loss: 0.5414 - accuracy: 0.7331 - val_loss: 0.5472 - val_accuracy: 0.7348\n",
      "Epoch 81/100\n",
      "686/686 [==============================] - 1s 816us/step - loss: 0.5436 - accuracy: 0.7335 - val_loss: 0.5445 - val_accuracy: 0.7353\n",
      "Epoch 82/100\n",
      "686/686 [==============================] - 1s 855us/step - loss: 0.5482 - accuracy: 0.7297 - val_loss: 0.5480 - val_accuracy: 0.7317\n",
      "Epoch 83/100\n",
      "686/686 [==============================] - 1s 923us/step - loss: 0.5474 - accuracy: 0.7315 - val_loss: 0.5593 - val_accuracy: 0.7304\n",
      "Epoch 84/100\n",
      "686/686 [==============================] - 1s 823us/step - loss: 0.5459 - accuracy: 0.7328 - val_loss: 0.5505 - val_accuracy: 0.7339\n",
      "Epoch 85/100\n",
      "686/686 [==============================] - 1s 844us/step - loss: 0.5478 - accuracy: 0.7308 - val_loss: 0.5459 - val_accuracy: 0.7328\n",
      "Epoch 86/100\n",
      "686/686 [==============================] - 1s 997us/step - loss: 0.5421 - accuracy: 0.7344 - val_loss: 0.5471 - val_accuracy: 0.7337\n",
      "Epoch 87/100\n",
      "686/686 [==============================] - 1s 1ms/step - loss: 0.5435 - accuracy: 0.7351 - val_loss: 0.5478 - val_accuracy: 0.7305\n",
      "Epoch 88/100\n",
      "686/686 [==============================] - 1s 1ms/step - loss: 0.5458 - accuracy: 0.7333 - val_loss: 0.5482 - val_accuracy: 0.7310\n",
      "Epoch 89/100\n",
      "686/686 [==============================] - 1s 872us/step - loss: 0.5476 - accuracy: 0.7309 - val_loss: 0.5541 - val_accuracy: 0.7305\n",
      "Epoch 90/100\n",
      "686/686 [==============================] - 1s 872us/step - loss: 0.5431 - accuracy: 0.7361 - val_loss: 0.5460 - val_accuracy: 0.7356\n",
      "Epoch 91/100\n",
      "686/686 [==============================] - 1s 838us/step - loss: 0.5426 - accuracy: 0.7361 - val_loss: 0.5484 - val_accuracy: 0.7327\n",
      "Epoch 92/100\n",
      "686/686 [==============================] - 1s 837us/step - loss: 0.5450 - accuracy: 0.7302 - val_loss: 0.5556 - val_accuracy: 0.7294\n",
      "Epoch 93/100\n",
      "686/686 [==============================] - 1s 858us/step - loss: 0.5454 - accuracy: 0.7325 - val_loss: 0.5474 - val_accuracy: 0.7327\n",
      "Epoch 94/100\n",
      "686/686 [==============================] - 1s 832us/step - loss: 0.5493 - accuracy: 0.7290 - val_loss: 0.5625 - val_accuracy: 0.7222\n",
      "Epoch 95/100\n",
      "686/686 [==============================] - 1s 873us/step - loss: 0.5457 - accuracy: 0.7303 - val_loss: 0.5649 - val_accuracy: 0.7265\n",
      "Epoch 96/100\n",
      "686/686 [==============================] - 1s 810us/step - loss: 0.5453 - accuracy: 0.7323 - val_loss: 0.5498 - val_accuracy: 0.7332\n",
      "Epoch 97/100\n",
      "686/686 [==============================] - 1s 932us/step - loss: 0.5416 - accuracy: 0.7356 - val_loss: 0.5585 - val_accuracy: 0.7294\n",
      "Epoch 98/100\n",
      "686/686 [==============================] - 1s 790us/step - loss: 0.5435 - accuracy: 0.7346 - val_loss: 0.5493 - val_accuracy: 0.7345\n",
      "Epoch 99/100\n",
      "686/686 [==============================] - 1s 849us/step - loss: 0.5428 - accuracy: 0.7346 - val_loss: 0.5550 - val_accuracy: 0.7277\n",
      "Epoch 100/100\n",
      "686/686 [==============================] - 1s 847us/step - loss: 0.5411 - accuracy: 0.7374 - val_loss: 0.5502 - val_accuracy: 0.7327\n"
     ]
    }
   ],
   "source": [
    "hist = model3.fit(X_train, Y_train,\n",
    "          batch_size=70, epochs=100,\n",
    "          validation_data=(X_val, Y_val))"
   ]
  },
  {
   "cell_type": "code",
   "execution_count": 558,
   "metadata": {},
   "outputs": [
    {
     "name": "stdout",
     "output_type": "stream",
     "text": [
      "322/322 [==============================] - 0s 518us/step - loss: 0.5475 - accuracy: 0.7326\n"
     ]
    },
    {
     "data": {
      "text/plain": [
       "0.7325615286827087"
      ]
     },
     "execution_count": 558,
     "metadata": {},
     "output_type": "execute_result"
    }
   ],
   "source": [
    "model3.evaluate(X_test, Y_test)[1]"
   ]
  },
  {
   "cell_type": "markdown",
   "metadata": {
    "id": "TyssgaDE4iXU"
   },
   "source": [
    "# Visualizing Loss and Accuracy of RMSprop"
   ]
  },
  {
   "cell_type": "code",
   "execution_count": 559,
   "metadata": {},
   "outputs": [
    {
     "data": {
      "text/plain": [
       "Text(0.5, 1.0, 'Density curve of norm of gradients from RMSprop')"
      ]
     },
     "execution_count": 559,
     "metadata": {},
     "output_type": "execute_result"
    },
    {
     "data": {
      "image/png": "[encoded data removed]",
      "text/plain": [
       "<Figure size 720x360 with 1 Axes>"
      ]
     },
     "metadata": {},
     "output_type": "display_data"
    }
   ],
   "source": [
    "def gradient(model, x):\n",
    "    x_tensor = tf.convert_to_tensor(x, dtype=tf.float32)\n",
    "    with tf.GradientTape() as t:\n",
    "        t.watch(x_tensor)\n",
    "        loss = model(x_tensor)\n",
    "    return t.gradient(loss, x_tensor).numpy()\n",
    "l = gradient(model3 , X_train)\n",
    "grad = []\n",
    "for i in l :\n",
    "  \n",
    "  grad.append(np.linalg.norm(i))\n",
    "plt.figure(figsize= (10,5))\n",
    "sns.kdeplot(grad , fill=True )\n",
    "plt.title(\"Density curve of norm of gradients from RMSprop\")"
   ]
  },
  {
   "cell_type": "code",
   "execution_count": 560,
   "metadata": {
    "colab": {
     "base_uri": "https://localhost:8080/",
     "height": 295
    },
    "id": "It0codw44QNn",
    "outputId": "0786f3be-65bf-458a-e79a-90a6db28c731"
   },
   "outputs": [
    {
     "data": {
      "image/png": "[encoded data removed]",
      "text/plain": [
       "<Figure size 1080x576 with 1 Axes>"
      ]
     },
     "metadata": {},
     "output_type": "display_data"
    }
   ],
   "source": [
    "plt.figure(figsize=(15,8))\n",
    "plt.plot(hist.history['loss'])\n",
    "plt.plot(hist.history['val_loss'])\n",
    "plt.title('Model loss')\n",
    "plt.ylabel('Loss')\n",
    "plt.xlabel('Epoch')\n",
    "plt.legend(['Train', 'Val'], loc='upper right')\n",
    "plt.show()"
   ]
  },
  {
   "cell_type": "code",
   "execution_count": 561,
   "metadata": {},
   "outputs": [
    {
     "data": {
      "image/png": "[encoded data removed]",
      "text/plain": [
       "<Figure size 1080x576 with 1 Axes>"
      ]
     },
     "metadata": {},
     "output_type": "display_data"
    }
   ],
   "source": [
    "plt.figure(figsize=(15,8))\n",
    "plt.plot(hist.history['accuracy'])\n",
    "plt.plot(hist.history['val_accuracy'])\n",
    "plt.title('Model accuracy')\n",
    "plt.ylabel('Accuracy')\n",
    "plt.xlabel('Epoch')\n",
    "plt.legend(['Train', 'Val'], loc='lower right')\n",
    "plt.show()"
   ]
  },
  {
   "cell_type": "markdown",
   "metadata": {
    "id": "Unn0MYRm8w4k"
   },
   "source": [
    "# OPTIMIZER : Adam\n",
    "Adam optimization algorithm is an extension to stochastic gradient descent. It was presented in 2015.The name **Adam** is derived from **Adaptive moment estimation**.The authors describe Adam as combining the advantages of SGD with momentum and RMSprop.\n",
    "\n",
    "Adam is another method that computes adaptive step size for each parameter. It uses both the decaying average of history gradients and their squared values. Adam update rule consists of the\n",
    "following steps:\n",
    "\n",
    "$$m_{k} = β_{1}m_{k−1} + (1 − β_{1})∆f(x_{k})$$\n",
    "$$v_{k} = β_{2}v_{k−1} + (1 − β_{2})∆f(x_{k})^{2}$$\n",
    "$$mˆ_{k} = \\frac{m_{k}}{1 − β_{k}^{1}} ;\\;\\; vˆ_{k} = \\frac{v_{k}}{1 − β_{k}^{2}}$$\n",
    "$$x_{k+1} = x_{k} − \\frac{t}{\\sqrt{vˆ_{k} + ε}}mˆ_{k}$$\n",
    "\n",
    "where β1 can be 0.9, β2 can be 0.999, and ε can be 1e − 8.\n",
    "\n",
    "Instead of adapting the parameter learning rates based on the average first moment (the mean) as in RMSProp, Adam also makes use of the average of the second moments of the gradients (the uncentered variance)."
   ]
  },
  {
   "cell_type": "code",
   "execution_count": 562,
   "metadata": {
    "colab": {
     "base_uri": "https://localhost:8080/"
    },
    "id": "GxAEf5JR8w4l",
    "outputId": "11add9b9-8878-414a-9045-245d0d690c95"
   },
   "outputs": [
    {
     "name": "stdout",
     "output_type": "stream",
     "text": [
      "Epoch 1/50\n",
      "686/686 [==============================] - 2s 1ms/step - loss: 0.6307 - accuracy: 0.6388 - val_loss: 0.5652 - val_accuracy: 0.7237\n",
      "Epoch 2/50\n",
      "686/686 [==============================] - 1s 1ms/step - loss: 0.5582 - accuracy: 0.7236 - val_loss: 0.5552 - val_accuracy: 0.7312\n",
      "Epoch 3/50\n",
      "686/686 [==============================] - 1s 1ms/step - loss: 0.5526 - accuracy: 0.7291 - val_loss: 0.5549 - val_accuracy: 0.7282\n",
      "Epoch 4/50\n",
      "686/686 [==============================] - 1s 1ms/step - loss: 0.5537 - accuracy: 0.7267 - val_loss: 0.5498 - val_accuracy: 0.7331\n",
      "Epoch 5/50\n",
      "686/686 [==============================] - 1s 941us/step - loss: 0.5563 - accuracy: 0.7227 - val_loss: 0.5494 - val_accuracy: 0.7307\n",
      "Epoch 6/50\n",
      "686/686 [==============================] - 1s 887us/step - loss: 0.5486 - accuracy: 0.7323 - val_loss: 0.5502 - val_accuracy: 0.7324\n",
      "Epoch 7/50\n",
      "686/686 [==============================] - 1s 927us/step - loss: 0.5470 - accuracy: 0.7303 - val_loss: 0.5522 - val_accuracy: 0.7303\n",
      "Epoch 8/50\n",
      "686/686 [==============================] - 1s 947us/step - loss: 0.5500 - accuracy: 0.7302 - val_loss: 0.5480 - val_accuracy: 0.7322\n",
      "Epoch 9/50\n",
      "686/686 [==============================] - 1s 949us/step - loss: 0.5485 - accuracy: 0.7313 - val_loss: 0.5520 - val_accuracy: 0.7282\n",
      "Epoch 10/50\n",
      "686/686 [==============================] - 1s 974us/step - loss: 0.5482 - accuracy: 0.7288 - val_loss: 0.5465 - val_accuracy: 0.7323\n",
      "Epoch 11/50\n",
      "686/686 [==============================] - 1s 1ms/step - loss: 0.5487 - accuracy: 0.7301 - val_loss: 0.5472 - val_accuracy: 0.7299\n",
      "Epoch 12/50\n",
      "686/686 [==============================] - 1s 1ms/step - loss: 0.5458 - accuracy: 0.7326 - val_loss: 0.5470 - val_accuracy: 0.7326\n",
      "Epoch 13/50\n",
      "686/686 [==============================] - 1s 1ms/step - loss: 0.5462 - accuracy: 0.7317 - val_loss: 0.5464 - val_accuracy: 0.7330\n",
      "Epoch 14/50\n",
      "686/686 [==============================] - 1s 915us/step - loss: 0.5478 - accuracy: 0.7298 - val_loss: 0.5452 - val_accuracy: 0.7341\n",
      "Epoch 15/50\n",
      "686/686 [==============================] - 1s 925us/step - loss: 0.5407 - accuracy: 0.7363 - val_loss: 0.5465 - val_accuracy: 0.7318\n",
      "Epoch 16/50\n",
      "686/686 [==============================] - 1s 925us/step - loss: 0.5437 - accuracy: 0.7320 - val_loss: 0.5479 - val_accuracy: 0.7297\n",
      "Epoch 17/50\n",
      "686/686 [==============================] - 1s 1ms/step - loss: 0.5423 - accuracy: 0.7353 - val_loss: 0.5451 - val_accuracy: 0.7329\n",
      "Epoch 18/50\n",
      "686/686 [==============================] - 1s 1ms/step - loss: 0.5426 - accuracy: 0.7370 - val_loss: 0.5456 - val_accuracy: 0.7310\n",
      "Epoch 19/50\n",
      "686/686 [==============================] - 1s 990us/step - loss: 0.5397 - accuracy: 0.7367 - val_loss: 0.5489 - val_accuracy: 0.7296\n",
      "Epoch 20/50\n",
      "686/686 [==============================] - 1s 950us/step - loss: 0.5445 - accuracy: 0.7292 - val_loss: 0.5467 - val_accuracy: 0.7335\n",
      "Epoch 21/50\n",
      "686/686 [==============================] - 1s 887us/step - loss: 0.5433 - accuracy: 0.7335 - val_loss: 0.5449 - val_accuracy: 0.7333\n",
      "Epoch 22/50\n",
      "686/686 [==============================] - 1s 1ms/step - loss: 0.5410 - accuracy: 0.7334 - val_loss: 0.5466 - val_accuracy: 0.7289\n",
      "Epoch 23/50\n",
      "686/686 [==============================] - 1s 1ms/step - loss: 0.5410 - accuracy: 0.7359 - val_loss: 0.5441 - val_accuracy: 0.7341\n",
      "Epoch 24/50\n",
      "686/686 [==============================] - 1s 1ms/step - loss: 0.5412 - accuracy: 0.7345 - val_loss: 0.5447 - val_accuracy: 0.7318\n",
      "Epoch 25/50\n",
      "686/686 [==============================] - 1s 1ms/step - loss: 0.5407 - accuracy: 0.7366 - val_loss: 0.5449 - val_accuracy: 0.7341\n",
      "Epoch 26/50\n",
      "686/686 [==============================] - 1s 981us/step - loss: 0.5427 - accuracy: 0.7355 - val_loss: 0.5443 - val_accuracy: 0.7318\n",
      "Epoch 27/50\n",
      "686/686 [==============================] - 1s 892us/step - loss: 0.5390 - accuracy: 0.7383 - val_loss: 0.5441 - val_accuracy: 0.7314\n",
      "Epoch 28/50\n",
      "686/686 [==============================] - 1s 900us/step - loss: 0.5403 - accuracy: 0.7320 - val_loss: 0.5453 - val_accuracy: 0.7345\n",
      "Epoch 29/50\n",
      "686/686 [==============================] - 1s 965us/step - loss: 0.5477 - accuracy: 0.7300 - val_loss: 0.5472 - val_accuracy: 0.7309\n",
      "Epoch 30/50\n",
      "686/686 [==============================] - 1s 1ms/step - loss: 0.5439 - accuracy: 0.7336 - val_loss: 0.5459 - val_accuracy: 0.7302\n",
      "Epoch 31/50\n",
      "686/686 [==============================] - 1s 1ms/step - loss: 0.5409 - accuracy: 0.7349 - val_loss: 0.5440 - val_accuracy: 0.7337\n",
      "Epoch 32/50\n",
      "686/686 [==============================] - 1s 977us/step - loss: 0.5433 - accuracy: 0.7342 - val_loss: 0.5435 - val_accuracy: 0.7322\n",
      "Epoch 33/50\n",
      "686/686 [==============================] - 1s 997us/step - loss: 0.5392 - accuracy: 0.7364 - val_loss: 0.5456 - val_accuracy: 0.7326\n",
      "Epoch 34/50\n",
      "686/686 [==============================] - 1s 900us/step - loss: 0.5402 - accuracy: 0.7371 - val_loss: 0.5476 - val_accuracy: 0.7320\n",
      "Epoch 35/50\n",
      "686/686 [==============================] - 1s 886us/step - loss: 0.5423 - accuracy: 0.7341 - val_loss: 0.5439 - val_accuracy: 0.7344\n",
      "Epoch 36/50\n",
      "686/686 [==============================] - 1s 904us/step - loss: 0.5418 - accuracy: 0.7355 - val_loss: 0.5441 - val_accuracy: 0.7332\n",
      "Epoch 37/50\n",
      "686/686 [==============================] - 1s 889us/step - loss: 0.5409 - accuracy: 0.7352 - val_loss: 0.5434 - val_accuracy: 0.7341\n",
      "Epoch 38/50\n",
      "686/686 [==============================] - 1s 951us/step - loss: 0.5398 - accuracy: 0.7351 - val_loss: 0.5489 - val_accuracy: 0.7296\n",
      "Epoch 39/50\n",
      "686/686 [==============================] - 1s 1ms/step - loss: 0.5375 - accuracy: 0.7378 - val_loss: 0.5451 - val_accuracy: 0.7343\n",
      "Epoch 40/50\n",
      "686/686 [==============================] - 1s 1ms/step - loss: 0.5419 - accuracy: 0.7322 - val_loss: 0.5454 - val_accuracy: 0.7324\n",
      "Epoch 41/50\n",
      "686/686 [==============================] - 1s 1ms/step - loss: 0.5375 - accuracy: 0.7384 - val_loss: 0.5444 - val_accuracy: 0.7348\n",
      "Epoch 42/50\n",
      "686/686 [==============================] - 1s 1ms/step - loss: 0.5373 - accuracy: 0.7379 - val_loss: 0.5432 - val_accuracy: 0.7333\n",
      "Epoch 43/50\n",
      "686/686 [==============================] - 1s 1ms/step - loss: 0.5419 - accuracy: 0.7338 - val_loss: 0.5448 - val_accuracy: 0.7329\n",
      "Epoch 44/50\n",
      "686/686 [==============================] - 1s 1ms/step - loss: 0.5470 - accuracy: 0.7312 - val_loss: 0.5448 - val_accuracy: 0.7302\n",
      "Epoch 45/50\n",
      "686/686 [==============================] - 1s 1ms/step - loss: 0.5433 - accuracy: 0.7345 - val_loss: 0.5435 - val_accuracy: 0.7324\n",
      "Epoch 46/50\n",
      "686/686 [==============================] - 1s 1ms/step - loss: 0.5400 - accuracy: 0.7346 - val_loss: 0.5435 - val_accuracy: 0.7323\n",
      "Epoch 47/50\n",
      "686/686 [==============================] - 1s 972us/step - loss: 0.5396 - accuracy: 0.7364 - val_loss: 0.5439 - val_accuracy: 0.7345\n",
      "Epoch 48/50\n",
      "686/686 [==============================] - 1s 1ms/step - loss: 0.5412 - accuracy: 0.7361 - val_loss: 0.5438 - val_accuracy: 0.7352\n",
      "Epoch 49/50\n",
      "686/686 [==============================] - 1s 1ms/step - loss: 0.5428 - accuracy: 0.7346 - val_loss: 0.5430 - val_accuracy: 0.7327\n",
      "Epoch 50/50\n",
      "686/686 [==============================] - 1s 953us/step - loss: 0.5387 - accuracy: 0.7350 - val_loss: 0.5431 - val_accuracy: 0.7344\n"
     ]
    }
   ],
   "source": [
    "adam = tf.keras.optimizers.Adam(\n",
    "    learning_rate=0.01,\n",
    "    beta_1=0.9, \n",
    "    beta_2=0.999, \n",
    "    epsilon=1e-07, \n",
    "    amsgrad=False,\n",
    "    name=\"adam\",\n",
    ")\n",
    "model2 = Sequential([\n",
    "    Dense(13, activation='relu', input_shape=(13,)),\n",
    "    Dense(28, activation='relu'),\n",
    "    Dense(28, activation='relu'),\n",
    "    Dense(1, activation='sigmoid'),\n",
    "])\n",
    "model2.compile(optimizer='adam',\n",
    "              loss='binary_crossentropy',\n",
    "              metrics=['accuracy'])\n",
    "hist_2 = model2.fit(X_train, Y_train,\n",
    "          batch_size=70, epochs=50,\n",
    "          validation_data=(X_val, Y_val))"
   ]
  },
  {
   "cell_type": "markdown",
   "metadata": {
    "id": "UPtDbHPP8w4l"
   },
   "source": [
    "Let's do the same visualization to see what overfitting looks like in terms of the loss and accuracy."
   ]
  },
  {
   "cell_type": "code",
   "execution_count": 563,
   "metadata": {},
   "outputs": [
    {
     "name": "stdout",
     "output_type": "stream",
     "text": [
      "322/322 [==============================] - 0s 464us/step - loss: 0.5416 - accuracy: 0.7296\n"
     ]
    },
    {
     "data": {
      "text/plain": [
       "0.7296429872512817"
      ]
     },
     "execution_count": 563,
     "metadata": {},
     "output_type": "execute_result"
    }
   ],
   "source": [
    "model2.evaluate(X_test, Y_test)[1]"
   ]
  },
  {
   "cell_type": "code",
   "execution_count": 564,
   "metadata": {},
   "outputs": [
    {
     "data": {
      "text/plain": [
       "Text(0.5, 1.0, 'Density curve of norm of gradients from Adam')"
      ]
     },
     "execution_count": 564,
     "metadata": {},
     "output_type": "execute_result"
    },
    {
     "data": {
      "image/png": "[encoded data removed]",
      "text/plain": [
       "<Figure size 720x360 with 1 Axes>"
      ]
     },
     "metadata": {},
     "output_type": "display_data"
    }
   ],
   "source": [
    "def gradient(model, x):\n",
    "    x_tensor = tf.convert_to_tensor(x, dtype=tf.float32)\n",
    "    with tf.GradientTape() as t:\n",
    "        t.watch(x_tensor)\n",
    "        loss = model(x_tensor)\n",
    "    return t.gradient(loss, x_tensor).numpy()\n",
    "l = gradient(model2 , X_train)\n",
    "grad = []\n",
    "for i in l :\n",
    "  \n",
    "  grad.append(np.linalg.norm(i))\n",
    "plt.figure(figsize= (10,5))\n",
    "sns.kdeplot(grad , fill=True )\n",
    "plt.title(\"Density curve of norm of gradients from Adam\")"
   ]
  },
  {
   "cell_type": "code",
   "execution_count": 565,
   "metadata": {
    "colab": {
     "base_uri": "https://localhost:8080/",
     "height": 295
    },
    "id": "zxwqEXLt8w4l",
    "outputId": "83e9ac71-49c9-4246-992e-b6e9cb5f9470"
   },
   "outputs": [
    {
     "data": {
      "image/png": "[encoded data removed]",
      "text/plain": [
       "<Figure size 1080x576 with 1 Axes>"
      ]
     },
     "metadata": {},
     "output_type": "display_data"
    }
   ],
   "source": [
    "plt.figure(figsize=(15,8))\n",
    "plt.plot(hist_2.history['loss'])\n",
    "plt.plot(hist_2.history['val_loss'])\n",
    "plt.title('Model loss')\n",
    "plt.ylabel('Loss')\n",
    "plt.xlabel('Epoch')\n",
    "plt.legend(['Train', 'Val'], loc='upper right')\n",
    "plt.show()"
   ]
  },
  {
   "cell_type": "code",
   "execution_count": 566,
   "metadata": {
    "colab": {
     "base_uri": "https://localhost:8080/",
     "height": 295
    },
    "id": "XeHkQQSR8w4l",
    "outputId": "68b37eda-d88b-4e3b-cb0e-1b329fff661c"
   },
   "outputs": [
    {
     "data": {
      "image/png": "[encoded data removed]",
      "text/plain": [
       "<Figure size 432x288 with 1 Axes>"
      ]
     },
     "metadata": {},
     "output_type": "display_data"
    }
   ],
   "source": [
    "plt.plot(hist_2.history['accuracy'])\n",
    "plt.plot(hist_2.history['val_accuracy'])\n",
    "plt.title('Model accuracy')\n",
    "plt.ylabel('Accuracy')\n",
    "plt.xlabel('Epoch')\n",
    "plt.legend(['Train', 'Val'], loc='lower right')\n",
    "plt.show()"
   ]
  },
  {
   "cell_type": "markdown",
   "metadata": {},
   "source": [
    "## CONCLUSION:\n",
    "Vanilla SGD with a learning rate of 0.01 is enough for this training of cardiovascular dataset. We donot need RMSprop or Adam."
   ]
  },
  {
   "cell_type": "code",
   "execution_count": null,
   "metadata": {},
   "outputs": [],
   "source": []
  }
 ],
 "metadata": {
  "colab": {
   "collapsed_sections": [],
   "name": "optal_housuing_price.ipynb",
   "provenance": []
  },
  "kernelspec": {
   "display_name": "Python 3",
   "language": "python",
   "name": "python3"
  },
  "language_info": {
   "codemirror_mode": {
    "name": "ipython",
    "version": 3
   },
   "file_extension": ".py",
   "mimetype": "text/x-python",
   "name": "python",
   "nbconvert_exporter": "python",
   "pygments_lexer": "ipython3",
   "version": "3.8.5"
  }
 },
 "nbformat": 4,
 "nbformat_minor": 1
}
